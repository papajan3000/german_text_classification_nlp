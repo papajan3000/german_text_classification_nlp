{
 "cells": [
  {
   "cell_type": "markdown",
   "metadata": {},
   "source": [
    "# Kapitel 0 - Bevor wir starten"
   ]
  },
  {
   "cell_type": "markdown",
   "metadata": {},
   "source": [
    "Gliederung, einführende Worte"
   ]
  },
  {
   "cell_type": "markdown",
   "metadata": {},
   "source": [
    "## Motivation"
   ]
  },
  {
   "cell_type": "markdown",
   "metadata": {},
   "source": [
    "TODO"
   ]
  },
  {
   "cell_type": "markdown",
   "metadata": {},
   "source": [
    "## An wen ist diese Tutorial Reihe gerichtet?"
   ]
  },
  {
   "cell_type": "markdown",
   "metadata": {},
   "source": [
    "Diese Tutorial-Reihe richtet sich primär an Studierende der <b>Digital Humanities</b>, die bereits einen Bachelor-Abschluss oder Vorwissen in den Digital Humanities haben. Weiterhin könnte diese Reihe auch für Master-Studierende der <b>Digital Humanities</b> von Interesse sein, die eine Wiederholung von Methoden der Textklassifikation benötigen oder sich zu Beginn ihres Masterstudiums auf dieses vorbereiten möchten.<br>\n",
    "Eine weitere Interessengruppe könnten auch Studierende der <b>Informatik</b>, der <b>Mensch-Computer-Systeme (BA)</b> oder der <b>Human-Computer-Interaction (MA)</b>, der <b>Wirtschaftsinformatik</b>, dem <b>Games-Engineering</b> oder einem anderen Studiengang, der Verfahren und Methoden der Informatik nutzt. Vor allem Masterstudierende dieser Studiengänge werden meist Veranstaltungen wie <i>\"Information Retrieval\"</i>, <i>\"Machine Learning\"</i> oder <i>\"Deep Learning\"</i> angeboten, bei denen auch Textklassifikationsverfahren eine Rolle spielen (AF?). (MEHR, BEISPIEL: SVM (BUCH IR VERLINKEN? ANMERKEN, DASS WENIGER MATHEMATISCH UND VLLT TEILWEISE ZU \"LEICHT\")<br>\n",
    "Zuletzt ist diese Tutorial-Reihe natürlich auch für all Diejenigen (?), die nicht Teil der oben genannten Gruppen sind, sich aber aus persönlichen Gründen (??) für das Thema \"Textklassifikation\" interessieren."
   ]
  },
  {
   "cell_type": "markdown",
   "metadata": {},
   "source": [
    "## Welches Vorwissen wird vorausgesetzt?"
   ]
  },
  {
   "cell_type": "markdown",
   "metadata": {},
   "source": [
    "Diese Tutorial-Reihe setzt einiges an Vorwissen voraus (AF). Es wird davon ausgegangen, dass sich der Lesende Wissen über ... selber aneignen kann (in vielen Fällen werden Links zu anderen Tutorials, wissenschaftlichen Aufsätzen o.ä.) bereitgestellt. Viele Beschreibungen von Verfahren erheben auch nicht den Anspruch, eine allumfassende Erklärung (?) der Verfahren und Methoden zu sein. Vielmehr soll es sich um eine Einführung handeln, welche Grundlegendes erklärt und somit einen Grundstein für den Lesenden legt, sich weiterführend mit dem Thema zu beschäftigen."
   ]
  },
  {
   "cell_type": "markdown",
   "metadata": {},
   "source": [
    "### Vorwissen in der Programmiersprache \"Python 3\""
   ]
  },
  {
   "cell_type": "markdown",
   "metadata": {},
   "source": [
    "1. <b>grundlegende Vorkenntnisse in Python 3 und der Programmierung (?)</b>\n",
    "    - Datentypen, Operatoren, Ausdrücke\n",
    "    - grundlegende Datenstrukturen (Listen, Dictionaries, Tupel)\n",
    "    - Bedingte Anweisung (if, elif, else)\n",
    "    - Schleifen (for, while)\n",
    "    - Funktionen\n",
    "    - Module<br><br>\n",
    "    Sollte dieses Vorwissen nicht präsent sein oder müsste aufgefrischt werden, ist ein Tutorial in Python 3 zwingend erforderlich. Python 3 Tutorials gibt es wie Sand am Meer, weswegen der Lesende sich selbst auf die Suche nach eines für ihn relevanten und ansprechenden Tutorial begeben sollte. Eine persönliche Empfehlung wäre der englische Udacity Kurs zu Python 3 (https://eu.udacity.com/course/intro-to-computer-science--cs101), wenn keine Möglichkeit besteht, einen Python-Kurs an einer Universität zu besuchen.<br>\n",
    "Sollte bereits Vorwissen in Python 2 bestehen, könnte folgende Übersicht für einen Wechsel zu Python 3 höchstwahrscheinlich ausreichen: http://ptgmedia.pearsoncmg.com/imprint_downloads/informit/promotions/python/python2python3.pdf.<br>\n",
    "\n",
    "\n",
    "2. <b>Funktionsweise von Jupyter-Notebooks</b><br>\n",
    "\n",
    "    Da dieses Tutorial ausschließlich in Jupyter-Notebooks verfasst worden ist, ist grundlegendes Vorwissen über die Benutzung von Jupyter-Notebooks unabdingbar. Eine gute Einführung bietet folgender Artikel: https://www.dataquest.io/blog/jupyter-notebook-tutorial/ (bis zum Abschnitt \"Investigating our dataset\", ab da werden die Python-Module \"pandas\" und \"matplotlib\" vorausgesetzt).<br>\n",
    "    \n",
    "    \n",
    "3. <b>Grundlegende Benutzung von github</b><br>\n",
    "\n",
    "    TODO:\n",
    "    \n",
    "    \n",
    "TODO:\n",
    "- virtual env?\n",
    "- pandas, matplotlib?\n",
    "- sci-kit learn?\n",
    "    \n"
   ]
  },
  {
   "cell_type": "markdown",
   "metadata": {},
   "source": [
    "### Vorwissen mit Umgang von Dokumentationen, Wissenslücken und Fehlercodes"
   ]
  },
  {
   "cell_type": "markdown",
   "metadata": {},
   "source": [
    "- stack overflow\n",
    "- API und documentations lesen\n",
    "\n",
    "<b>Fehlercodes</b><br>\n",
    "\n",
    "Sollte ein Programm oder eine Juypter-Notebook-Zelle mal nicht richtig ausgeführt werden und ein Fehler ausgegeben werden, hilft zu 90% der Fälle die Internetplattform <b> Stack Overflow</b> weiter (https://stackoverflow.com/). Weiterhin hilft eine Suche bei der Suchmaschine der Wahl (worüber man auch oft zu Stack Overflow gelangt). Dafür ist jedoch wichtig, dass man den richtigen Teil seiner Fehlermeldung als Eingabe nimmt (meistens der letzte Teil der Meldung). TODO: Dokumentationen\n"
   ]
  },
  {
   "cell_type": "markdown",
   "metadata": {},
   "source": []
  },
  {
   "cell_type": "markdown",
   "metadata": {},
   "source": [
    "## Umgang mit den Jupyter-Notebooks"
   ]
  },
  {
   "cell_type": "code",
   "execution_count": null,
   "metadata": {},
   "outputs": [],
   "source": []
  },
  {
   "cell_type": "code",
   "execution_count": null,
   "metadata": {},
   "outputs": [],
   "source": []
  },
  {
   "cell_type": "markdown",
   "metadata": {},
   "source": [
    "TODO: kurz requirements installieren erklären mit virtualenv (als optional)"
   ]
  }
 ],
 "metadata": {
  "kernelspec": {
   "display_name": "Python 3",
   "language": "python",
   "name": "python3"
  },
  "language_info": {
   "codemirror_mode": {
    "name": "ipython",
    "version": 3
   },
   "file_extension": ".py",
   "mimetype": "text/x-python",
   "name": "python",
   "nbconvert_exporter": "python",
   "pygments_lexer": "ipython3",
   "version": "3.6.8"
  }
 },
 "nbformat": 4,
 "nbformat_minor": 2
}
