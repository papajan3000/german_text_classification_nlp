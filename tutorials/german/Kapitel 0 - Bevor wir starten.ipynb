{
 "cells": [
  {
   "cell_type": "markdown",
   "metadata": {},
   "source": [
    "# Kapitel 0 - Bevor wir starten"
   ]
  },
  {
   "cell_type": "markdown",
   "metadata": {},
   "source": [
    "Gliederung, einführende Worte"
   ]
  },
  {
   "cell_type": "markdown",
   "metadata": {},
   "source": [
    "## Motivation"
   ]
  },
  {
   "cell_type": "markdown",
   "metadata": {},
   "source": [
    "TODO"
   ]
  },
  {
   "cell_type": "markdown",
   "metadata": {},
   "source": [
    "## An wen ist diese Tutorial Reihe gerichtet?"
   ]
  },
  {
   "cell_type": "markdown",
   "metadata": {},
   "source": [
    "Diese Tutorial-Reihe richtet sich primär an Studierende der <b>Digital Humanities</b>, die bereits einen Bachelor-Abschluss oder Vorwissen in den Digital Humanities haben. Weiterhin könnte diese Reihe auch für Master-Studierende der <b>Digital Humanities</b> von Interesse sein, die eine Wiederholung von Methoden der Textklassifikation benötigen oder sich zu Beginn ihres Masterstudiums auf dieses vorbereiten möchten.<br>\n",
    "Eine weitere Interessengruppe könnten auch Studierende der <b>Informatik</b>, der <b>Mensch-Computer-Systeme (BA)</b> oder der <b>Human-Computer-Interaction (MA)</b>, der <b>Wirtschaftsinformatik</b>, dem <b>Games-Engineering</b> oder einem anderen Studiengang, der Verfahren und Methoden der Informatik nutzt. Vor allem Masterstudierende dieser Studiengänge werden meist Veranstaltungen wie <i>\"Information Retrieval\"</i>, <i>\"Machine Learning\"</i> oder <i>\"Deep Learning\"</i> angeboten, bei denen auch Textklassifikationsverfahren eine Rolle spielen (AF?). (MEHR, BEISPIEL: SVM (BUCH IR VERLINKEN? ANMERKEN, DASS WENIGER MATHEMATISCH UND VLLT TEILWEISE ZU \"LEICHT\")<br>\n",
    "Zuletzt ist diese Tutorial-Reihe natürlich auch für all Diejenigen (?), die nicht Teil der oben genannten Gruppen sind, sich aber aus persönlichen Gründen (??) für das Thema \"Textklassifikation\" interessieren."
   ]
  },
  {
   "cell_type": "markdown",
   "metadata": {},
   "source": [
    "## Welches Vorwissen wird vorausgesetzt?"
   ]
  },
  {
   "cell_type": "markdown",
   "metadata": {},
   "source": [
    "Diese Tutorial-Reihe setzt einiges an Vorwissen voraus (AF). Es wird davon ausgegangen, dass sich der Lesende Wissen über ... selber aneignen kann (in vielen Fällen werden Links zu anderen Tutorials, wissenschaftlichen Aufsätzen o.ä.) bereitgestellt. Viele Beschreibungen von Verfahren erheben auch nicht den Anspruch, eine allumfassende Erklärung (?) der Verfahren und Methoden zu sein. Vielmehr soll es sich um eine Einführung handeln, welche Grundlegendes erklärt und somit einen Grundstein für den Lesenden legt, sich weiterführend mit dem Thema zu beschäftigen."
   ]
  },
  {
   "cell_type": "markdown",
   "metadata": {},
   "source": [
    "### Vorwissen in der Programmiersprache \"Python 3\" & der Benutzung von Projekten"
   ]
  },
  {
   "cell_type": "markdown",
   "metadata": {},
   "source": [
    "1. <b>grundlegende Vorkenntnisse in Python 3 und der Programmierung (?)</b></br>\n",
    "    - Datentypen, Operatoren, Ausdrücke\n",
    "    - grundlegende Datenstrukturen (Listen, Dictionaries, Tupel)\n",
    "    - Bedingte Anweisung (if, elif, else)\n",
    "    - Schleifen (for, while)\n",
    "    - Funktionen\n",
    "    - Module<br><br>\n",
    "    Sollte dieses Vorwissen nicht präsent sein oder müsste aufgefrischt werden, ist ein Tutorial in Python 3 zwingend erforderlich. Python 3 Tutorials gibt es wie Sand am Meer, weswegen der Lesende sich selbst auf die Suche nach eines für ihn relevanten und ansprechenden Tutorial begeben sollte. Eine persönliche Empfehlung wäre der englische Udacity Kurs zu Python 3 (https://eu.udacity.com/course/intro-to-computer-science--cs101), wenn keine Möglichkeit besteht, einen Python-Kurs an einer Universität zu besuchen.<br>\n",
    "Sollte bereits Vorwissen in Python 2 bestehen, könnte folgende Übersicht für einen Wechsel zu Python 3 höchstwahrscheinlich ausreichen: http://ptgmedia.pearsoncmg.com/imprint_downloads/informit/promotions/python/python2python3.pdf.<br>\n",
    "\n",
    "\n",
    "2. <b>Funktionsweise von Jupyter-Notebooks</b><br>\n",
    "\n",
    "    Da dieses Tutorial ausschließlich in Jupyter-Notebooks verfasst worden ist, ist grundlegendes Vorwissen über die Benutzung von Jupyter-Notebooks unabdingbar. Eine gute Einführung bietet folgender Artikel: https://www.dataquest.io/blog/jupyter-notebook-tutorial/ (bis zum Abschnitt \"Investigating our dataset\", ab da werden die Python-Module \"pandas\" und \"matplotlib\" vorausgesetzt).<br>\n",
    "    \n",
    "    \n",
    "3. <b>Grundlegende Benutzung von github</b><br>\n",
    "\n",
    "    TODO:\n",
    "    \n",
    "\n",
    "4. <b>(Empfohlen) Grundlagenwissen der Pythonbibliotheken pandas, numpy und matplotlib</b>\n",
    "\n",
    "    <b>pandas</b> ist eine Pythonbibliothek, die für Datenmanipulation und -anaylse genutzt wird. Der Kern der <b>pandas</b>-Bibliothek sind die Datenstrukturen <b>DataFrame</b> und <b>Series</b>, mit der numerische Tabellen erzeugt, gefüllt und manipuliert werden können. In dieser Tutorial-Reihe werden ständig pandas-Dataframes genutzt, weswegen eine Aneignung des Grundlagenwissen stark empfohlen wird, da ansonsten nicht alle Vorgehensweisen nachvollzogen werden können. Eine sehr gute (deutsche) Einführung ist unter folgendem Link zu finden: https://www.python-kurs.eu/pandas.php . Sollte man bereits mit <b>pandas</b> gearbeitet haben und eine Auffrischung benötigen, ist der folgende Link, der die wichtigsten Funktionen von <b>pandas</b> kurz zusammenfasst, sehr hilfreich: https://pandas.pydata.org/pandas-docs/stable/getting_started/10min.html .\n",
    "    \n",
    "    <b>numpy</b> ist eine Pythonbibliothek, die mathematische Operationen effizient in Python ausführen kann. <b>pandas</b> basiert auf <b>numpy</b> und zusammen mit <b>scipy</b> (eine Erweiterung von numpy hinsichtlich der Leistungsfähigkeit von bestimmten mathematischen Operationen) und <b>matplotlib</b> werden diese vier Bibliotheken in Python als Ersatz für das weit verbreitete MATLAB genutzt, eine Software zur Lösung mathematischer Probleme, vorwiegend von der Berechnung von Matrizen. Mit <b>numpy</b> lassen sich ebenfalls Vektoren und Matrizen erstellen und berechnen. Dies ist auch für diese Tutorial-Reihe der primäre (?) Nutzen von <b>numpy</b>. Für unsere Zwecke reicht ein grundlegendes Verständnis von <b>numpy</b> aus, da zwar die meisten Anwendungen eine Menge der <b>numpy</b>-Bibliothek nutzen, wir aber uns weniger mit der Implementierung der Anwendungen interessieren, sondern vielmehr für die Nutzung und Anwendung. Für ein Grundverständnis sollte jedoch wenigstens die ersten paar Seiten des folgenden Tutorials verinnerlicht(?) werden: https://www.python-kurs.eu/numpy.php .\n",
    "    \n",
    "    <b>matplotlib</b> ist eine Pythonbibliothek zur Erstellung von Diagrammen und Darstellungen. Sie ist wichtig, um unsere Daten graphisch aufzuarbeiten. Eine Einführung gibt es hier: https://www.python-kurs.eu/matplotlib.php . Ansonsten können die meisten Befehle von <b>matplotlib</b> auch direkt aus dieser Tutorial-Reihe kopiert werden. Meiner Erfahrung nach reicht dies für die meisten Anwendungen aus, weitere Befehle werden entweder in diesem Tutorial kurz erläutert (TODO: überprüfen, ob stimmt) oder aber werden vom matplotlib-Tutorial nicht in ganzer Fülle abgedeckt, sodass man für bestimmte Anwendungsfälle in der matplotlib-Dokumentation nachgucken sollte.\n",
    "\n",
    "    \n",
    "\n",
    "\n",
    "5. <b>(Optional) Installation von Anaconda als IDE </b><br>\n",
    "    \n",
    "    TODO:\n",
    "\n",
    "\n",
    "6. <b>(Optional) Erstellen einer Virtual Environment</b><br>\n",
    "\n",
    "    Standardmäßig werden alle Python-Module, die über pip oder conda heruntergeladen werden, in die allgemeine Systemumgebung installiert. Für dieses Projekt ist es jedoch sinnvoll, eine <b>Virtual Environment</b> anzulegen und dann basierend auf der `requirements.txt` die von mir empfohlenen Module kompakt herunterzuladen. Vor allem bei der späteren Benutzung von Keras kann es zu Problemen mit der `numpy`-Version kommen, die man für eine Benutzung dann downgraden (?) muss. Dort ist es sinnvoll, die neuste `numpy`-Version nicht zu überschreiben, sondern die alte `numpy`-Version nur in der Virtual Environment zu downgraden (?). Ich selbst habe `conda` für die Erstellung einer Virtual Environment genutzt (wird hier erklärt:   https://uoa-eresearch.github.io/eresearch-cookbook/recipe/2014/11/20/conda/ ). Die Nutzung ist nicht kompliziert und wird im Folgenden kurz erläutert (angenommen, wir haben bereits eine Virtual Environment mit dem Namen <b>gnlp</b> angelegt, wie im erwähnten Link erklärt):\n",
    "    \n",
    "    ![title](tutorialdata/img/conda.png)\n",
    "    \n",
    "    Zuerst aktivieren wir die Virtual Environment <b>gnlp</b> mit `conda activate gnlp`. Wir können sehen, dass wir uns vor der Aktivierung in der`(base)`-Umgebung befanden und nach der Aktivierung in der `(gnlp)`-Umgebung. Dann navigieren wir in das Verzeichneis, in dem wir das github-Projekt gespeichert haben und installieren \n",
    "    mit pip (oder conda) die`requirements.txt`-Datei. Somit haben wir alle für die Tutorials relevanten Bibliotheken installiert. Mit `>>> conda deactivate` können wir bei Bedarf die Virtual Environment auch wieder deaktivieren.\n",
    "\n",
    "TODO:\n",
    "- pandas, matplotlib?\n",
    "- sci-kit learn?\n",
    "    \n"
   ]
  },
  {
   "cell_type": "markdown",
   "metadata": {},
   "source": [
    "### Vorwissen mit Umgang von Dokumentationen, Wissenslücken und Fehlercodes"
   ]
  },
  {
   "cell_type": "markdown",
   "metadata": {},
   "source": [
    "- stack overflow\n",
    "- API und documentations lesen\n",
    "\n",
    "<b>Fehlercodes</b><br>\n",
    "\n",
    "Sollte ein Programm oder eine Juypter-Notebook-Zelle mal nicht richtig ausgeführt werden und ein Fehler ausgegeben werden, hilft zu 90% der Fälle die Internetplattform <b> Stack Overflow</b> weiter (https://stackoverflow.com/). Weiterhin hilft eine Suche bei der Suchmaschine der Wahl (worüber man auch oft zu Stack Overflow gelangt). Dafür ist jedoch wichtig, dass man den richtigen Teil seiner Fehlermeldung als Eingabe nimmt (meistens der letzte Teil der Meldung). TODO: Dokumentationen\n"
   ]
  },
  {
   "cell_type": "markdown",
   "metadata": {},
   "source": []
  },
  {
   "cell_type": "markdown",
   "metadata": {},
   "source": [
    "## Umgang mit den Jupyter-Notebooks"
   ]
  },
  {
   "cell_type": "code",
   "execution_count": null,
   "metadata": {},
   "outputs": [],
   "source": []
  },
  {
   "cell_type": "code",
   "execution_count": null,
   "metadata": {},
   "outputs": [],
   "source": []
  },
  {
   "cell_type": "code",
   "execution_count": null,
   "metadata": {},
   "outputs": [],
   "source": []
  },
  {
   "cell_type": "code",
   "execution_count": null,
   "metadata": {},
   "outputs": [],
   "source": []
  },
  {
   "cell_type": "markdown",
   "metadata": {},
   "source": [
    "TODO: kurz requirements installieren erklären mit virtualenv (als optional)"
   ]
  },
  {
   "cell_type": "markdown",
   "metadata": {},
   "source": [
    "<u>Allgemeine Dinge, die erwähnt werden müssen</u>:\n",
    "- englische Begriffe werden bevorzugt vor deutschen benutzt, da meiste Literatur und Tutorials etc auf englisch. Deutsche Übersetzung verwirrt nur (ICH: bei Kapitel 0 Überschrift mit englischer Sprache?)\n",
    "- wenn englische Begriffe übersetzt werden, werden die Originalbegriffe in Klammern erwähnt "
   ]
  },
  {
   "cell_type": "code",
   "execution_count": null,
   "metadata": {},
   "outputs": [],
   "source": []
  }
 ],
 "metadata": {
  "kernelspec": {
   "display_name": "Python 3",
   "language": "python",
   "name": "python3"
  },
  "language_info": {
   "codemirror_mode": {
    "name": "ipython",
    "version": 3
   },
   "file_extension": ".py",
   "mimetype": "text/x-python",
   "name": "python",
   "nbconvert_exporter": "python",
   "pygments_lexer": "ipython3",
   "version": "3.6.8"
  }
 },
 "nbformat": 4,
 "nbformat_minor": 2
}
