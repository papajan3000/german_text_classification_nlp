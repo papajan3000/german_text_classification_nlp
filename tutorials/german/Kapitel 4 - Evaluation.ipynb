{
 "cells": [
  {
   "cell_type": "markdown",
   "metadata": {},
   "source": [
    "# Kapitel 4 - Evaluation"
   ]
  },
  {
   "cell_type": "markdown",
   "metadata": {},
   "source": [
    "..."
   ]
  },
  {
   "cell_type": "markdown",
   "metadata": {},
   "source": [
    "Bevor wir beginnen, die in Kapitel 1 ..\n",
    "\n",
    "Zu Beginn unseres Vergleichs der Textklassifizierungsverfahren stellt sich die Frage, woran wir messen können, dass ein Verfahren besser ist als ein anderes. Dazu brauchen wir bestimmte Bewertungskriterien. Eine Übersicht über die verschiedenen Bewertungskriterien, detaillierte Erläuterungen über deren Anwendungen und eine Einführung in die Evaluation von Textklassifizierungsergebnissen finden sich im nächsten Kapitel. (ICH: Evaluation vielleicht doch vorher?)<br>\n",
    "Für dieses Kapitel genügt es zunächst"
   ]
  }
 ],
 "metadata": {
  "kernelspec": {
   "display_name": "Python 3",
   "language": "python",
   "name": "python3"
  },
  "language_info": {
   "codemirror_mode": {
    "name": "ipython",
    "version": 3
   },
   "file_extension": ".py",
   "mimetype": "text/x-python",
   "name": "python",
   "nbconvert_exporter": "python",
   "pygments_lexer": "ipython3",
   "version": "3.6.8"
  }
 },
 "nbformat": 4,
 "nbformat_minor": 2
}
