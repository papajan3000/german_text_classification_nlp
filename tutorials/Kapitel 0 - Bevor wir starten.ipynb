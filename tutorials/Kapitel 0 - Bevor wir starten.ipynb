{
 "cells": [
  {
   "cell_type": "markdown",
   "metadata": {},
   "source": [
    "# Kapitel 0 - Bevor wir starten"
   ]
  },
  {
   "cell_type": "markdown",
   "metadata": {},
   "source": [
    "## 1. Kapitelübersicht <a class=\"anchor\" id=\"1\"/>"
   ]
  },
  {
   "cell_type": "markdown",
   "metadata": {},
   "source": [
    "Bevor wir mit den eigentlichen Textklassifikationstutorials beginnen, soll in diesem Kapitel ein Überblick über die Tutorialreihe gegeben werden, die Leserschaft eingegrenzt und die Vorkenntnisse erläutert werden.\n",
    "\n",
    "<b>Abschnittsübersicht</b><br>\n",
    "\n",
    "[1. Kapitelübersicht](#1-1)<br>\n",
    "[2. An wen ist diese Tutorial Reihe gerichtet?](#2)<br>\n",
    "[3. Welches Vorwissen wird vorausgesetzt?](#3)<br>\n",
    "[3.1. Vorwissen in der Programmiersprache \"Python 3\" & der Benutzung von Projekten](#3-1)<br>\n",
    "[3.2. Vorwissen mit dem Umgang von Fehlercodes und Dokumentationen](#3-2)<br>\n",
    "[4. Aufbau eines Kapitels](#4)<br>\n",
    "[5. Literatur- und Lesetipps](#5)"
   ]
  },
  {
   "cell_type": "markdown",
   "metadata": {},
   "source": [
    "## 2. An wen ist diese Tutorial Reihe gerichtet? <a class=\"anchor\" id=\"2\"/>"
   ]
  },
  {
   "cell_type": "markdown",
   "metadata": {},
   "source": [
    "Diese Tutorial-Reihe richtet sich primär an Studierende der <b>Digital Humanities</b>, die bereits einen Bachelor-Abschluss oder Vorwissen in den Digital Humanities haben. Weiterhin könnte diese Reihe auch für Master-Studierende der <b>Digital Humanities</b> von Interesse sein, die eine Wiederholung von Methoden der Textklassifikation benötigen oder sich zu Beginn ihres Masterstudiums auf dieses vorbereiten möchten.<br>\n",
    "Eine weitere Interessengruppe könnten auch Studierende der <b>Informatik</b>, der <b>Mensch-Computer-Systeme (BA)</b> oder der <b>Human-Computer-Interaction (MA)</b>, der <b>Wirtschaftsinformatik</b>, dem <b>Games-Engineering</b> oder einem anderen Studiengang sein, der Verfahren und Methoden der Informatik nutzt. Vor allem Masterstudierende dieser Studiengänge werden meist Veranstaltungen wie <i>\"Information Retrieval\"</i>, <i>\"Machine Learning\"</i> oder <i>\"Deep Learning\"</i> angeboten, bei denen auch Textklassifikationsverfahren eine Rolle spielen.<br>\n",
    "Zuletzt ist diese Tutorial-Reihe natürlich auch für Diejenigen, die sich persönlich für das Thema \"Textklassifikation\" interessieren."
   ]
  },
  {
   "cell_type": "markdown",
   "metadata": {},
   "source": [
    "## 3. Welches Vorwissen wird vorausgesetzt? <a class=\"anchor\" id=\"3\"/>"
   ]
  },
  {
   "cell_type": "markdown",
   "metadata": {},
   "source": [
    "Diese Tutorial-Reihe kann ohne bestimmtes Vorwissen ziemlich komplex werden. Es wird davon ausgegangen, dass der Leser seine Wissenslücken selbst schließt und bereit ist, neben diesen Tutorials weitere Informationsquellen hinzuzuziehen. In vielen Fällen werden Links zu anderen Tutorials, wissenschaftlichen Aufsätzen o.ä. jedoch bereitgestellt. Die Beschreibungen von Verfahren und Methoden in dieser Tutorialreihe erheben nicht den Anspruch, eine allumfassende Erklärung der Verfahren und Methoden zu sein. Vielmehr soll es sich um eine Einführung handeln, welche Grundlegendes erklärt und somit einen Grundstein für den Leser legt, sich weiterführend mit dem Thema zu beschäftigen."
   ]
  },
  {
   "cell_type": "markdown",
   "metadata": {},
   "source": [
    "### 3.1. Vorwissen in \"Python 3\" & der Benutzung von Projekten <a class=\"anchor\" id=\"3-1\"/>"
   ]
  },
  {
   "cell_type": "markdown",
   "metadata": {},
   "source": [
    "#### Grundlegende Vorkenntnisse in Python 3\n",
    "- Datentypen, Operatoren, Ausdrücke\n",
    "- grundlegende Datenstrukturen (Listen, Dictionaries, Tupel)\n",
    "- Bedingte Anweisung (if, elif, else)\n",
    "- Schleifen (for, while)\n",
    "- Funktionen\n",
    "- Module<br>\n",
    "\n",
    "Sollte dieses Vorwissen nicht präsent sein oder müsste aufgefrischt werden, ist ein Tutorial in Python 3 zwingend erforderlich. Python 3 Tutorials gibt es wie Sand am Meer, weswegen der Leser sich selbst auf die Suche nach eines für ihn relevanten und ansprechenden Tutorial begeben sollte. Eine persönliche Empfehlung wäre der englische Udacity Kurs zu Python 3 (https://eu.udacity.com/course/intro-to-computer-science--cs101), wenn keine Möglichkeit besteht, einen Python-Kurs an einer Universität zu besuchen. Sollte bereits Vorwissen in Python 2 bestehen, könnte folgende Übersicht für einen Wechsel zu Python 3 höchstwahrscheinlich ausreichen: http://ptgmedia.pearsoncmg.com/imprint_downloads/informit/promotions/python/python2python3.pdf."
   ]
  },
  {
   "cell_type": "markdown",
   "metadata": {},
   "source": [
    "#### Funktionsweise von Jupyter-Notebooks\n",
    "\n",
    "Da dieses Tutorial ausschließlich in Jupyter-Notebooks verfasst worden ist, ist grundlegendes Vorwissen über die Benutzung von Jupyter-Notebooks unabdingbar. Eine gute Einführung bietet folgender Artikel: https://www.dataquest.io/blog/jupyter-notebook-tutorial/ (bis zum Abschnitt \"Investigating our dataset\", ab da werden die Python-Module \"pandas\" und \"matplotlib\" vorausgesetzt). Alternativ kann auch <b>binder</b> genutzt werden, eine interaktive Webdarstellung dieses Github Repositories, bei der nichts eigenständig installiert werden muss. Dafür muss einfach nur auf folgendes Logo im Github Repository geklickt werden: <img src=\"http://mybinder.org/badge_logo.svg\" alt=\"binder logo\" width=\"100px;\"/>"
   ]
  },
  {
   "cell_type": "markdown",
   "metadata": {},
   "source": [
    "#### Grundlagenwissen der Pythonbibliotheken pandas, numpy und matplotlib\n",
    "\n",
    "<b>pandas</b> ist eine Pythonbibliothek, die für Datenmanipulation und -anaylse genutzt wird. Der Kern der <b>pandas</b>-Bibliothek sind die Datenstrukturen <b>DataFrame</b> und <b>Series</b>, mit der numerische Tabellen erzeugt, gefüllt und manipuliert werden können. In dieser Tutorial-Reihe werden ständig pandas-Dataframes genutzt, weswegen eine Aneignung des Grundlagenwissen stark empfohlen wird, da ansonsten nicht alle Vorgehensweisen nachvollzogen werden können. Eine sehr gute (deutsche) Einführung ist unter folgendem Link zu finden: https://www.python-kurs.eu/pandas.php . Sollte man bereits mit <b>pandas</b> gearbeitet haben und eine Auffrischung benötigen, ist der folgende Link sehr hilfreich, der die wichtigsten Funktionen von <b>pandas</b> kurz zusammenfasst: https://pandas.pydata.org/pandas-docs/stable/getting_started/10min.html .\n",
    "    \n",
    "<b>numpy</b> ist eine Pythonbibliothek, die mathematische Operationen effizient in Python ausführen kann. <b>pandas</b> basiert auf <b>numpy</b> und zusammen mit <b>scipy</b> (eine Erweiterung von numpy hinsichtlich der Leistungsfähigkeit von bestimmten mathematischen Operationen) und <b>matplotlib</b> werden diese vier Bibliotheken in Python als Ersatz für das weit verbreitete MATLAB genutzt, eine Software zur Lösung mathematischer Probleme, vorwiegend von der Berechnung von Matrizen. Mit <b>numpy</b> lassen sich ebenfalls Vektoren und Matrizen erstellen und berechnen. Dies ist auch für diese Tutorial-Reihe der vorwiegende Nutzen von <b>numpy</b>. Für unsere Zwecke reicht ein grundlegendes Verständnis von <b>numpy</b> aus, da zwar die meisten Anwendungen eine Menge der <b>numpy</b>-Bibliothek nutzen, wir aber uns weniger für die Implementierung der Anwendungen interessieren, sondern vielmehr für die Nutzung und Anwendung. Für ein Grundverständnis sollten jedoch wenigstens die ersten paar Seiten des folgenden Tutorials bekannt sein: https://www.python-kurs.eu/numpy.php.\n",
    "    \n",
    "<b>matplotlib</b> ist eine Pythonbibliothek zur Erstellung von Diagrammen und Darstellungen. Sie ist wichtig, um unsere Daten graphisch aufzuarbeiten. Eine Einführung gibt es hier: https://www.python-kurs.eu/matplotlib.php. Ansonsten können die meisten Befehle von <b>matplotlib</b> auch direkt aus dieser Tutorial-Reihe kopiert werden. Meiner Erfahrung nach reicht dies für die meisten Anwendungen aus, weitere Befehle werden entweder in diesem Tutorial kurz erläutert oder werden vom matplotlib-Tutorial nicht in ganzer Fülle abgedeckt, sodass man für bestimmte Anwendungsfälle in der matplotlib-Dokumentation nachgucken sollte."
   ]
  },
  {
   "cell_type": "markdown",
   "metadata": {},
   "source": [
    "#### Grundlegendes Verständnis von Basis-NLP-Methoden\n",
    "\n",
    "Basis-NLP-Methoden wie Tokenisieren oder Lemmatisieren sollten bekannt sein. Eine Bibliothek, die ich in meinen Python-Skripten verwende, ist <a href=\"https://www.nltk.org/\">NLTK</a>."
   ]
  },
  {
   "cell_type": "markdown",
   "metadata": {},
   "source": [
    "#### Grundlegende Benutzung von github\n",
    "\n",
    "Die Funktionsweise von <b>Github</b> sollte soweit verstanden sein, dass man zumindest mit anderen Projekten arbeiten kann und weiß, wie man Github-Projekte herunterlädt (siehe dafür: https://help.github.com/en/articles/cloning-a-repository)."
   ]
  },
  {
   "cell_type": "markdown",
   "metadata": {},
   "source": [
    "#### (Optional) Linux als Betriebssystem\n",
    "\n",
    "Ich verwende für die Tutorials das Betriebssystem <b>Ubuntu</b>. Der gesamte Code ist nur für linuxbasierte Systeme optimiert. Bei einer Nutzung von Windows oder MacOS kann nicht garantiert werden, dass der gesamte Code funktioniert. Die Jupyter Notebooks sollten jedoch größtenteils auch in anderen Betriebssystemen ausführbar sein."
   ]
  },
  {
   "cell_type": "markdown",
   "metadata": {},
   "source": [
    "#### (Optional) Erstellen einer Virtual Environment\n",
    "\n",
    "Standardmäßig werden alle Python-Module, die über `pip` oder `conda` heruntergeladen werden, in die allgemeine Systemumgebung installiert. Für dieses Projekt ist es jedoch sinnvoll, eine <b>Virtual Environment</b> anzulegen und dann basierend auf der `requirements.txt` die von mir empfohlenen Module kompakt herunterzuladen. Vor allem bei der späteren Benutzung von Keras kann es zu Problemen mit der `numpy`-Version kommen, die man für eine Benutzung dann downgraden muss. Dort ist es sinnvoll, die neuste `numpy`-Version nicht zu überschreiben, sondern die alte `numpy`-Version nur in der Virtual Environment zu downgraden. Ich selbst habe `conda` für die Erstellung einer Virtual Environment genutzt (wird hier erklärt:   https://uoa-eresearch.github.io/eresearch-cookbook/recipe/2014/11/20/conda/ ). Die Nutzung ist nicht kompliziert und wird im Folgenden kurz erläutert (angenommen, wir haben bereits eine Virtual Environment mit dem Namen <b>gnlp</b> angelegt, wie im erwähnten Link erklärt):\n",
    "    \n",
    "![title](tutorialdata/img/conda.png)\n",
    "    \n",
    "Zuerst aktivieren wir die Virtual Environment <b>gnlp</b> mit `conda activate gnlp`. Wir können sehen, dass wir uns vor der Aktivierung in der`(base)`-Umgebung befanden und nach der Aktivierung in der `(gnlp)`-Umgebung. Dann navigieren wir in das Verzeichneis, in dem wir das github-Projekt gespeichert haben und installieren mit pip (oder conda) die`requirements.txt`-Datei. Somit haben wir alle für die Tutorials relevanten Bibliotheken installiert. Mit `>>> conda deactivate` können wir bei Bedarf die Virtual Environment auch wieder deaktivieren."
   ]
  },
  {
   "cell_type": "markdown",
   "metadata": {},
   "source": [
    "### 3.2. Vorwissen mit dem Umgang von Fehlercodes und Dokumentationen <a class=\"anchor\" id=\"3-2\"/>"
   ]
  },
  {
   "cell_type": "markdown",
   "metadata": {},
   "source": [
    "#### Fehlercodes\n",
    "\n",
    "Sollte ein Programm oder eine Juypter-Notebook-Zelle mal nicht richtig ausgeführt werden und ein Fehler ausgegeben werden, hilft zu 90% der Fälle die Internetplattform <b> Stack Overflow</b> weiter (https://stackoverflow.com/). Weiterhin hilft eine Suche bei der Suchmaschine der Wahl (worüber man auch oft zu Stack Overflow gelangt). Dafür ist jedoch wichtig, dass man den richtigen Teil seiner Fehlermeldung als Eingabe nimmt (meistens der letzte Teil der Meldung)."
   ]
  },
  {
   "cell_type": "markdown",
   "metadata": {},
   "source": [
    "#### Dokumentationen \n",
    "\n",
    "Bei Unklarheiten über die Funktionsweise von Modulen, Funktionen etc. sollte immer die <b>Dokumentation</b> der entsprechenden Bilbiothek zu Rate gezogen werden. Die wichtigste und häufigste benutzte Dokumentation in dieser Tutorialreihe ist die <a href=\"https://scikit-learn.org/stable/documentation.html\">Dokumentation</a> zu <b>Scikit learn</b>."
   ]
  },
  {
   "cell_type": "markdown",
   "metadata": {},
   "source": [
    "## 4. Aufbau eines Kapitels <a class=\"anchor\" id=\"4\"/>"
   ]
  },
  {
   "cell_type": "markdown",
   "metadata": {},
   "source": [
    "Der Aufbau eines Kapitels ist im Grunde immer gleich. Zu Beginn des Kapitels werden in der Kapitelübersicht die Kernpunkte des Kapitels kurz erläutert, eine Auflistung der Abschnitte gegeben und das vermittelte Wissen zusammengefasst. Der letzte Abschnitt ist oft ein Abschnitt über mögliche Fehlerquellen und häufige Fehler. In den anderen Abschnitten gibt es einige Besonderheiten. Bestimmte Notebookzellen sind besonders gekennzeichnet. Blaue Zellen sind <b>Exkurse</b>. Sie bieten kompakte Erklärungen zu besonderen Begriffen, Verfahren und Methoden. Gelbe Zellen sind <b>Aufgaben</b>, die vom Leser erledigt werden sollten. Diese Aufgaben können Leseaufgaben, bei denen sich Wissen durch externe Tutorial, Aufsätze, Blog-Einträge oder Bücher angeeignet werden soll, oder Programmieraufgaben sein."
   ]
  },
  {
   "cell_type": "markdown",
   "metadata": {},
   "source": [
    "<div class=\"alert alert-info\">\n",
    "<b>Exkurs:</b> EXKURS<br> </div>"
   ]
  },
  {
   "cell_type": "markdown",
   "metadata": {},
   "source": [
    "<div class=\"alert alert-warning\">\n",
    "<b>Aufgabe:</b> AUFGABE<br> </div>"
   ]
  },
  {
   "cell_type": "markdown",
   "metadata": {},
   "source": [
    "### Englische Begriffe"
   ]
  },
  {
   "cell_type": "markdown",
   "metadata": {},
   "source": [
    "In dieser Tutorialreihe werden vorwiegend die englischen Fachbegriffe und Bezeichungen für Klassifikationsverfahren, bestimmte Verfahren und Algorithmen o.ä. genutzt. Eine deutsche Übersetzung wird oft in Klammern hinter dem Begriff angegeben. Da die Forschung für Machine Learning und Deep Learning neuste Errungenschaften grundsätzlich nur auf Englisch veröffentlicht und viele Kurse, Fachbücher, Onlinetutorials oder Internetplattformen nur auf Englisch Wissen vermitteln, ist m.E. die Nennung und Nutzung des englischen Fachbegriffs wichtiger als der deutsche Fachbegriff, um sich bei einer Vertiefung des Themas besser zurechtfinden zu können."
   ]
  },
  {
   "cell_type": "markdown",
   "metadata": {},
   "source": [
    "# 5. Literatur- und Lesetipps <a class=\"anchor\" id=\"5\"/>"
   ]
  },
  {
   "cell_type": "markdown",
   "metadata": {},
   "source": [
    "<i>VanderPlas</i>, Jake [Hg.], Data Science mit Python: das Handbuch für den Einsatz von IPython, Jupyter, NumPy, Pandas, Matplotlib, Scikit-Learn, übers. v. Lorenz <i>Knut</i>, Frechen 2018.\n",
    "- Einführung in Jupyter Notebooks, Numpy, Pandas und Matplotlib\n",
    "- Übersicht zu scikit-learn\n",
    "- Ausführliche Erläuterung von Textklassifikations-Verfahren wie Naive Bayes, SVM und Entscheidungsbäume\n",
    "- aktuell (Stand 2019)\n",
    "- verfügbar in Deutsch und Englisch\n",
    "\n",
    "<i>Goldberg</i>, Joav, Neural Network Methods for Natural Language Processing (= Synthesis Lectures on Human Language Technologies, Bd. 37), San Rafael 2017.\n",
    "- Ausführlicher Einstieg und Vertiefung von Neuronalen Netzwerken für NLP\n",
    "- Ausführliche Erklärungen zu Klassifizierungsmethoden\n",
    "- mehr Mathematik als in dieser Tutorialreihe\n",
    "- verfügbar in Englisch"
   ]
  },
  {
   "cell_type": "code",
   "execution_count": null,
   "metadata": {},
   "outputs": [],
   "source": []
  }
 ],
 "metadata": {
  "kernelspec": {
   "display_name": "Python 3",
   "language": "python",
   "name": "python3"
  },
  "language_info": {
   "codemirror_mode": {
    "name": "ipython",
    "version": 3
   },
   "file_extension": ".py",
   "mimetype": "text/x-python",
   "name": "python",
   "nbconvert_exporter": "python",
   "pygments_lexer": "ipython3",
   "version": "3.6.7"
  }
 },
 "nbformat": 4,
 "nbformat_minor": 2
}
