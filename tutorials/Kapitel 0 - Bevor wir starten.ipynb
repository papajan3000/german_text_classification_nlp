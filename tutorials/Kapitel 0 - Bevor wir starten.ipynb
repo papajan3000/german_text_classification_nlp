{
 "cells": [
  {
   "cell_type": "markdown",
   "metadata": {},
   "source": [
    "# Kapitel 0 - Bevor wir starten"
   ]
  },
  {
   "cell_type": "markdown",
   "metadata": {},
   "source": [
    "## 1. Kapitelübersicht <a class=\"anchor\" id=\"1\"/>"
   ]
  },
  {
   "cell_type": "markdown",
   "metadata": {},
   "source": [
    "Bevor wir mit den eigentlichen Textklassifikationstutorials beginnen, soll in diesem Kapitel ein Überblick über die Tutorialreihe gegeben werden, die Leserschaft eingegrenzt und die Vorkenntnisse erläutert werden.\n",
    "\n",
    "<b>Abschnittsübersicht</b><br>\n",
    "\n",
    "[1. Kapitelübersicht](#1-1)<br>\n",
    "[2. An wen ist diese Tutorial Reihe gerichtet?](#2)<br>\n",
    "[3. Welches Vorwissen wird vorausgesetzt?](#3)<br>\n",
    "[3.1. Vorwissen in der Programmiersprache \"Python 3\" & der Benutzung von Projekten](#3-1)<br>\n",
    "[3.2. Vorwissen mit dem Umgang von Fehlercodes und Dokumentationen](#3-2)<br>\n",
    "[4. Aufbau eines Kapitels](#4)<br>\n",
    "[5. Gliederung der Tutorialreihe](#5)<br>"
   ]
  },
  {
   "cell_type": "markdown",
   "metadata": {},
   "source": [
    "## 2. An wen ist diese Tutorial Reihe gerichtet? <a class=\"anchor\" id=\"2\"/>"
   ]
  },
  {
   "cell_type": "markdown",
   "metadata": {},
   "source": [
    "Diese Tutorial-Reihe richtet sich primär an Studierende der <b>Digital Humanities</b>, die bereits einen Bachelor-Abschluss oder Vorwissen in den Digital Humanities haben. Weiterhin könnte diese Reihe auch für Master-Studierende der <b>Digital Humanities</b> von Interesse sein, die eine Wiederholung von Methoden der Textklassifikation benötigen oder sich zu Beginn ihres Masterstudiums auf dieses vorbereiten möchten.<br>\n",
    "Eine weitere Interessengruppe könnten auch Studierende der <b>Informatik</b>, der <b>Mensch-Computer-Systeme (BA)</b> oder der <b>Human-Computer-Interaction (MA)</b>, der <b>Wirtschaftsinformatik</b>, dem <b>Games-Engineering</b> oder einem anderen Studiengang sein, der Verfahren und Methoden der Informatik nutzt. Vor allem Masterstudierende dieser Studiengänge werden meist Veranstaltungen wie <i>\"Information Retrieval\"</i>, <i>\"Machine Learning\"</i> oder <i>\"Deep Learning\"</i> angeboten, bei denen auch Textklassifikationsverfahren eine Rolle spielen (AF?).<br>\n",
    "Zuletzt ist diese Tutorial-Reihe natürlich auch für Diejenigen, die sich persönlich für das Thema \"Textklassifikation\" interessieren."
   ]
  },
  {
   "cell_type": "markdown",
   "metadata": {},
   "source": [
    "## 3. Welches Vorwissen wird vorausgesetzt? <a class=\"anchor\" id=\"3\"/>"
   ]
  },
  {
   "cell_type": "markdown",
   "metadata": {},
   "source": [
    "Diese Tutorial-Reihe setzt einiges an Vorwissen voraus (AF). Es wird davon ausgegangen, dass sich der Lesende Wissen über ... selber aneignen kann (in vielen Fällen werden Links zu anderen Tutorials, wissenschaftlichen Aufsätzen o.ä.) bereitgestellt. Viele Beschreibungen von Verfahren erheben auch nicht den Anspruch, eine allumfassende Erklärung (?) der Verfahren und Methoden zu sein. Vielmehr soll es sich um eine Einführung handeln, welche Grundlegendes erklärt und somit einen Grundstein für den Lesenden legt, sich weiterführend mit dem Thema zu beschäftigen."
   ]
  },
  {
   "cell_type": "markdown",
   "metadata": {},
   "source": [
    "### 3.1. Vorwissen in der Programmiersprache \"Python 3\" & der Benutzung von Projekten <a class=\"anchor\" id=\"3-1\"/>"
   ]
  },
  {
   "cell_type": "markdown",
   "metadata": {},
   "source": [
    "#### Grundlegende Vorkenntnisse in Python 3\n",
    "- Datentypen, Operatoren, Ausdrücke\n",
    "- grundlegende Datenstrukturen (Listen, Dictionaries, Tupel)\n",
    "- Bedingte Anweisung (if, elif, else)\n",
    "- Schleifen (for, while)\n",
    "- Funktionen\n",
    "- Module<br>\n",
    "\n",
    "Sollte dieses Vorwissen nicht präsent sein oder müsste aufgefrischt werden, ist ein Tutorial in Python 3 zwingend erforderlich. Python 3 Tutorials gibt es wie Sand am Meer, weswegen der Lesende sich selbst auf die Suche nach eines für ihn relevanten und ansprechenden Tutorial begeben sollte. Eine persönliche Empfehlung wäre der englische Udacity Kurs zu Python 3 (https://eu.udacity.com/course/intro-to-computer-science--cs101), wenn keine Möglichkeit besteht, einen Python-Kurs an einer Universität zu besuchen.<br>\n",
    "Sollte bereits Vorwissen in Python 2 bestehen, könnte folgende Übersicht für einen Wechsel zu Python 3 höchstwahrscheinlich ausreichen: http://ptgmedia.pearsoncmg.com/imprint_downloads/informit/promotions/python/python2python3.pdf.<br>"
   ]
  },
  {
   "cell_type": "markdown",
   "metadata": {},
   "source": [
    "#### Funktionsweise von Jupyter-Notebooks\n",
    "\n",
    "Da dieses Tutorial ausschließlich in Jupyter-Notebooks verfasst worden ist, ist grundlegendes Vorwissen über die Benutzung von Jupyter-Notebooks unabdingbar. Eine gute Einführung bietet folgender Artikel: https://www.dataquest.io/blog/jupyter-notebook-tutorial/ (bis zum Abschnitt \"Investigating our dataset\", ab da werden die Python-Module \"pandas\" und \"matplotlib\" vorausgesetzt)."
   ]
  },
  {
   "cell_type": "markdown",
   "metadata": {},
   "source": [
    "#### Grundlagenwissen der Pythonbibliotheken pandas, numpy und matplotlib\n",
    "\n",
    "<b>pandas</b> ist eine Pythonbibliothek, die für Datenmanipulation und -anaylse genutzt wird. Der Kern der <b>pandas</b>-Bibliothek sind die Datenstrukturen <b>DataFrame</b> und <b>Series</b>, mit der numerische Tabellen erzeugt, gefüllt und manipuliert werden können. In dieser Tutorial-Reihe werden ständig pandas-Dataframes genutzt, weswegen eine Aneignung des Grundlagenwissen stark empfohlen wird, da ansonsten nicht alle Vorgehensweisen nachvollzogen werden können. Eine sehr gute (deutsche) Einführung ist unter folgendem Link zu finden: https://www.python-kurs.eu/pandas.php . Sollte man bereits mit <b>pandas</b> gearbeitet haben und eine Auffrischung benötigen, ist der folgende Link sehr hilfreich, der die wichtigsten Funktionen von <b>pandas</b> kurz zusammenfasst: https://pandas.pydata.org/pandas-docs/stable/getting_started/10min.html .\n",
    "    \n",
    "<b>numpy</b> ist eine Pythonbibliothek, die mathematische Operationen effizient in Python ausführen kann. <b>pandas</b> basiert auf <b>numpy</b> und zusammen mit <b>scipy</b> (eine Erweiterung von numpy hinsichtlich der Leistungsfähigkeit von bestimmten mathematischen Operationen) und <b>matplotlib</b> werden diese vier Bibliotheken in Python als Ersatz für das weit verbreitete MATLAB genutzt, eine Software zur Lösung mathematischer Probleme, vorwiegend von der Berechnung von Matrizen. Mit <b>numpy</b> lassen sich ebenfalls Vektoren und Matrizen erstellen und berechnen. Dies ist auch für diese Tutorial-Reihe der primäre (?) Nutzen von <b>numpy</b>. Für unsere Zwecke reicht ein grundlegendes Verständnis von <b>numpy</b> aus, da zwar die meisten Anwendungen eine Menge der <b>numpy</b>-Bibliothek nutzen, wir aber uns weniger mit der Implementierung der Anwendungen interessieren, sondern vielmehr für die Nutzung und Anwendung. Für ein Grundverständnis sollten jedoch wenigstens die ersten paar Seiten des folgenden Tutorials bekannt sein: https://www.python-kurs.eu/numpy.php.\n",
    "    \n",
    "<b>matplotlib</b> ist eine Pythonbibliothek zur Erstellung von Diagrammen und Darstellungen. Sie ist wichtig, um unsere Daten graphisch aufzuarbeiten. Eine Einführung gibt es hier: https://www.python-kurs.eu/matplotlib.php. Ansonsten können die meisten Befehle von <b>matplotlib</b> auch direkt aus dieser Tutorial-Reihe kopiert werden. Meiner Erfahrung nach reicht dies für die meisten Anwendungen aus, weitere Befehle werden entweder in diesem Tutorial kurz erläutert oder werden vom matplotlib-Tutorial nicht in ganzer Fülle abgedeckt, sodass man für bestimmte Anwendungsfälle in der matplotlib-Dokumentation nachgucken sollte."
   ]
  },
  {
   "cell_type": "markdown",
   "metadata": {},
   "source": [
    "#### Grundlegende Benutzung von github\n",
    "\n",
    "Die Funktionsweise von <b>Github</b> sollte soweit verstanden sein, dass man zumindest mit anderen Projekten arbeiten kann und weiß, wie man Github-Projekte herunterlädt (siehe dafür: https://help.github.com/en/articles/cloning-a-repository)."
   ]
  },
  {
   "cell_type": "markdown",
   "metadata": {},
   "source": [
    "#### (Optional) Linux als Betriebssystem\n",
    "\n",
    "Ich verwende für die Tutorials das Betriebssystem <b>Ubuntu</b>. Der gesamte Code ist nur für linuxbasierte Systeme optimiert. Bei einer Nutzung von Windows oder MacOS kann nicht garantiert werden, dass der gesamte Code funktioniert. Die Jupyter Notebooks sollten jedoch größtenteils auch in anderen Betriebssystemen ausführbar sein."
   ]
  },
  {
   "cell_type": "markdown",
   "metadata": {},
   "source": [
    "#### (Optional) Erstellen einer Virtual Environment\n",
    "\n",
    "Standardmäßig werden alle Python-Module, die über `pip` oder `conda` heruntergeladen werden, in die allgemeine Systemumgebung installiert. Für dieses Projekt ist es jedoch sinnvoll, eine <b>Virtual Environment</b> anzulegen und dann basierend auf der `requirements.txt` die von mir empfohlenen Module kompakt herunterzuladen. Vor allem bei der späteren Benutzung von Keras kann es zu Problemen mit der `numpy`-Version kommen, die man für eine Benutzung dann downgraden (?) muss. Dort ist es sinnvoll, die neuste `numpy`-Version nicht zu überschreiben, sondern die alte `numpy`-Version nur in der Virtual Environment zu downgraden (?). Ich selbst habe `conda` für die Erstellung einer Virtual Environment genutzt (wird hier erklärt:   https://uoa-eresearch.github.io/eresearch-cookbook/recipe/2014/11/20/conda/ ). Die Nutzung ist nicht kompliziert und wird im Folgenden kurz erläutert (angenommen, wir haben bereits eine Virtual Environment mit dem Namen <b>gnlp</b> angelegt, wie im erwähnten Link erklärt):\n",
    "    \n",
    "![title](tutorialdata/img/conda.png)\n",
    "    \n",
    "Zuerst aktivieren wir die Virtual Environment <b>gnlp</b> mit `conda activate gnlp`. Wir können sehen, dass wir uns vor der Aktivierung in der`(base)`-Umgebung befanden und nach der Aktivierung in der `(gnlp)`-Umgebung. Dann navigieren wir in das Verzeichneis, in dem wir das github-Projekt gespeichert haben und installieren mit pip (oder conda) die`requirements.txt`-Datei. Somit haben wir alle für die Tutorials relevanten Bibliotheken installiert. Mit `>>> conda deactivate` können wir bei Bedarf die Virtual Environment auch wieder deaktivieren."
   ]
  },
  {
   "cell_type": "markdown",
   "metadata": {},
   "source": [
    "### 3.2. Vorwissen mit dem Umgang von Fehlercodes und Dokumentationen <a class=\"anchor\" id=\"3-2\"/>"
   ]
  },
  {
   "cell_type": "markdown",
   "metadata": {},
   "source": [
    "#### Fehlercodes\n",
    "\n",
    "Sollte ein Programm oder eine Juypter-Notebook-Zelle mal nicht richtig ausgeführt werden und ein Fehler ausgegeben werden, hilft zu 90% der Fälle die Internetplattform <b> Stack Overflow</b> weiter (https://stackoverflow.com/). Weiterhin hilft eine Suche bei der Suchmaschine der Wahl (worüber man auch oft zu Stack Overflow gelangt). Dafür ist jedoch wichtig, dass man den richtigen Teil seiner Fehlermeldung als Eingabe nimmt (meistens der letzte Teil der Meldung)."
   ]
  },
  {
   "cell_type": "markdown",
   "metadata": {},
   "source": [
    "#### Dokumentationen \n",
    "\n",
    "Bei Unklarheiten über die Funktionsweise von Modulen, Funktionen etc. sollte immer die <b>Dokumentation</b> der entsprechenden Bilbiothek zu Rate gezogen werden. Weiterhin bieten Dokumentationen TODO... Die wichtigste und häufigste benutzte Dokumentation in dieser Tutorialreihe ist die <a href=\"https://scikit-learn.org/stable/documentation.html\">Dokumentation</a> zu <b>Scikit learn</b>."
   ]
  },
  {
   "cell_type": "markdown",
   "metadata": {},
   "source": [
    "## 4. Aufbau eines Kapitels <a class=\"anchor\" id=\"4\"/>"
   ]
  },
  {
   "cell_type": "markdown",
   "metadata": {},
   "source": [
    "TODO: AF!!!!!!!!!!!!!!!!!!!!!!!!!!!!!\n",
    "\n",
    "Der Aufbau eines Kapitels ist immer gleich: Zuerst wird in der Kapitelübersicht werden die Kernpunkte des Kapitels kurz erläutert und eine Auflistung der Abschnitte gegeben. \n",
    "\n",
    "Bestimmte Notebookzellen sind besonders gekennzeichnet. Blaue Zellen sind <b>Exkurse</b>. Sie bieten kompakte Erklärungen zu besonderen ... Sie versuchen nicht, das Thema vollständig zu erläutern, sie ersetzen also nicht einen vollständigen Artikel darüber. Gelbe Zellen sind <b>Aufgaben</b>. Diese Aufgaben sollten vom Leser gemacht werden. Oft bestehen diese Aufgaben aus Leseaufgaben, bei denen Themen durch andere Tutorials oder Bücher besser erklärt werden können oder wenn wissenschaftliche Aufsätze ... Ab und zu gibt es jedoch auch Programmieraufgaben, die etwas aufwendiger sind. Die Bearbeitung dieser Aufgaben hilft, die beschriebenen Vorgänge und ... selbst auszuprobieren und somit ihre Funktionsweise selbst zu benutzen. Damit  soll nicht nur Lesezeug da sein, sondern auch ... Aufgaben können optional sein, da werden dann meistens die wissenschaftlichen Aufsätze gezeigt. "
   ]
  },
  {
   "cell_type": "markdown",
   "metadata": {},
   "source": [
    "<div class=\"alert alert-info\">\n",
    "<b>Exkurs:</b> EXKURS"
   ]
  },
  {
   "cell_type": "markdown",
   "metadata": {},
   "source": [
    "<div class=\"alert alert-warning\">\n",
    "<b>Aufgabe:</b> AUFGABE"
   ]
  },
  {
   "cell_type": "markdown",
   "metadata": {},
   "source": [
    "## 5. Gliederung der Tutorialreihe <a class=\"anchor\" id=\"5\"/>"
   ]
  },
  {
   "cell_type": "code",
   "execution_count": null,
   "metadata": {},
   "outputs": [],
   "source": []
  },
  {
   "cell_type": "code",
   "execution_count": null,
   "metadata": {},
   "outputs": [],
   "source": []
  },
  {
   "cell_type": "markdown",
   "metadata": {},
   "source": [
    "<u>Allgemeine Dinge, die erwähnt werden müssen</u>:\n",
    "- englische Begriffe werden bevorzugt vor deutschen benutzt, da meiste Literatur und Tutorials etc auf englisch. Deutsche Übersetzung verwirrt nur (ICH: bei Kapitel 0 Überschrift mit englischer Sprache?)\n",
    "- wenn englische Begriffe übersetzt werden, werden die Originalbegriffe in Klammern erwähnt"
   ]
  },
  {
   "cell_type": "markdown",
   "metadata": {},
   "source": [
    "FÜR DL KAPITEL: https://www.golem.de/news/deep-learning-maschinen-die-wie-menschen-lernen-1510-116468-6.html"
   ]
  },
  {
   "cell_type": "markdown",
   "metadata": {},
   "source": [
    "<u>Infos</u>:\n",
    "- Englisches Tutorial: https://github.com/justmarkham/scikit-learn-videos"
   ]
  },
  {
   "cell_type": "code",
   "execution_count": null,
   "metadata": {},
   "outputs": [],
   "source": []
  },
  {
   "cell_type": "markdown",
   "metadata": {},
   "source": [
    "TODO\n",
    "\n",
    "\n",
    "\n",
    "\n",
    "- idee war, ein allumfassendes Tutorial in deutscher Sprache zu bieten, dass ansonsten nicht wirklich gegeben ist bzw. nicht in diesem Rahmen\n",
    "- Tutorials in englischer Sprache gibt es viele, vor allem zwei sind gut (Monkey learn; Machine Learning Mastery --> bei ersterem werden jedoch nur Grundkonzepte gut vermittelt, leider jedoch eigene Software beworben; das zweite ist genial, jedoch auf englisch mit englischen Daten; Tutorials als Blogformat wirkt Eindruck von nicht gebündelt sein)\n",
    "- mir war wichtig, dass tutorial in deutsch, aber vor allem mit deutschen Daten gibt. das ist seltenheit, was schade ist, da fokus auf englische daten in tutorials und wissenschaften nicht immer aufs deutsche transferien lassen, da deutsch besonderheiten haben\n",
    "- zudem war mir wichtig, dass es eine tutorial reihe ist, die nicht versucht, rad neu zu erfinden, sondern auch von anderen tutorials elemente übernimmt und ins eigene konzept übernimmt. arbeit soll aber nicht nur an mir liegen, vertiefende lese aufgaben oder nutzung von anderen tutorials werden an gewissen stellen dann vorausgesetzt und explizit gekennzeichnet.\n",
    "- zuletzt war mir wichtig, dass es vor allem für Studierende der DH ist, die einen Bachelor haben (also nicht bei 0) anfangen und vllt im master sind oder sich auf master vorbereiten. dh konzepte werden teilweise vllt unterbewusst vorausgetzt, vor allem wird verständnis für mathematik NICHT allumfassend vorausgesetzt (nur schulmathematik). vor allem auftretende mathematik aufgaben und probleme sollen entweder ausführlich aber simpel behandelt werden oder aber auf simple erklärungen soll verwiesen werden. die meisten tutorials richten sich an informatiker, die aufgrund des wesen ihres studiums viel mathematik vermittelt bekommen. mehr für diese Motivation befindet sich im nächsten Abschnitt \"An wen ist diese Tutorial Reihe gerichtet?\""
   ]
  }
 ],
 "metadata": {
  "kernelspec": {
   "display_name": "Python 3",
   "language": "python",
   "name": "python3"
  },
  "language_info": {
   "codemirror_mode": {
    "name": "ipython",
    "version": 3
   },
   "file_extension": ".py",
   "mimetype": "text/x-python",
   "name": "python",
   "nbconvert_exporter": "python",
   "pygments_lexer": "ipython3",
   "version": "3.6.8"
  }
 },
 "nbformat": 4,
 "nbformat_minor": 2
}
