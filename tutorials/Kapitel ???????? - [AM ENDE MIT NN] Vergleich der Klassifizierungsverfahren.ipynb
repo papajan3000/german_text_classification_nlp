{
 "cells": [
  {
   "cell_type": "code",
   "execution_count": null,
   "metadata": {},
   "outputs": [],
   "source": []
  },
  {
   "cell_type": "markdown",
   "metadata": {},
   "source": [
    "- https://medium.com/datadriveninvestor/choosing-the-best-algorithm-for-your-classification-model-7c632c78f38f --> NO free lunch theorem als begründung für aufgabe\n",
    "- https://www.quora.com/What-are-the-new-best-machine-learning-algorithms-in-2019: same\n",
    "- https://towardsdatascience.com/which-machine-learning-model-to-use-db5fdf37f3dd: welche classifier sind schnell ode rlahm?"
   ]
  },
  {
   "cell_type": "code",
   "execution_count": null,
   "metadata": {},
   "outputs": [],
   "source": []
  },
  {
   "cell_type": "code",
   "execution_count": null,
   "metadata": {},
   "outputs": [],
   "source": []
  },
  {
   "cell_type": "markdown",
   "metadata": {},
   "source": [
    "In diesem Kapitel werden die verschiedene Klassifizierungsverfahren aus Kapitel 1 auf die Trainingskorpora aus Kapitel 2 angewandt und durch die Berechnung des F1-scores miteinander verglichen. Das Ziel ist dabei, ein Klassifizierungsverfahren mit einem hohen F1-score zu finden, welches auch beim Kreuzvalidierungsverfahren konstant ähnliche Werte generiert. Das beste Verfahren soll dann durch eine genauere Parameteranpassung auf das Trainingskorpus angewendet werden. Zuletzt schauen wir, ob sich durch verschiedene Varianten der Nachbearbeitungsmethoden auf dem Grundkorpus die F1-scores verbessern lassen können (AF)."
   ]
  },
  {
   "cell_type": "markdown",
   "metadata": {},
   "source": [
    "vllt. hilfreich?:\n",
    "\n",
    "- vorteil one hot encoding: https://machinelearningmastery.com/why-one-hot-encode-data-in-machine-learning/\n",
    "\n",
    "\n",
    "https://towardsdatascience.com/multi-class-text-classification-with-scikit-learn-12f1e60e0a9f\n",
    "\n",
    "\n",
    "https://scikit-learn.org/stable/tutorial/text_analytics/working_with_text_data.html\n",
    "\n",
    "https://stackabuse.com/text-classification-with-python-and-scikit-learn/"
   ]
  }
 ],
 "metadata": {
  "kernelspec": {
   "display_name": "Python 3",
   "language": "python",
   "name": "python3"
  },
  "language_info": {
   "codemirror_mode": {
    "name": "ipython",
    "version": 3
   },
   "file_extension": ".py",
   "mimetype": "text/x-python",
   "name": "python",
   "nbconvert_exporter": "python",
   "pygments_lexer": "ipython3",
   "version": "3.6.8"
  }
 },
 "nbformat": 4,
 "nbformat_minor": 2
}
