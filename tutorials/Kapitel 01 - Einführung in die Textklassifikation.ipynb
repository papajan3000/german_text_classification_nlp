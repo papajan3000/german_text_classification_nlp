{
 "cells": [
  {
   "cell_type": "markdown",
   "metadata": {},
   "source": [
    "# Kapitel 1 - Einführung in die Textklassifikation"
   ]
  },
  {
   "cell_type": "markdown",
   "metadata": {},
   "source": [
    "## 1.1. Kapitelübersicht <a class=\"anchor\" id=\"1-1\"/>"
   ]
  },
  {
   "cell_type": "markdown",
   "metadata": {},
   "source": [
    "In diesem Kapitel klären wir zunächst theoretisch, was Textklassifikation eigentlich ist und wie es funktioniert. Wir werfen einen Blick auf die verschiedenen Arten von Textklassifikationsverfahren. Weiterhin werden wir uns die Arten von Machine Learning Klassifizierungsmethoden und deren Unterteilung anschauen.\n",
    "\n",
    "<b>Abschnittsübersicht</b><br>\n",
    "\n",
    "[1.1. Kapitelübersicht](#1-1)<br>\n",
    "[1.2. Was ist Textklassifikation?](#1-2)<br>\n",
    "[1.3. Arten von Textklassifikation](#1-3)<br>\n",
    "[1.4. Arten von Machine Learning Klassifizierungsmethoden](#1-4)<br>\n",
    "\n",
    "Am Ende dieses Kapitel werden wir folgende Themen behandelt und/oder vertieft haben:\n",
    "- Definition von Textklassifikation\n",
    "- Klassen\n",
    "- Arten von Textklassifikation\n",
    "- Funktionsweise von Machine Learning Modellen\n",
    "- probabilistische und nicht-probabilistische Klassifizierungsverfahren\n",
    "- binary, multiclass und multi-label Klassifizierungen"
   ]
  },
  {
   "cell_type": "markdown",
   "metadata": {},
   "source": [
    "## 1.2. Was ist Textklassifikation? <a class=\"anchor\" id=\"1-2\"/>"
   ]
  },
  {
   "cell_type": "markdown",
   "metadata": {},
   "source": [
    "<b>Texklassifikation</b> ist das Zuweisen von Kategorien oder Tags zu einem Text oder Dokument gemäß seines Inhaltes. Textklassifikation ist eines der grundlegenden Aufgaben im Bereich des <b>NLP</b> (= Natural Language Processing, deutsch: Verarbeitung natürlicher Sprache). Dort wird es in Bereichen wie der sentiment analysis (deutsch: Stimmungsanalyse), dem topic labeling (deutsch: Themenbeschriftung) oder der language detection (deutsch: Spracherkennung) genutzt. Doch auch im alltäglichen Bereich werden Textklassifizierungsverfahren genutzt, etwa der Erkennung von Spam Mails oder der Unterscheidung von negativen oder positiven Reviews zu einem Produkt."
   ]
  },
  {
   "cell_type": "markdown",
   "metadata": {},
   "source": [
    "## 1.3. Arten von Textklassifikation <a class=\"anchor\" id=\"1-3\"/>"
   ]
  },
  {
   "cell_type": "markdown",
   "metadata": {},
   "source": [
    "Es gibt mehrere Arten von Textklassifikationsverfahren:\n",
    "- Regelbasierte Systeme\n",
    "- Maschinelle Lernsysteme\n",
    "- Hybridsysteme\n",
    "\n",
    "Die regelbasierten Systeme und die Hybridsysteme werden in dieser Tutorialreihe nicht behandelt. Regelbasierte Systeme klassifizieren Texte anhand einer Reihe handgefertigter Sprachregeln. Hybrid Systeme sind eine Mischung aus regelbasierten Systemen und Maschinellen Lernsystemen. Wir werden sie nicht behandeln, da regelbasierte Systeme sehr viel Domänenwissen über die Daten, die klassifiziert werden sollen, verlangen. Zudem sind sie sehr statisch und sehr zeitaufwendig.\n",
    "\n",
    "Schneller und meistens auch besser sind Maschinelle Lernsysteme. Anstatt dass wir wie bei der klassischen Programmierung durch die Eingabevon Daten und Regeln Antworten erhalten, kennen wir bei Machine Learning einen Teil der Antworten. Unser Ziel ist es hier, durch ein Machine Learning Modell die Regeln herauszufinden.\n",
    "\n",
    "<img src=\"tutorialdata/img/machine_learning_paradigma.png\" alt=\"Machine Learning Paradigma\" align=\"center\" width=\"400px;\"><br><div style=\"text-align: center; font-size:10px;\">CHOLLET, Francois, Deep Learning mit Python und Keras, übers. von Knut LORENZEN, New York 2018, S. 23.</div></img><br>"
   ]
  },
  {
   "cell_type": "markdown",
   "metadata": {},
   "source": [
    "Ebenfalls anders als bei der klassischen Programmierung wird ein Machine Learning System <i>trainiert</i>. Bei der Textklassifikation versucht ein Machine Learning Modell während dieses Trainingsvorgang, anhand von Textdaten und zugehörigen <b>Klassen</b> Regeln zu finden, mithilfe derer neue Textdaten klassifiziert werden können. Das Machine Learning Modell versucht bei diesem Lernvorgang (daher auch das \"Learning\" im Namen) zu <u>verallgemeinern</u>, damit es für neue Daten benutzen werden kann (<b>Lerntransfer</b>). Dieser Vorgang wird durch die folgende Grafik sehr gut verdeutlicht.\n",
    "\n",
    "<img src=\"https://monkeylearn.com/static/img/text-classification-training.png\" alt=\"Machine Learning Text classification\" style=\"width: 650px;\"/><br>\n",
    "\n",
    "\n",
    "\"Tags\" steht hier gleichbedeutend für \"Labels\" oder \"Klassen\".[<sup>1</sup>](#fn1)\n",
    "Auf die <b>Feature Vectors</b> (hier: Features) wird in den nächsten Kapiteln noch genauer eingegangen, hier aber schonmal soviel: Damit Machine Learning Textklassifikationsverfahren mit Texten arbeiten können, müssen Merkmale aus dieses Texten extrahiert werden. Diesen Vorgang nennt man <b>Feature Extraction</b>. Mit einer speziellen Methode werden die Textdaten in eine numerische Darstellung in Form eines Vektors umgewandelt. Diese Vektordarstellung können die Machine Learning Modelle dann weiterverarbeiten. Nachdem ein Machine Learning System trainiert worden ist, haben wir als Resultat ein Modell. Diesem Modell können wir neue Daten übergeben, die nicht beim Training verwendet worden sind, und <b>Voraussagen</b> (englisch: predictions) treffen. Bei der Textklassifikation versuchen wir, unbekannte Texte anhand unseres Machine Learning Modells zu klassifizieren.<br>\n",
    "\n",
    "\n",
    "<img src=\"https://monkeylearn.com/static/img/text-classification-predictions2.png\" alt=\"Machine Learning Text prediction\" style=\"width: 650px;\"/><br>\n",
    "\n",
    "<hr style=\"border: 0.1px solid black;\"/>\n",
    "<span id=\"fn1\" style=\"font-size:8pt; line-height:1\"><sup style=\"font-size:5pt\">1</sup> &nbsp; \n",
    "Tatsächlich gibt es Unterschiede zwischen den Bezeichnungen, die zu Beginn jedoch verwirrend sein können, weshalb wir in dieser Tutorialreihe die Begriffe deckungsgleich verwenden werden. Für die Unterschiede siehe z.B. die Diskussionen bei <a href=\"https://datascience.stackexchange.com/questions/9074/is-there-a-difference-between-classification-and-labeling\">Stack Exchange</a>."
   ]
  },
  {
   "cell_type": "markdown",
   "metadata": {},
   "source": [
    "## 1.4. Arten von Machine Learning Klassifizierungsmethoden <a class=\"anchor\" id=\"1-4\"/>"
   ]
  },
  {
   "cell_type": "markdown",
   "metadata": {},
   "source": [
    "### 1.4.1. Probabilistische und nicht-probabilistische Verfahren"
   ]
  },
  {
   "cell_type": "markdown",
   "metadata": {},
   "source": [
    "Wir unterteilen die Machine Learning Klassifizierungsmethoden in <b>probabilistische</b> und <b>nicht-probabilistische</b> Klassifizierungsverfahren.<br>\n",
    "\n",
    "<b>Probabilistische Klassifizierungsverfahren</b> nutzen statistische Methoden zur Klassifizierung von Daten. Beispiele für probabilistische Klassifizierungsverfahren sind <b>Naive Bayes</b> (Kapitel 3 und 4) oder <b>Logistic Regression</b> (Kapitel 6). <br>\n",
    "\n",
    "<b>Nicht-probabilistischen Klassifizierungsverfahren</b> werden in weitere Klassifizierungsverfahren unterteilt. So gibt es die <b>Kernel-Methoden</b>, bei der Daten in einen hochdimensionalen Raum abgebildet werden. Mithilfe des <i>Kernels</i> (deutsch: Kern) können Berechnungen in diesem Raum durchgeführt werden. Das bekannteste Klassifizierungsverfahren, dass die Kernel-Methode nutzt, ist <b>SVM</b> (Kapitel 8).<br> Weiterhin gibt es die <b>Entscheidungsbäume</b>, <b>Random Forest</b> und die <b>Gradient Boosting Machines</b>. Bei <b>Entscheidungsbäumen </b>werden Daten in ein Baumdiagramm übertragen und die Klassifizierung erfolgt durch Entscheidungsregeln. Beim <b>Random Forest</b>-Algorithmus werden viele spezialisierte Entscheidungsbäume genutzt und deren Ausgaben zusammengefasst. <b>Gradient Boosting Machines</b> funktionieren ähnlich wie der Random Forest-Algorithmus, nutzen jedoch die <b>Gradient Boosting</b>-Methode, mithilfe derer die Schwachpunkte vorangeganger Modelle korrigiert werden sollen. Ein bekanntes Verfahren für Gradient Boosting Machines ist <b>XGBoost</b> (Kapitel 9)."
   ]
  },
  {
   "cell_type": "markdown",
   "metadata": {},
   "source": [
    "### 1.4.2. Binary, Multiclass und multi-label classification"
   ]
  },
  {
   "cell_type": "markdown",
   "metadata": {},
   "source": [
    "Ein wichtige Unterscheidung von Klassifikationsverfahren ist die Unterteilung in <b>binary</b>, <b>multiclass</b> und <b>multi-label</b> classification. Dabei ist die Anzahl und die Zuweisung der Klassen von Bedeutung. Gibt es nur zwei verschiedene Arten von Klassen, spricht man von einer <b>binary classification</b> (deutsch: binäre Klassifikation). Ein populäres Beispiel dafür ist die Spam-Mail-Erkennung. Eine Mail kann dabei nur der Klasse \"Spam\" oder \"Nicht-Spam\" zugehören, nicht aber einer dritten Klasse wie \"Vielleicht-Spam\". Gibt es drei oder mehr verschiedene Arten von Klassen, handelt es sich um eine <b>multiclass classification</b> (deutsch: Mehrklassenklassifikation). Möchte man beispielsweise Nachrichtenartikel anhand von Rubriken klassifizieren, könnten mögliche Klassen Politik, Wirtschaft, Lokales oder Sport sein. Bei der multiclass classification ist jedoch ein Objekt nur einer Klasse zugeordnet. Ein Nachrichtenartikel könnte also nur der Rubrik \"Politik\" zugeordnet sein, nicht aber der Rubrik \"Politik\" und \"Wirtschaft\". Wenn ein Objekt mehreren Klassen zugeordnet sein kann, spricht man von einer <b>multilabel classification</b>.<br>\n",
    "\n",
    "Eine Unterscheidung dieser Klassifikationsvarianten ist für die Anwendung von Klassifikationsverfahren entscheidend, da sie grundsätzlich anders funktionieren. Ein Datensatz mit mehreren Klassen kann nicht mit einem binären Klassifikationsverfahren klassifiziert werden. Die Software-Bibliothek <b>Scikit learn</b> bietet hier den Vorteil, dass alle Klassifizierungsverfahren eigenständig binary and multiclass classification unterstützen. Manche Parameter und Parameterwerte können jedoch nur für ein bestimmte Variante benutzt werden."
   ]
  }
 ],
 "metadata": {
  "kernelspec": {
   "display_name": "Python 3",
   "language": "python",
   "name": "python3"
  },
  "language_info": {
   "codemirror_mode": {
    "name": "ipython",
    "version": 3
   },
   "file_extension": ".py",
   "mimetype": "text/x-python",
   "name": "python",
   "nbconvert_exporter": "python",
   "pygments_lexer": "ipython3",
   "version": "3.6.8"
  }
 },
 "nbformat": 4,
 "nbformat_minor": 2
}
