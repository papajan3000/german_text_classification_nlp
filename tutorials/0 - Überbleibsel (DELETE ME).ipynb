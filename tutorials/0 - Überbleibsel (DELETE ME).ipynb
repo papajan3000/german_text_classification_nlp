{
 "cells": [
  {
   "cell_type": "markdown",
   "metadata": {},
   "source": [
    "# ÜBERBLEIBSEL "
   ]
  },
  {
   "cell_type": "markdown",
   "metadata": {},
   "source": [
    "TODO: das woanders hin? überhaupt benutzen? vllt kapitel 0?\n",
    "\n",
    "#### Literatur- und Lese-Tipps:\n",
    "<i>VanderPlas</i>, Jake [Hg.], Data Science mit Python: das Handbuch für den Einsatz von IPython, Jupyter, NumPy, Pandas, Matplotlib, Scikit-Learn, übers. v. Lorenz <i>Knut</i>, Frechen 2018.\n",
    "- Einführung in Jupyter Notebooks, Numpy, Pandas und Matplotlib\n",
    "- Übersicht zu scikit-learn\n",
    "- Ausführliche Erläuterung von Textklassifikations-Verfahren wie Naive Bayes, SVM und Entscheidungsbäume\n",
    "- aktuell (Stand 2019)\n",
    "- verfügbar in Deutsch und Englisch"
   ]
  },
  {
   "cell_type": "code",
   "execution_count": null,
   "metadata": {},
   "outputs": [],
   "source": []
  },
  {
   "cell_type": "markdown",
   "metadata": {},
   "source": [
    "FÜR DL KAPITEL: https://www.golem.de/news/deep-learning-maschinen-die-wie-menschen-lernen-1510-116468-6.html\n",
    "\n",
    "<u>Infos</u>:\n",
    "- Englisches Tutorial: https://github.com/justmarkham/scikit-learn-videos"
   ]
  },
  {
   "cell_type": "code",
   "execution_count": null,
   "metadata": {},
   "outputs": [],
   "source": []
  },
  {
   "cell_type": "code",
   "execution_count": null,
   "metadata": {},
   "outputs": [],
   "source": []
  },
  {
   "cell_type": "code",
   "execution_count": null,
   "metadata": {},
   "outputs": [],
   "source": []
  }
 ],
 "metadata": {
  "kernelspec": {
   "display_name": "Python 3",
   "language": "python",
   "name": "python3"
  },
  "language_info": {
   "codemirror_mode": {
    "name": "ipython",
    "version": 3
   },
   "file_extension": ".py",
   "mimetype": "text/x-python",
   "name": "python",
   "nbconvert_exporter": "python",
   "pygments_lexer": "ipython3",
   "version": "3.6.8"
  }
 },
 "nbformat": 4,
 "nbformat_minor": 2
}
