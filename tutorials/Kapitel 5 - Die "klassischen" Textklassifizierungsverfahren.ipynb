{
 "cells": [
  {
   "cell_type": "markdown",
   "metadata": {},
   "source": [
    "# Kapitel 5 - Die \"klassischen\" Textklassifizierungsverfahren"
   ]
  },
  {
   "cell_type": "markdown",
   "metadata": {},
   "source": []
  },
  {
   "cell_type": "markdown",
   "metadata": {},
   "source": [
    "## 5.1. Übersicht"
   ]
  },
  {
   "cell_type": "markdown",
   "metadata": {},
   "source": [
    "In diesem Kapitel werden die verschiedene Klassifizierungsverfahren aus Kapitel 1 auf die Trainingskorpora aus Kapitel 2 angewandt und durch die Berechnung des F1-scores miteinander verglichen. Das Ziel ist dabei, ein Klassifizierungsverfahren mit einem hohen F1-score zu finden, welches auch beim Kreuzvalidierungsverfahren konstant ähnliche Werte generiert. Das beste Verfahren soll dann durch eine genauere Parameteranpassung auf das Trainingskorpus angewendet werden. Zuletzt schauen wir, ob sich durch verschiedene Varianten der Nachbearbeitungsmethoden auf dem Grundkorpus die F1-scores verbessern lassen können (AF)."
   ]
  },
  {
   "cell_type": "markdown",
   "metadata": {},
   "source": [
    "## 5.2. Vergleich von Textklassifizierungsverfahren"
   ]
  },
  {
   "cell_type": "markdown",
   "metadata": {},
   "source": []
  },
  {
   "cell_type": "markdown",
   "metadata": {},
   "source": []
  },
  {
   "cell_type": "markdown",
   "metadata": {},
   "source": []
  },
  {
   "cell_type": "code",
   "execution_count": null,
   "metadata": {},
   "outputs": [],
   "source": []
  }
 ],
 "metadata": {
  "kernelspec": {
   "display_name": "Python 3",
   "language": "python",
   "name": "python3"
  },
  "language_info": {
   "codemirror_mode": {
    "name": "ipython",
    "version": 3
   },
   "file_extension": ".py",
   "mimetype": "text/x-python",
   "name": "python",
   "nbconvert_exporter": "python",
   "pygments_lexer": "ipython3",
   "version": "3.6.8"
  }
 },
 "nbformat": 4,
 "nbformat_minor": 2
}
