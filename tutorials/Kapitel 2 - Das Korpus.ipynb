{
 "cells": [
  {
   "cell_type": "markdown",
   "metadata": {},
   "source": [
    "# Kapitel 2 - Das Korpus"
   ]
  },
  {
   "cell_type": "markdown",
   "metadata": {},
   "source": [
    "## 2.1. Kapitelübersicht <a class=\"anchor\" id=\"2-1\"/>\n",
    "\n",
    "Textklassifikationsverfahren klassifizieren anhand von Textdaten. Gesammelte Textdaten werden auch <b>Textkorpus</b> gennant.\n",
    "\n",
    "<b>Abschnittsübersicht</b><br>\n",
    "\n",
    "[2.1. Kapitelübersicht](#2-1)<br>\n",
    "[2.2. Analyse eines kleinen Datensatzes](#2-2)<br>\n",
    "[2.3. Aufbau des Wikipedia-Korpus](#2-3)<br>"
   ]
  },
  {
   "cell_type": "markdown",
   "metadata": {},
   "source": [
    "## 2.2. Analyse eines kleinen Datensatzes <a class=\"anchor\" id=\"2-2\"/>"
   ]
  },
  {
   "cell_type": "markdown",
   "metadata": {},
   "source": [
    "Textklassifikation kann nur anhand von Daten durchgeführt werden. Diese Daten müssen aus zwei wesentlichen Dingen(?) bestehen: Texten und Klassen. Klassen können bei einer Textklassifikation sehr unterschiedliche Dinge sein, z.B. ein Musikgenre, ein Username, eine Zusammenfassung oder eine Punktzahl. Im folgenden Beispiel schauen wir uns einen Datensatz an, dessen Textdaten Filmrezensionen und die Klassen Schulnoten von 1-6 sind."
   ]
  },
  {
   "cell_type": "code",
   "execution_count": 1,
   "metadata": {},
   "outputs": [
    {
     "data": {
      "text/html": [
       "<div>\n",
       "<style scoped>\n",
       "    .dataframe tbody tr th:only-of-type {\n",
       "        vertical-align: middle;\n",
       "    }\n",
       "\n",
       "    .dataframe tbody tr th {\n",
       "        vertical-align: top;\n",
       "    }\n",
       "\n",
       "    .dataframe thead th {\n",
       "        text-align: right;\n",
       "    }\n",
       "</style>\n",
       "<table border=\"1\" class=\"dataframe\">\n",
       "  <thead>\n",
       "    <tr style=\"text-align: right;\">\n",
       "      <th></th>\n",
       "      <th>Note</th>\n",
       "      <th>Rezension</th>\n",
       "    </tr>\n",
       "  </thead>\n",
       "  <tbody>\n",
       "    <tr>\n",
       "      <th>r1</th>\n",
       "      <td>1</td>\n",
       "      <td>Der Film war so genial!</td>\n",
       "    </tr>\n",
       "    <tr>\n",
       "      <th>r2</th>\n",
       "      <td>6</td>\n",
       "      <td>Schlechtester Film aller Zeiten!!!!1!!!1!!</td>\n",
       "    </tr>\n",
       "    <tr>\n",
       "      <th>r3</th>\n",
       "      <td>3</td>\n",
       "      <td>Er war schon okay</td>\n",
       "    </tr>\n",
       "    <tr>\n",
       "      <th>r4</th>\n",
       "      <td>1</td>\n",
       "      <td>Ich will den Film für den Rest meines Lebens j...</td>\n",
       "    </tr>\n",
       "    <tr>\n",
       "      <th>r5</th>\n",
       "      <td>2</td>\n",
       "      <td>Richtig guter Film mit kleineren Schwächen</td>\n",
       "    </tr>\n",
       "    <tr>\n",
       "      <th>r6</th>\n",
       "      <td>4</td>\n",
       "      <td>Naja, gibt besseres, aber auch schlechteres, w...</td>\n",
       "    </tr>\n",
       "    <tr>\n",
       "      <th>r7</th>\n",
       "      <td>5</td>\n",
       "      <td>Bis auf die Songauswahl war der Film zum Kotzen</td>\n",
       "    </tr>\n",
       "  </tbody>\n",
       "</table>\n",
       "</div>"
      ],
      "text/plain": [
       "    Note                                          Rezension\n",
       "r1     1                            Der Film war so genial!\n",
       "r2     6         Schlechtester Film aller Zeiten!!!!1!!!1!!\n",
       "r3     3                                  Er war schon okay\n",
       "r4     1  Ich will den Film für den Rest meines Lebens j...\n",
       "r5     2         Richtig guter Film mit kleineren Schwächen\n",
       "r6     4  Naja, gibt besseres, aber auch schlechteres, w...\n",
       "r7     5    Bis auf die Songauswahl war der Film zum Kotzen"
      ]
     },
     "execution_count": 1,
     "metadata": {},
     "output_type": "execute_result"
    }
   ],
   "source": [
    "import pandas as pd\n",
    "\n",
    "d = {\"r1\": [1, \"Der Film war so genial!\"], \n",
    "     \"r2\": [6, \"Schlechtester Film aller Zeiten!!!!1!!!1!!\"],\n",
    "     \"r3\": [3, \"Er war schon okay\"],\n",
    "     \"r4\": [1, \"Ich will den Film für den Rest meines Lebens jeden Tag gucken :O\"],\n",
    "     \"r5\": [2, \"Richtig guter Film mit kleineren Schwächen\"],\n",
    "     \"r6\": [4, \"Naja, gibt besseres, aber auch schlechteres, wenn auch nicht viel...\"],\n",
    "     \"r7\": [5, \"Bis auf die Songauswahl war der Film zum Kotzen\"]}\n",
    "df = pd.DataFrame.from_dict(d, orient=\"index\", columns=[\"Note\", \"Rezension\"])\n",
    "df"
   ]
  },
  {
   "cell_type": "markdown",
   "metadata": {},
   "source": [
    "Ein guter erster Schritt, um sich mit einem Datensatz vertraut zu machen, ist eine <b>Verteilung</b> der Klassen zu visualisieren. Wir können somit erkennen, dass jede Schulnote in unserem Datensatz einmal vorkommt. Nur die Note \"1\" kommt zweimal vor. Keine der Schulnoten fehlt, weshalb ein Klassifizierungsverfahren bei einer Voraussage von neuen Texten jede Schulnote vergeben könnte."
   ]
  },
  {
   "cell_type": "code",
   "execution_count": 41,
   "metadata": {},
   "outputs": [
    {
     "data": {
      "image/png": "[encoded data removed]",
      "text/plain": [
       "<Figure size 576x288 with 1 Axes>"
      ]
     },
     "metadata": {
      "needs_background": "light"
     },
     "output_type": "display_data"
    }
   ],
   "source": [
    "import matplotlib.pyplot as plt\n",
    "plt.figure(figsize=(8,4))\n",
    "ax = df.groupby('Note').Rezension.count().plot.bar(rot=0)\n",
    "ax.set_ylabel(\"Anzahl\")\n",
    "ax.set_yticks([0, 1, 2])\n",
    "plt.show()"
   ]
  },
  {
   "cell_type": "markdown",
   "metadata": {},
   "source": [
    "Dieser Datensatz ist nicht besonders groß. Eine Textklassifizierung wäre hier nicht unbedingt nötig, da dies von Menschen schneller erledigt werden kann. Bei größeren Datensätzen ist eine menschliche Textklassifikation entweder sehr aufwändig oder nicht möglich."
   ]
  },
  {
   "cell_type": "markdown",
   "metadata": {},
   "source": [
    "## 2.3. Aufbau des Wikipedia-Korpus <a class=\"anchor\" id=\"2-3\"/>"
   ]
  },
  {
   "cell_type": "markdown",
   "metadata": {},
   "source": [
    "Im Gegensatz zu englischsprachigen Datensätzen sind deutschsprachige Datensätze nicht so weit verbreitet. Das Unternehmen Lionbridge hat eine Listen von deutschen <a href=\"https://lionbridge.ai/datasets/20-best-german-language-datasets-for-machine-learning/\">Datensätzen</a> erstellt. Wir werden in diesem Tutorial ein von mir selbst erstelltes Korpus verwenden. Es ist eine verbesserte Version des Korpus, der im Zuge des \"Word Embeddings\"-Seminars an der Julius-Maximilians-Universität im Wintersemester 2018/19 entstanden ist. Dieses Korpus besteht aus Wikipediartikeln, deren Klassen Kategorien von Wikipedia sind. Das selbsterstelle Tool \"wikiparser.py\" befindet sich ebenfalls im Github-Projet <a href=\"https://github.com/papajan3000/german_text_classification_nlp\">german_text_classification_nlp</a>. Eine Erläuterung, wie dieses Korpus erstellt wurde und wie die Daten nachbearbeitet wurden, befindet sich im Bonuskapitel ??? (TODO). In diesem Kapitel soll zunächst nur ein Einblick in das Korpus gegeben werden."
   ]
  },
  {
   "cell_type": "code",
   "execution_count": 62,
   "metadata": {},
   "outputs": [
    {
     "data": {
      "text/html": [
       "<div>\n",
       "<style scoped>\n",
       "    .dataframe tbody tr th:only-of-type {\n",
       "        vertical-align: middle;\n",
       "    }\n",
       "\n",
       "    .dataframe tbody tr th {\n",
       "        vertical-align: top;\n",
       "    }\n",
       "\n",
       "    .dataframe thead th {\n",
       "        text-align: right;\n",
       "    }\n",
       "</style>\n",
       "<table border=\"1\" class=\"dataframe\">\n",
       "  <thead>\n",
       "    <tr style=\"text-align: right;\">\n",
       "      <th></th>\n",
       "      <th>id</th>\n",
       "      <th>category</th>\n",
       "      <th>length</th>\n",
       "      <th>text</th>\n",
       "    </tr>\n",
       "  </thead>\n",
       "  <tbody>\n",
       "    <tr>\n",
       "      <th>0</th>\n",
       "      <td>3470</td>\n",
       "      <td>Album nach Typ</td>\n",
       "      <td>1050</td>\n",
       "      <td>All the Best ! ( englisch Alles Gute ! ) ist d...</td>\n",
       "    </tr>\n",
       "    <tr>\n",
       "      <th>1</th>\n",
       "      <td>3611</td>\n",
       "      <td>Album nach Typ</td>\n",
       "      <td>525</td>\n",
       "      <td>Let It Roll : Songs by George Harrison ist das...</td>\n",
       "    </tr>\n",
       "    <tr>\n",
       "      <th>2</th>\n",
       "      <td>3612</td>\n",
       "      <td>Album nach Typ</td>\n",
       "      <td>251</td>\n",
       "      <td>Lieder wie Orkane ist das dritte offizielle Be...</td>\n",
       "    </tr>\n",
       "    <tr>\n",
       "      <th>3</th>\n",
       "      <td>3613</td>\n",
       "      <td>Album nach Typ</td>\n",
       "      <td>756</td>\n",
       "      <td>Long Stick Goes Boom : The Anthology ist eine ...</td>\n",
       "    </tr>\n",
       "    <tr>\n",
       "      <th>4</th>\n",
       "      <td>3614</td>\n",
       "      <td>Album nach Typ</td>\n",
       "      <td>260</td>\n",
       "      <td>Los Grandes Éxitos en Español ( spanisch für D...</td>\n",
       "    </tr>\n",
       "  </tbody>\n",
       "</table>\n",
       "</div>"
      ],
      "text/plain": [
       "     id        category  length  \\\n",
       "0  3470  Album nach Typ    1050   \n",
       "1  3611  Album nach Typ     525   \n",
       "2  3612  Album nach Typ     251   \n",
       "3  3613  Album nach Typ     756   \n",
       "4  3614  Album nach Typ     260   \n",
       "\n",
       "                                                text  \n",
       "0  All the Best ! ( englisch Alles Gute ! ) ist d...  \n",
       "1  Let It Roll : Songs by George Harrison ist das...  \n",
       "2  Lieder wie Orkane ist das dritte offizielle Be...  \n",
       "3  Long Stick Goes Boom : The Anthology ist eine ...  \n",
       "4  Los Grandes Éxitos en Español ( spanisch für D...  "
      ]
     },
     "execution_count": 62,
     "metadata": {},
     "output_type": "execute_result"
    }
   ],
   "source": [
    "corpus = pd.read_csv(\"tutorialdata/corpora/wikicorpus_v2.csv\", index_col=0)\n",
    "corpus.head()"
   ]
  },
  {
   "cell_type": "markdown",
   "metadata": {},
   "source": [
    "Jede Zeile unseres Korpus repräsentiert einen Artikel von Wikipedia. Jeder Artikel hat 4 Eigenschaften, repräsentiert durch die Spalten: Eine ID (<b>\"id\"</b>), eine Kategorie (<b>\"category\"</b>, eine Länge (<b>\"length\"</b>) und der Artikel selber (<b>\"text\"</b>\").<br>\n",
    "Wie bereits beim Filmrezensionen-Datensatz schauen wir uns zuerst die <b>Verteilung der Klassen</b> an."
   ]
  },
  {
   "cell_type": "code",
   "execution_count": 64,
   "metadata": {},
   "outputs": [
    {
     "data": {
      "image/png": "[encoded data removed]",
      "text/plain": [
       "<Figure size 1296x432 with 1 Axes>"
      ]
     },
     "metadata": {
      "needs_background": "light"
     },
     "output_type": "display_data"
    }
   ],
   "source": [
    "plt.figure(figsize=(18,6))\n",
    "ax = corpus.groupby('category').text.count().plot.bar(rot=0)\n",
    "ax.set_ylabel(\"Anzahl der Artikel\")\n",
    "ax.set_ylabel(\"Kategorien\")\n",
    "ax.set_xticklabels([])\n",
    "plt.show()"
   ]
  },
  {
   "cell_type": "markdown",
   "metadata": {},
   "source": [
    "Die zweite Version des Korpus, die wir hier sehen, wurde so bearbeitet, dass sie für jede Kategorie die gleiche Anzahl an Artikeln (genau 200) enthält. Die erste Version des Korpus sieht da noch anders aus:"
   ]
  },
  {
   "cell_type": "code",
   "execution_count": 66,
   "metadata": {},
   "outputs": [
    {
     "data": {
      "image/png": "[encoded data removed]",
      "text/plain": [
       "<Figure size 1296x432 with 1 Axes>"
      ]
     },
     "metadata": {
      "needs_background": "light"
     },
     "output_type": "display_data"
    }
   ],
   "source": [
    "old_corpus = pd.read_csv(\"tutorialdata/corpora/wikicorpus.csv\", index_col=0)\n",
    "plt.figure(figsize=(18,6))\n",
    "ax2 = old_corpus.groupby('category').text.count().plot.bar(rot=0)\n",
    "ax2.set_ylabel(\"Anzahl der Artikel\")\n",
    "ax2.set_ylabel(\"Kategorien\")\n",
    "ax2.set_xticklabels([])\n",
    "plt.show()"
   ]
  },
  {
   "cell_type": "markdown",
   "metadata": {},
   "source": [
    "Durch die Anpassung des ursprünglichen Korpus ist die Anzahl der Artikel insgesamt verringert worden."
   ]
  },
  {
   "cell_type": "code",
   "execution_count": 68,
   "metadata": {},
   "outputs": [
    {
     "name": "stdout",
     "output_type": "stream",
     "text": [
      "(6000, 4)\n",
      "(6942, 3)\n"
     ]
    }
   ],
   "source": [
    "print(corpus.shape)\n",
    "print(old_corpus.shape)"
   ]
  },
  {
   "cell_type": "code",
   "execution_count": null,
   "metadata": {},
   "outputs": [],
   "source": []
  },
  {
   "cell_type": "markdown",
   "metadata": {},
   "source": [
    "Warum Daten aufbereiten so wichtig ist bzw. was die meisten Data Scientist machen: https://www.forbes.com/sites/gilpress/2016/03/23/data-preparation-most-time-consuming-least-enjoyable-data-science-task-survey-says/#7c81cd56f637"
   ]
  },
  {
   "cell_type": "code",
   "execution_count": null,
   "metadata": {},
   "outputs": [],
   "source": []
  },
  {
   "cell_type": "markdown",
   "metadata": {},
   "source": [
    "kein imbalanced dataset (kapitel 5)"
   ]
  },
  {
   "cell_type": "code",
   "execution_count": null,
   "metadata": {},
   "outputs": [],
   "source": []
  }
 ],
 "metadata": {
  "kernelspec": {
   "display_name": "Python 3",
   "language": "python",
   "name": "python3"
  },
  "language_info": {
   "codemirror_mode": {
    "name": "ipython",
    "version": 3
   },
   "file_extension": ".py",
   "mimetype": "text/x-python",
   "name": "python",
   "nbconvert_exporter": "python",
   "pygments_lexer": "ipython3",
   "version": "3.6.8"
  }
 },
 "nbformat": 4,
 "nbformat_minor": 2
}
