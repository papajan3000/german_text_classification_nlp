{
 "cells": [
  {
   "cell_type": "markdown",
   "metadata": {},
   "source": [
    "# Kapitel 12 - Neuronale Netze mit Keras"
   ]
  },
  {
   "cell_type": "code",
   "execution_count": 16,
   "metadata": {},
   "outputs": [
    {
     "data": {
      "text/plain": [
       "[]"
      ]
     },
     "execution_count": 16,
     "metadata": {},
     "output_type": "execute_result"
    }
   ],
   "source": [
    "#check if gpu is available\n",
    "from keras import backend as K\n",
    "K.tensorflow_backend._get_available_gpus()"
   ]
  },
  {
   "cell_type": "code",
   "execution_count": null,
   "metadata": {},
   "outputs": [],
   "source": []
  },
  {
   "cell_type": "markdown",
   "metadata": {},
   "source": [
    "## Kapitel ?.2. Implementierung mit Keras"
   ]
  },
  {
   "cell_type": "markdown",
   "metadata": {},
   "source": [
    "<div class=\"alert alert-warning\">\n",
    "<b>Aufgabe:</b> Kapitel 3 - Einführung in Neuronale Netze\n",
    "    \n",
    "Lesen Sie Kapitel 3 und implementieren Sie die Beispiele in einem Jupyter Notebook. Besonderer Fokus sollte auf Kapitel 3.5 gelegt werden. Kapitel 3.6 sollten Sie zwar lesen, Regression wird in dieser Tutorialreihe jedoch nicht weiter behandelt.\n",
    "\n",
    "<b>Hinweise</b>:\n",
    "- Wenn eine NVIDIA Grafikkarte mit GPU vorhanden, am besten auf der GPU trainieren. <b>Achtung</b>: Der Installationsprozess kann teilweise sehr frustrierend sein. Achten Sie auf die richtigen Version. Onlineguides sollten Ihnen dabei helfen.\n",
    "- Sollte keine GPU vorhanden sein oder die Installation nicht funktionieren, empfehle ich, <a href=\"https://colab.research.google.com/notebooks/welcome.ipynb#recent=true\"><b>Google Colab</b></a> zu nutzen. Google Colab funktioniert ähnlich wie Jupyter Notebooks und bietet kostenlosen GPU-Speicher. Unter `File/Open Notebook` können Jupyter Notebooks geladen werden. Unter `Runtime/Change runtime type` kann als Hardware accelerator die GPU ausgewählt werden. Am Anfang jedes der folgenden Tutorial-Notebooks stelle ich zwei Zeilen Code zur Verfügung, mit denen getestet werden kann, ob die GPU verfügbar ist. Dies sollte immer vor dem eigentlichen Training getestet werden.\n",
    "- Chollet benutzt die <b>One-Hot-Codierung</b> nicht immer richtig. Verwenden Sie am besten immer `to_categorical` von `from keras.utils.np_utils import to_categorical` anstatt den Code, den Chollet selbst erstellt hat.\n",
    "\n",
    "\n",
    "<b>Aufgaben</b>:\n",
    "- Führen Sie einige der Experimente in aus 3.4.6. aus.\n",
    "- \n",
    "\n",
    "\n",
    "<b>Optional</b>:<br>\n",
    "- "
   ]
  },
  {
   "cell_type": "code",
   "execution_count": null,
   "metadata": {},
   "outputs": [],
   "source": []
  },
  {
   "cell_type": "code",
   "execution_count": 63,
   "metadata": {},
   "outputs": [],
   "source": [
    "from keras import models\n",
    "from keras import layers\n",
    "from keras.utils.np_utils import to_categorical\n",
    "from keras.layers import Dropout\n",
    "\n",
    "from sklearn.feature_extraction.text import CountVectorizer, TfidfVectorizer\n",
    "from sklearn.preprocessing import LabelEncoder, OneHotEncoder\n",
    "from sklearn.model_selection import train_test_split\n",
    "\n",
    "import pandas as pd\n",
    "import numpy as np\n",
    "import matplotlib.pyplot as plt"
   ]
  },
  {
   "cell_type": "markdown",
   "metadata": {},
   "source": [
    "#### Korpus laden"
   ]
  },
  {
   "cell_type": "code",
   "execution_count": 20,
   "metadata": {},
   "outputs": [],
   "source": [
    "corpus = pd.read_csv(\"tutorialdata/corpora/wikicorpus_v2.csv\")"
   ]
  },
  {
   "cell_type": "markdown",
   "metadata": {},
   "source": [
    "#### Vektorisieren der Daten"
   ]
  },
  {
   "cell_type": "markdown",
   "metadata": {},
   "source": [
    "Die Trainings- und Testdatensätze teilen wir nicht sonst üblich 80/20, sondern 60/40. Der Grund dafür ist, dass wir im Anschluss einen Validierungdatensatz aus den Testdatensätzen erzeugen, indem wir die Testdatensätze halbieren. Am Ende haben wir die Aufteilung 60/20/20 (Trainingsdatensatz/Validierungsdatensatz/Testdatensatz).<br>\n",
    "Zudem erstellen wir ein Dictionary mit dem Namen `vocab`, welches alle in unseren Texten vorkommende Wörter mit ihrer Häufigkeit speichern. Dieses benötigen wir für unser Modell."
   ]
  },
  {
   "cell_type": "code",
   "execution_count": 78,
   "metadata": {},
   "outputs": [],
   "source": [
    "vectorizer = TfidfVectorizer()\n",
    "vector = vectorizer.fit_transform(corpus[\"text\"])\n",
    "labels = LabelEncoder().fit_transform(corpus[\"category\"])\n",
    "vocab = vectorizer.vocabulary_\n",
    "\n",
    "\n",
    "\n",
    "\n",
    "X_train, X_test, y_train, y_test = train_test_split(vector, \n",
    "                                                    labels, \n",
    "                                                    test_size=0.4, \n",
    "                                                    train_size=0.6,\n",
    "                                                    random_state=42)\n",
    "X_val = X_test[:1200]\n",
    "X_test = X_test[1200:]\n",
    "\n",
    "y_val = y_test[:1200]\n",
    "y_test = y_test[1200:]"
   ]
  },
  {
   "cell_type": "markdown",
   "metadata": {},
   "source": [
    "#### One-hot-Codierung der Label"
   ]
  },
  {
   "cell_type": "markdown",
   "metadata": {},
   "source": [
    "TODO: One-hot-Codierung erklären!"
   ]
  },
  {
   "cell_type": "code",
   "execution_count": 79,
   "metadata": {},
   "outputs": [],
   "source": [
    "y_val = to_categorical(y_val)\n",
    "y_test = to_categorical(y_test)\n",
    "y_train = to_categorical(y_train)"
   ]
  },
  {
   "cell_type": "markdown",
   "metadata": {},
   "source": [
    "#### Ein Neuronales Netz für Multiclass Klassifizierung"
   ]
  },
  {
   "cell_type": "markdown",
   "metadata": {},
   "source": [
    "Unser Modell besteht aus einem Input-Layer, einem Hidden-Layer und einem Output-Layer. Wir haben hier ein 2-layer Netz vorliegen (der Input-Layer wird nicht mitgezählt). Als Aktivierungsfunktion benutzen wir die RELU-Funktion (siehe Kapitel 3.4.3). Als <i>hidden units</i> (deutsch: verdeckte Einheit, siehe Kapitel 3.4.3)<br> haben wir `64` gewählt.\n",
    "Im Input-Layer gibt es den Parameter `input_shape`. Dieser gibt an, welche Dimension die Daten haben. Hier können wir die Länge unseres Vokabulars angeben, d.h. die Anzahl der verschiedenen Wörter unseres Korpus. Im Output-Layer müssen wir die Dimension des Vektors angeben, die das Neuronale Netz für jede Eingabe ausgibt. Da unser Korpus 30 verschiedene Kategorien besitzt, muss hier `30` stehen. Um sicher zu gehen, dass die Dimension auch wirklich passt, geben wir `len(np.unique(labels))` an, also die Anzahl aller einzigarten Labelbezeichnungen. Als Optimizer haben wir <b>rmsprop</b> verwendet. Auf die Wahl der Optimizer werden wir später noch eingehen. Als Loss Function wählen wir <b>categorical_crossentropy</b>, die Umsetzung der cross entropy für mehr als 2 Klassen. Als Metrik nehmen wir die Classification accuracy (`accuracy`). In Kapitel 5 hatten wir eigentlich den <b>F1-score</b> als Evaluationsmaß festgelegt. Keras bietet jedoch seit der <a href=\"https://github.com/keras-team/keras/wiki/Keras-2.0-release-notes\">Version 2.0</a> keinen F1-score mehr an (der <a href=\"https://github.com/keras-team/keras/issues/5794\">Grund</a>). Wir werden zunächst ebenfalls nur die Classification Accuracy nutzen und den F1-score erst nach dem Training des Modells nutzen."
   ]
  },
  {
   "cell_type": "code",
   "execution_count": 123,
   "metadata": {},
   "outputs": [],
   "source": [
    "model = models.Sequential()\n",
    "# Input Layer\n",
    "model.add(layers.Dense(64, activation=\"relu\", input_shape=(len(vocab),)))\n",
    "# Hidden Layer\n",
    "model.add(layers.Dense(64, activation=\"relu\"))\n",
    "# Output Layer\n",
    "model.add(layers.Dense(len(np.unique(labels)), activation=\"softmax\"))\n",
    "\n",
    "\n",
    "model.compile(optimizer=\"rmsprop\",\n",
    "              loss=\"categorical_crossentropy\",\n",
    "              metrics=[\"accuracy\"])"
   ]
  },
  {
   "cell_type": "markdown",
   "metadata": {},
   "source": [
    "Hier trainieren wir unser Modell für 10 Epochen mit einer `batch_size` von `64`. Wenn kein Fortschrittsbalken erwünscht ist, muss auf `verbose = 0` gestellt werden. Das Modell speichern wir im `history`-Objekt, welches uns Auskunft über die verschiedenste beim Training vorgefallenen Ereignisse liefert.<br>\n",
    "Bei der Ausführung auf einer CPU dauert das Training etwa drei Minuten, auf einer GPU nur wenige Sekunden."
   ]
  },
  {
   "cell_type": "code",
   "execution_count": 124,
   "metadata": {},
   "outputs": [
    {
     "name": "stdout",
     "output_type": "stream",
     "text": [
      "Train on 3600 samples, validate on 1200 samples\n",
      "Epoch 1/10\n",
      "3600/3600 [==============================] - 18s 5ms/step - loss: 3.1788 - acc: 0.3697 - val_loss: 2.8545 - val_acc: 0.5358\n",
      "Epoch 2/10\n",
      "3600/3600 [==============================] - 18s 5ms/step - loss: 2.2308 - acc: 0.8081 - val_loss: 1.9175 - val_acc: 0.8025\n",
      "Epoch 3/10\n",
      "3600/3600 [==============================] - 18s 5ms/step - loss: 1.1233 - acc: 0.9661 - val_loss: 1.1336 - val_acc: 0.8992\n",
      "Epoch 4/10\n",
      "3600/3600 [==============================] - 18s 5ms/step - loss: 0.4340 - acc: 0.9956 - val_loss: 0.7021 - val_acc: 0.9083\n",
      "Epoch 5/10\n",
      "3600/3600 [==============================] - 20s 5ms/step - loss: 0.1475 - acc: 0.9983 - val_loss: 0.4760 - val_acc: 0.9258\n",
      "Epoch 6/10\n",
      "3600/3600 [==============================] - 20s 5ms/step - loss: 0.0475 - acc: 0.9997 - val_loss: 0.3681 - val_acc: 0.9258\n",
      "Epoch 7/10\n",
      "3600/3600 [==============================] - 19s 5ms/step - loss: 0.0145 - acc: 0.9997 - val_loss: 0.3151 - val_acc: 0.9267\n",
      "Epoch 8/10\n",
      "3600/3600 [==============================] - 21s 6ms/step - loss: 0.0044 - acc: 1.0000 - val_loss: 0.2929 - val_acc: 0.9283\n",
      "Epoch 9/10\n",
      "3600/3600 [==============================] - 21s 6ms/step - loss: 0.0012 - acc: 1.0000 - val_loss: 0.2667 - val_acc: 0.9275\n",
      "Epoch 10/10\n",
      "3600/3600 [==============================] - 21s 6ms/step - loss: 3.1760e-04 - acc: 1.0000 - val_loss: 0.2792 - val_acc: 0.9200\n"
     ]
    }
   ],
   "source": [
    "history = model.fit(X_train,\n",
    "                   y_train,\n",
    "                   epochs=10,\n",
    "                   batch_size=64,\n",
    "                   validation_data=(X_test, y_test),\n",
    "                   verbose=1)"
   ]
  },
  {
   "cell_type": "markdown",
   "metadata": {},
   "source": [
    "#### Visualisieren der Ergebnisse"
   ]
  },
  {
   "cell_type": "markdown",
   "metadata": {},
   "source": [
    "Für die Visualisierung der Ergebnisse fassen wir die Visualisierungsmethode aus dem Buch in einer Funktion `plot_results` zusammen. Im weiteren Verlauf der Tutorialreihe werden wir diese Visualisierungen nutzen, um unsere Ergebnisse zu interpretieren."
   ]
  },
  {
   "cell_type": "code",
   "execution_count": 125,
   "metadata": {},
   "outputs": [],
   "source": [
    "def plot_results(history):\n",
    "    loss = history.history[\"loss\"]\n",
    "    val_loss = history.history[\"val_loss\"]\n",
    "\n",
    "    epochs = range(1, len(loss) + 1)\n",
    "\n",
    "    plt.plot(epochs, loss, \"b\", label=\"Training loss\")\n",
    "    plt.plot(epochs, val_loss, \"ro\", label=\"Validation loss\")\n",
    "    plt.title(\"Training and validation loss\")\n",
    "    plt.xlabel(\"Epochs\")\n",
    "    plt.ylabel(\"Loss\")\n",
    "    plt.legend()\n",
    "\n",
    "    plt.show()\n",
    "\n",
    "    plt.clf() #clears the figure\n",
    "\n",
    "    acc = history.history[\"acc\"]\n",
    "    val_acc = history.history[\"val_acc\"]\n",
    "\n",
    "    plt.plot(epochs, acc, \"b\", label=\"Training acc\")\n",
    "    plt.plot(epochs, val_acc, \"ro\", label=\"Validation acc\")\n",
    "    plt.title(\"Training and validation accuracy\")\n",
    "    plt.xlabel(\"Epochs\")\n",
    "    plt.ylabel(\"Acc\")\n",
    "    plt.legend()\n",
    "\n",
    "    plt.show()"
   ]
  },
  {
   "cell_type": "code",
   "execution_count": 126,
   "metadata": {},
   "outputs": [
    {
     "data": {
      "image/png": "[encoded data removed]",
      "text/plain": [
       "<Figure size 432x288 with 1 Axes>"
      ]
     },
     "metadata": {
      "needs_background": "light"
     },
     "output_type": "display_data"
    },
    {
     "data": {
      "image/png": "[encoded data removed]",
      "text/plain": [
       "<Figure size 432x288 with 1 Axes>"
      ]
     },
     "metadata": {
      "needs_background": "light"
     },
     "output_type": "display_data"
    }
   ],
   "source": [
    "plot_results(history)"
   ]
  },
  {
   "cell_type": "markdown",
   "metadata": {},
   "source": [
    "<u>Interpretation</u>:<br>\n",
    "Die Loss Function verhält sich so, wie sie sollte, d.h. die Loss scores nehmen stetig ab und tendieren gegen Null. Die Trainings accuracy erreicht ab Epoche 4 100%, ein Wert, der uns eigentlich zeigen sollte, dass unser Modell perfekt auf unsere Daten trainiert hat. Jedoch messen wir während des Trainingsvorgangs auch unsere Validation accuracy die ab Epoche 4 etwa bei 92,5% liegt. Der Unterschied zwischen diesen beiden Werten sollte geringer sein, damit das Modell als gültiges Modell angesehen werden kann (AF!). Unser Modell <b>overfittet</b>, d.h. es passt sich zu stark an die Trainingsdaten an. In einem späteren Abschnitt werden wir uns dem Overfitting widmen. "
   ]
  },
  {
   "cell_type": "markdown",
   "metadata": {},
   "source": [
    "## ?.3. Evaluierung eines Keras Modells"
   ]
  },
  {
   "cell_type": "markdown",
   "metadata": {},
   "source": [
    "#### Berechnung des F1-scores"
   ]
  },
  {
   "cell_type": "markdown",
   "metadata": {},
   "source": [
    "Wir können den F1-score nun berechnen, da unser Modell fertig trainiert ist. Anders als bei Scikit learn müssen wir hier jedoch zuvor `np.argmax` anwenden, welches den Index des größten Wertes jeder Zeile zurückgibt."
   ]
  },
  {
   "cell_type": "code",
   "execution_count": 138,
   "metadata": {},
   "outputs": [
    {
     "name": "stdout",
     "output_type": "stream",
     "text": [
      "Der F1-score für die Klassifizierung mit Keras ist 0.92.\n"
     ]
    }
   ],
   "source": [
    "from sklearn.metrics import f1_score\n",
    "\n",
    "y_pred = model.predict(X_test)\n",
    "f1_keras = f1_score(np.argmax(y_test, axis=1), np.argmax(y_pred, axis=1), average=\"micro\")\n",
    "print(\"Der F1-score für die Klassifizierung mit Keras ist \"\n",
    "      + f\"{str(np.around(lr_f1, decimals=3))}.\")"
   ]
  },
  {
   "cell_type": "markdown",
   "metadata": {},
   "source": [
    "#### Evaluation"
   ]
  },
  {
   "cell_type": "markdown",
   "metadata": {},
   "source": [
    "Nun schauen wir uns die verschiedenen Scores an. Die Test accuracy, die Training accuracy und der F1-score haben alle etwa den Wert 0.92, nur die Validation accuracy ist niedriger. Wie bereits erwähnt bedeutet dies, dass unser Modell <b>overfittet</b>."
   ]
  },
  {
   "cell_type": "code",
   "execution_count": 140,
   "metadata": {},
   "outputs": [
    {
     "name": "stdout",
     "output_type": "stream",
     "text": [
      "1200/1200 [==============================] - 2s 2ms/step\n",
      "\n",
      "Results:\n",
      "Train_acc: 0.914\n",
      "Val_acc: 0.87\n",
      "Test_acc: 0.92\n",
      "F1-score: 0.92\n"
     ]
    }
   ],
   "source": [
    "test_loss, test_acc = model.evaluate(X_test, y_test)\n",
    "print(f\"\\nResults:\")\n",
    "print(f\"Train_acc: {np.around(np.mean(history.history['acc']), decimals=3)}\")\n",
    "print(f\"Val_acc: {np.around(np.mean(history.history['val_acc']), decimals=3)}\")\n",
    "print(f\"Test_acc: {np.around(test_acc, decimals=3)}\") \n",
    "print(f\"F1-score: {str(np.around(lr_f1, decimals=3))}\")"
   ]
  },
  {
   "cell_type": "markdown",
   "metadata": {},
   "source": [
    "#### Cross validation mit Keras"
   ]
  },
  {
   "cell_type": "markdown",
   "metadata": {},
   "source": [
    "Für eine Evaluierung von Keras Modellen können wir auch Cross Validation nutzen. Während es im Bereich des Machine Learning ein Gold-Standard für die Evaluierung von Klassifikationsverfahren ist, wird es im Bereich des Deep Learning nur selten eingesetzt. Deep Learning Modelle sind meist komplexer als die meisten Machine Learning Klassifikationsverfahren und können selbst auf einer GPU mehrere Stunde dauern. Eine Cross Validation würde deshalb sehr viel Rechenzeit benötigen. Bei kleineren Modellen kann es jedoch ein gutes Performance-Maß sein. Als Cross validation Methode nutzen wir hier <b>StratifiedKFold</b>, die Funktionsweise kann in der <a href=\"https://scikit-learn.org/stable/modules/generated/sklearn.model_selection.StratifiedKFold.html\">Dokumentation</a> eingesehen werden. Da StratifiedKFold mit One-Hot-Encoding nichts anfangen kann, müssen wir das Korpus noch einmal neu laden."
   ]
  },
  {
   "cell_type": "code",
   "execution_count": 170,
   "metadata": {},
   "outputs": [
    {
     "name": "stdout",
     "output_type": "stream",
     "text": [
      "(2010, 30)\n"
     ]
    },
    {
     "ename": "ValueError",
     "evalue": "Error when checking input: expected dense_73_input to have shape (215831,) but got array with shape (140959,)",
     "output_type": "error",
     "traceback": [
      "\u001b[0;31m---------------------------------------------------------------------------\u001b[0m",
      "\u001b[0;31mValueError\u001b[0m                                Traceback (most recent call last)",
      "\u001b[0;32m<ipython-input-170-4a019b1862bb>\u001b[0m in \u001b[0;36m<module>\u001b[0;34m\u001b[0m\n\u001b[1;32m     38\u001b[0m \u001b[0;34m\u001b[0m\u001b[0m\n\u001b[1;32m     39\u001b[0m     model.fit(X_train, y_train, validation_data=(X_test, y_test),\n\u001b[0;32m---> 40\u001b[0;31m               epochs=10, batch_size=64, verbose=0)\n\u001b[0m\u001b[1;32m     41\u001b[0m \u001b[0;34m\u001b[0m\u001b[0m\n\u001b[1;32m     42\u001b[0m     \u001b[0mscores\u001b[0m \u001b[0;34m=\u001b[0m \u001b[0mmodel\u001b[0m\u001b[0;34m.\u001b[0m\u001b[0mevaluate\u001b[0m\u001b[0;34m(\u001b[0m\u001b[0mX_test\u001b[0m\u001b[0;34m,\u001b[0m \u001b[0my_test\u001b[0m\u001b[0;34m,\u001b[0m \u001b[0mverbose\u001b[0m\u001b[0;34m=\u001b[0m\u001b[0;36m0\u001b[0m\u001b[0;34m)\u001b[0m\u001b[0;34m\u001b[0m\u001b[0;34m\u001b[0m\u001b[0m\n",
      "\u001b[0;32m~/.local/lib/python3.6/site-packages/keras/engine/training.py\u001b[0m in \u001b[0;36mfit\u001b[0;34m(self, x, y, batch_size, epochs, verbose, callbacks, validation_split, validation_data, shuffle, class_weight, sample_weight, initial_epoch, steps_per_epoch, validation_steps, validation_freq, max_queue_size, workers, use_multiprocessing, **kwargs)\u001b[0m\n\u001b[1;32m   1108\u001b[0m                 \u001b[0mval_x\u001b[0m\u001b[0;34m,\u001b[0m \u001b[0mval_y\u001b[0m\u001b[0;34m,\u001b[0m\u001b[0;34m\u001b[0m\u001b[0;34m\u001b[0m\u001b[0m\n\u001b[1;32m   1109\u001b[0m                 \u001b[0msample_weight\u001b[0m\u001b[0;34m=\u001b[0m\u001b[0mval_sample_weight\u001b[0m\u001b[0;34m,\u001b[0m\u001b[0;34m\u001b[0m\u001b[0;34m\u001b[0m\u001b[0m\n\u001b[0;32m-> 1110\u001b[0;31m                 batch_size=batch_size)\n\u001b[0m\u001b[1;32m   1111\u001b[0m             \u001b[0;32mif\u001b[0m \u001b[0mself\u001b[0m\u001b[0;34m.\u001b[0m\u001b[0m_uses_dynamic_learning_phase\u001b[0m\u001b[0;34m(\u001b[0m\u001b[0;34m)\u001b[0m\u001b[0;34m:\u001b[0m\u001b[0;34m\u001b[0m\u001b[0;34m\u001b[0m\u001b[0m\n\u001b[1;32m   1112\u001b[0m                 \u001b[0mval_inputs\u001b[0m \u001b[0;34m=\u001b[0m \u001b[0mval_x\u001b[0m \u001b[0;34m+\u001b[0m \u001b[0mval_y\u001b[0m \u001b[0;34m+\u001b[0m \u001b[0mval_sample_weights\u001b[0m \u001b[0;34m+\u001b[0m \u001b[0;34m[\u001b[0m\u001b[0;36m0.\u001b[0m\u001b[0;34m]\u001b[0m\u001b[0;34m\u001b[0m\u001b[0;34m\u001b[0m\u001b[0m\n",
      "\u001b[0;32m~/.local/lib/python3.6/site-packages/keras/engine/training.py\u001b[0m in \u001b[0;36m_standardize_user_data\u001b[0;34m(self, x, y, sample_weight, class_weight, check_array_lengths, batch_size)\u001b[0m\n\u001b[1;32m    755\u001b[0m             \u001b[0mfeed_input_shapes\u001b[0m\u001b[0;34m,\u001b[0m\u001b[0;34m\u001b[0m\u001b[0;34m\u001b[0m\u001b[0m\n\u001b[1;32m    756\u001b[0m             \u001b[0mcheck_batch_axis\u001b[0m\u001b[0;34m=\u001b[0m\u001b[0;32mFalse\u001b[0m\u001b[0;34m,\u001b[0m  \u001b[0;31m# Don't enforce the batch size.\u001b[0m\u001b[0;34m\u001b[0m\u001b[0;34m\u001b[0m\u001b[0m\n\u001b[0;32m--> 757\u001b[0;31m             exception_prefix='input')\n\u001b[0m\u001b[1;32m    758\u001b[0m \u001b[0;34m\u001b[0m\u001b[0m\n\u001b[1;32m    759\u001b[0m         \u001b[0;32mif\u001b[0m \u001b[0my\u001b[0m \u001b[0;32mis\u001b[0m \u001b[0;32mnot\u001b[0m \u001b[0;32mNone\u001b[0m\u001b[0;34m:\u001b[0m\u001b[0;34m\u001b[0m\u001b[0;34m\u001b[0m\u001b[0m\n",
      "\u001b[0;32m~/.local/lib/python3.6/site-packages/keras/engine/training_utils.py\u001b[0m in \u001b[0;36mstandardize_input_data\u001b[0;34m(data, names, shapes, check_batch_axis, exception_prefix)\u001b[0m\n\u001b[1;32m    139\u001b[0m                             \u001b[0;34m': expected '\u001b[0m \u001b[0;34m+\u001b[0m \u001b[0mnames\u001b[0m\u001b[0;34m[\u001b[0m\u001b[0mi\u001b[0m\u001b[0;34m]\u001b[0m \u001b[0;34m+\u001b[0m \u001b[0;34m' to have shape '\u001b[0m \u001b[0;34m+\u001b[0m\u001b[0;34m\u001b[0m\u001b[0;34m\u001b[0m\u001b[0m\n\u001b[1;32m    140\u001b[0m                             \u001b[0mstr\u001b[0m\u001b[0;34m(\u001b[0m\u001b[0mshape\u001b[0m\u001b[0;34m)\u001b[0m \u001b[0;34m+\u001b[0m \u001b[0;34m' but got array with shape '\u001b[0m \u001b[0;34m+\u001b[0m\u001b[0;34m\u001b[0m\u001b[0;34m\u001b[0m\u001b[0m\n\u001b[0;32m--> 141\u001b[0;31m                             str(data_shape))\n\u001b[0m\u001b[1;32m    142\u001b[0m     \u001b[0;32mreturn\u001b[0m \u001b[0mdata\u001b[0m\u001b[0;34m\u001b[0m\u001b[0;34m\u001b[0m\u001b[0m\n\u001b[1;32m    143\u001b[0m \u001b[0;34m\u001b[0m\u001b[0m\n",
      "\u001b[0;31mValueError\u001b[0m: Error when checking input: expected dense_73_input to have shape (215831,) but got array with shape (140959,)"
     ]
    }
   ],
   "source": [
    "from sklearn.model_selection import StratifiedKFold\n",
    "import numpy as np\n",
    "\n",
    "corpus = pd.read_csv(\"tutorialdata/corpora/wikicorpus_v2.csv\")\n",
    "\n",
    "vectorizer = TfidfVectorizer()\n",
    "vector = vectorizer.fit_transform(corpus[\"text\"])\n",
    "labels = LabelEncoder().fit_transform(corpus[\"category\"])\n",
    "\n",
    "\n",
    "kfold = StratifiedKFold(n_splits=3, shuffle=True, random_state=42)\n",
    "kfold.get_n_splits(X, y)\n",
    "\n",
    "cv_scores = []\n",
    "\n",
    "\n",
    "for train, test in kfold.split(X, y):\n",
    "    \n",
    "    X_train = vectorizer.fit_transform(X[train])\n",
    "    y_train = LabelEncoder().fit_transform(y[train])\n",
    "    X_test = vectorizer.fit_transform(X[test])\n",
    "    y_test = LabelEncoder().fit_transform(y[test])\n",
    "    \n",
    "    y_test = to_categorical(y_test)\n",
    "    y_train = to_categorical(y_train)\n",
    "    \n",
    "    \n",
    "    \n",
    "    print(y_test.shape)\n",
    "    model = models.Sequential()\n",
    "    model.add(layers.Dense(64, activation=\"relu\", input_shape=(X_train.shape[1],)))\n",
    "    model.add(layers.Dense(64, activation=\"relu\"))\n",
    "    model.add(layers.Dense(30, activation=\"softmax\"))\n",
    "    \n",
    "    model.compile(optimizer=\"rmsprop\",\n",
    "                  loss=\"categorical_crossentropy\",\n",
    "                  metrics=[\"accuracy\"])\n",
    "    \n",
    "    model.fit(X_train, y_train, validation_data=(X_test, y_test),\n",
    "              epochs=10, batch_size=64, verbose=0)\n",
    "    \n",
    "    scores = model.evaluate(X_test, y_test, verbose=0)\n",
    "    print(\"%s: %.2f%%\" % (model.metrics_names[1], scores[1]*100))\n",
    "    cv_scores.append(scores[1] * 100)\n",
    "\n",
    "\n",
    "print(\"%.2f%% (+/- %.2f%%)\" % (np.mean(cv_scores), np.std(cv_scores)))"
   ]
  },
  {
   "cell_type": "markdown",
   "metadata": {},
   "source": [
    "TODO\n",
    "- https://machinelearningmastery.com/multi-class-classification-tutorial-keras-deep-learning-library/"
   ]
  },
  {
   "cell_type": "code",
   "execution_count": null,
   "metadata": {},
   "outputs": [],
   "source": []
  }
 ],
 "metadata": {
  "kernelspec": {
   "display_name": "Python 3",
   "language": "python",
   "name": "python3"
  },
  "language_info": {
   "codemirror_mode": {
    "name": "ipython",
    "version": 3
   },
   "file_extension": ".py",
   "mimetype": "text/x-python",
   "name": "python",
   "nbconvert_exporter": "python",
   "pygments_lexer": "ipython3",
   "version": "3.6.8"
  }
 },
 "nbformat": 4,
 "nbformat_minor": 2
}
