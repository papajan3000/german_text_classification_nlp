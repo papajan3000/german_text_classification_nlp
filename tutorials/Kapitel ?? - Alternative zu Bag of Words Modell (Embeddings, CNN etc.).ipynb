{
 "cells": [
  {
   "cell_type": "markdown",
   "metadata": {},
   "source": [
    "# ?. ..."
   ]
  },
  {
   "cell_type": "markdown",
   "metadata": {},
   "source": [
    "## ?.? Grenzen des Bag-of-Words Modell <a class=\"anchor\" id=\"4-4\"/>\n",
    "\n",
    "MACHINE LEARNING MASTERY\n",
    "\n",
    "Das Bag-of-Word-Modell ist sehr einfach zu verstehen und zu implementieren und bietet viel Flexibilität bei der Anpassung Ihrer spezifischen Textdaten.\n",
    "\n",
    "Es wurde mit großem Erfolg bei Vorhersageproblemen wie Sprachmodellierung und Dokumentationsklassifizierung eingesetzt.\n",
    "\n",
    "Dennoch weist es einige Mängel auf, wie z.\n",
    "\n",
    "    Wortschatz: Der Wortschatz erfordert eine sorgfältige Gestaltung, insbesondere um die Größe zu verwalten, was sich auf die Sparsamkeit der Dokumentendarstellungen auswirkt.\n",
    "    Sparsity: Sparse Repräsentationen sind sowohl aus rechnerischen Gründen (Raum- und Zeitkomplexität) als auch aus Informationsgründen schwieriger zu modellieren, wenn die Modelle die Herausforderung haben, so wenig Informationen in einem so großen Repräsentationsraum zu nutzen.\n",
    "    Bedeutung: Das Verwerfen der Wortreihenfolge ignoriert den Kontext und die Bedeutung der Wörter im Dokument (Semantik). Kontext und Bedeutung können dem Modell eine Menge bieten, die, wenn sie modelliert werden, den Unterschied zwischen denselben Wörtern, die unterschiedlich angeordnet sind („das ist interessant“ und „das ist interessant“), Synonymen („altes Fahrrad“ und „gebrauchtes Fahrrad“), erkennen lassen. , und vieles mehr."
   ]
  },
  {
   "cell_type": "code",
   "execution_count": null,
   "metadata": {},
   "outputs": [],
   "source": []
  }
 ],
 "metadata": {
  "kernelspec": {
   "display_name": "Python 3",
   "language": "python",
   "name": "python3"
  },
  "language_info": {
   "codemirror_mode": {
    "name": "ipython",
    "version": 3
   },
   "file_extension": ".py",
   "mimetype": "text/x-python",
   "name": "python",
   "nbconvert_exporter": "python",
   "pygments_lexer": "ipython3",
   "version": "3.6.8"
  }
 },
 "nbformat": 4,
 "nbformat_minor": 2
}
