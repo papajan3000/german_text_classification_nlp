{
 "cells": [
  {
   "cell_type": "markdown",
   "metadata": {},
   "source": [
    "# Kapitel 1 - Einführung in die Textklassifikation"
   ]
  },
  {
   "cell_type": "markdown",
   "metadata": {},
   "source": [
    "#### Literatur- und Lese-Tipps:\n",
    "<i>VanderPlas</i>, Jake [Hg.], Data Science mit Python: das Handbuch für den Einsatz von IPython, Jupyter, NumPy, Pandas, Matplotlib, Scikit-Learn, übers. v. Lorenz <i>Knut</i>, Frechen 2018.\n",
    "- Einführung in Jupyter Notebooks, Numpy, Pandas und Matplotlib\n",
    "- Übersicht zu scikit-learn\n",
    "- Ausführliche Erläuterung von Textklassifikations-Verfahren wie Naive Bayes, SVM und Entscheidungsbäume\n",
    "- aktuell (Stand 2019)\n",
    "- verfügbar in Deutsch und Englisch"
   ]
  },
  {
   "cell_type": "markdown",
   "metadata": {},
   "source": [
    "## 1.1. Was ist Textklassifikation?"
   ]
  },
  {
   "cell_type": "markdown",
   "metadata": {},
   "source": [
    "<b>Texklassifikation</b> ist das Zuweisen von Kategorien oder Tags zu einem Text oder Dokument gemäß seines Inhaltes. Textklassifikation ist eines der grundlegenden Aufgaben im Bereich des <b>NLP</b> (= Natural Language Processing, deutsch: Verarbeitung natürlicher Sprache). Dort wird es in Bereichen wie der sentiment analysis (deutsch: Stimmungsanalyse), dem topic labeling (deutsch: Themenbeschriftung) oder der language detection (deutsch: Spracherkennung) genutzt.<br>\n",
    "Doch auch im alltäglichen Bereich werden Textklassifizierungsverfahren genutzt, etwa der Erkennung von Spam Mails oder der Unterscheidung von negativen oder positiven Reviews zu einem Produkt."
   ]
  },
  {
   "cell_type": "markdown",
   "metadata": {},
   "source": [
    "## 1.2. Arten von Textklassifikation"
   ]
  },
  {
   "cell_type": "markdown",
   "metadata": {},
   "source": [
    "Es gibt mehrere Arten von Textklassifikationsverfahren:\n",
    "- Regelbasierte Systeme\n",
    "- Maschinelle Lernsysteme\n",
    "- Hybridsysteme\n",
    "\n",
    "Die regelbasierten Systeme und die Hybridsysteme werden in dieser Tutorialreihe nicht behandelt. Regelbasierte Systeme klassifizieren Texte anhand einer Reihe handgefertigter Sprachregeln. Hybrid Systeme sind eine Mischung aus regelbasierten Systemen und Maschinellen Lernsystemen. Wir werden sie nicht behandeln, da regelbasierte Systeme sehr viel Domänenwissen über die Daten, die klassifiziert werden sollen, verlangen. Zudem sind sie sehr statisch und sehr zeitaufwendig.\n",
    "\n",
    "Schneller und meistens auch besser sind Maschinelle Lernsysteme. \n",
    "\n",
    "TODO: weiter bei monkeylearn link https://monkeylearn.com/text-classification/"
   ]
  },
  {
   "cell_type": "markdown",
   "metadata": {},
   "source": [
    "<div class=\"alert alert-info\">\n",
    "<b>Exkurs:</b> Machine Learning\n",
    "    \n",
    "TODO:\n",
    "\n",
    "<img src=\"http://blog.kaggle.com/wp-content/uploads/2015/04/01_supervised_learning.png\" alt=\"Machine Learning Graphic\" style=\"width: 450px;\"/>"
   ]
  },
  {
   "cell_type": "markdown",
   "metadata": {},
   "source": [
    "## 1.3. Arten von Machine Learning Klassifikationsmethoden"
   ]
  },
  {
   "cell_type": "markdown",
   "metadata": {},
   "source": [
    "Wir unterteilen die Klassifizierungsmethoden in <b>probabilistische</b> und <b>nicht-probabilistische</b> Klassifizierungsverfahren. "
   ]
  },
  {
   "cell_type": "code",
   "execution_count": null,
   "metadata": {},
   "outputs": [],
   "source": []
  },
  {
   "cell_type": "markdown",
   "metadata": {},
   "source": [
    "ICH: gaaaaanz allgemein, buch finden? --> vllt CHOLLET!!"
   ]
  },
  {
   "cell_type": "markdown",
   "metadata": {},
   "source": [
    "ICH: binäre und multiple textklassifikation"
   ]
  },
  {
   "cell_type": "markdown",
   "metadata": {},
   "source": [
    "TODO: orientieren an: https://monkeylearn.com/text-classification/"
   ]
  },
  {
   "cell_type": "code",
   "execution_count": null,
   "metadata": {},
   "outputs": [],
   "source": []
  },
  {
   "cell_type": "markdown",
   "metadata": {},
   "source": []
  },
  {
   "cell_type": "code",
   "execution_count": null,
   "metadata": {},
   "outputs": [],
   "source": []
  },
  {
   "cell_type": "markdown",
   "metadata": {},
   "source": []
  }
 ],
 "metadata": {
  "kernelspec": {
   "display_name": "Python 3",
   "language": "python",
   "name": "python3"
  },
  "language_info": {
   "codemirror_mode": {
    "name": "ipython",
    "version": 3
   },
   "file_extension": ".py",
   "mimetype": "text/x-python",
   "name": "python",
   "nbconvert_exporter": "python",
   "pygments_lexer": "ipython3",
   "version": "3.6.8"
  }
 },
 "nbformat": 4,
 "nbformat_minor": 2
}
