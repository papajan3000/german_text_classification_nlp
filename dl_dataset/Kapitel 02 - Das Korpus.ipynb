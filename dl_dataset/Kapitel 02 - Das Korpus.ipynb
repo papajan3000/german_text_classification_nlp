{
 "cells": [
  {
   "cell_type": "markdown",
   "metadata": {},
   "source": [
    "# Kapitel 2 - Das Korpus"
   ]
  },
  {
   "cell_type": "markdown",
   "metadata": {},
   "source": [
    "## 2.1. Kapitelübersicht <a class=\"anchor\" id=\"2-1\"/>\n",
    "\n",
    "Textklassifikationsverfahren klassifizieren anhand von Textdaten. Gesammelte Textdaten werden auch <b>Textkorpus</b> genannt. In diesem Kapitel untersuchen wir einen kleinen Filmrezensionendatensatz und ein Wikipedia-Korpus, schauen uns die Verteilung der Daten und die Besonderheiten der Datensätze an.\n",
    "\n",
    "<b>Abschnittsübersicht</b><br>\n",
    "\n",
    "[2.1. Kapitelübersicht](#2-1)<br>\n",
    "[2.2. Analyse eines kleinen Datensatzes](#2-2)<br>\n",
    "[2.3. Aufbau des Wikipedia-Korpus](#2-3)<br>\n",
    "[2.4. Mögliche Fehler](#2-4)<br>\n",
    "\n",
    "Am Ende dieses Kapitel werden wir folgende Themen behandelt und/oder vertieft haben:\n",
    "- Verteilung der Klassen von Datensätzen\n",
    "- Visualisierung der Klassenverteilung\n",
    "- Besonderheiten des Wikipedia-Korpus\n",
    "- Unterschiede der Korpus-Versionen"
   ]
  },
  {
   "cell_type": "markdown",
   "metadata": {},
   "source": [
    "## 2.2. Analyse eines kleinen Datensatzes <a class=\"anchor\" id=\"2-2\"/>"
   ]
  },
  {
   "cell_type": "markdown",
   "metadata": {},
   "source": [
    "Textklassifikation kann nur anhand von Daten durchgeführt werden. Diese Daten müssen aus zwei wesentlichen Bestandteilen bestehen: Texten und Klassen. Klassen können bei einer Textklassifikation sehr unterschiedliche Dinge sein, z.B. ein Musikgenre, ein Username, eine Zusammenfassung oder eine Punktzahl. Sie müssen nicht unbedingt Strings sein, sondern können auch aus Integern oder Floats bestehen. Im folgenden Beispiel schauen wir uns einen Datensatz an, dessen Textdaten Filmrezensionen und dessen Klassen Schulnoten von 1-6 sind."
   ]
  },
  {
   "cell_type": "code",
   "execution_count": 13,
   "metadata": {},
   "outputs": [
    {
     "data": {
      "text/html": [
       "<div>\n",
       "<style scoped>\n",
       "    .dataframe tbody tr th:only-of-type {\n",
       "        vertical-align: middle;\n",
       "    }\n",
       "\n",
       "    .dataframe tbody tr th {\n",
       "        vertical-align: top;\n",
       "    }\n",
       "\n",
       "    .dataframe thead th {\n",
       "        text-align: right;\n",
       "    }\n",
       "</style>\n",
       "<table border=\"1\" class=\"dataframe\">\n",
       "  <thead>\n",
       "    <tr style=\"text-align: right;\">\n",
       "      <th></th>\n",
       "      <th>Note</th>\n",
       "      <th>Rezension</th>\n",
       "    </tr>\n",
       "  </thead>\n",
       "  <tbody>\n",
       "    <tr>\n",
       "      <th>r1</th>\n",
       "      <td>1</td>\n",
       "      <td>Der Film war so genial!</td>\n",
       "    </tr>\n",
       "    <tr>\n",
       "      <th>r2</th>\n",
       "      <td>6</td>\n",
       "      <td>Schlechtester Film aller Zeiten!!!!1!!!1!!</td>\n",
       "    </tr>\n",
       "    <tr>\n",
       "      <th>r3</th>\n",
       "      <td>3</td>\n",
       "      <td>Er war schon okay</td>\n",
       "    </tr>\n",
       "    <tr>\n",
       "      <th>r4</th>\n",
       "      <td>1</td>\n",
       "      <td>Ich will den Film für den Rest meines Lebens j...</td>\n",
       "    </tr>\n",
       "    <tr>\n",
       "      <th>r5</th>\n",
       "      <td>2</td>\n",
       "      <td>Richtig guter Film mit kleineren Schwächen</td>\n",
       "    </tr>\n",
       "    <tr>\n",
       "      <th>r6</th>\n",
       "      <td>4</td>\n",
       "      <td>Naja, gibt besseres, aber auch schlechteres, w...</td>\n",
       "    </tr>\n",
       "    <tr>\n",
       "      <th>r7</th>\n",
       "      <td>5</td>\n",
       "      <td>Bis auf die Songauswahl war der Film zum Kotzen</td>\n",
       "    </tr>\n",
       "  </tbody>\n",
       "</table>\n",
       "</div>"
      ],
      "text/plain": [
       "    Note                                          Rezension\n",
       "r1     1                            Der Film war so genial!\n",
       "r2     6         Schlechtester Film aller Zeiten!!!!1!!!1!!\n",
       "r3     3                                  Er war schon okay\n",
       "r4     1  Ich will den Film für den Rest meines Lebens j...\n",
       "r5     2         Richtig guter Film mit kleineren Schwächen\n",
       "r6     4  Naja, gibt besseres, aber auch schlechteres, w...\n",
       "r7     5    Bis auf die Songauswahl war der Film zum Kotzen"
      ]
     },
     "execution_count": 13,
     "metadata": {},
     "output_type": "execute_result"
    }
   ],
   "source": [
    "import pandas as pd\n",
    "\n",
    "d = {\"r1\": [1, \"Der Film war so genial!\"], \n",
    "     \"r2\": [6, \"Schlechtester Film aller Zeiten!!!!1!!!1!!\"],\n",
    "     \"r3\": [3, \"Er war schon okay\"],\n",
    "     \"r4\": [1, \"Ich will den Film für den Rest meines Lebens jeden Tag gucken :O\"],\n",
    "     \"r5\": [2, \"Richtig guter Film mit kleineren Schwächen\"],\n",
    "     \"r6\": [4, \"Naja, gibt besseres, aber auch schlechteres, wenn auch nicht viel...\"],\n",
    "     \"r7\": [5, \"Bis auf die Songauswahl war der Film zum Kotzen\"]}\n",
    "df = pd.DataFrame.from_dict(d, orient=\"index\", columns=[\"Note\", \"Rezension\"])\n",
    "df"
   ]
  },
  {
   "cell_type": "markdown",
   "metadata": {},
   "source": [
    "Ein guter erster Schritt, um sich mit einem Datensatz vertraut zu machen, ist eine <b>Verteilung</b> der Klassen zu visualisieren. Wir können somit erkennen, dass jede Schulnote in unserem Datensatz einmal vorkommt. Nur die Note \"1\" kommt zweimal vor. Keine der Schulnoten fehlt, weshalb ein Klassifizierungsverfahren bei einer Voraussage von neuen Texten jede Schulnote vergeben könnte."
   ]
  },
  {
   "cell_type": "code",
   "execution_count": 14,
   "metadata": {},
   "outputs": [
    {
     "data": {
      "image/png": "[encoded data removed]",
      "text/plain": [
       "<Figure size 576x288 with 1 Axes>"
      ]
     },
     "metadata": {
      "needs_background": "light"
     },
     "output_type": "display_data"
    }
   ],
   "source": [
    "import matplotlib.pyplot as plt\n",
    "plt.figure(figsize=(8,4))\n",
    "ax = df.groupby('Note').Rezension.count().plot.bar(rot=0)\n",
    "ax.set_ylabel(\"Anzahl\")\n",
    "ax.set_yticks([0, 1, 2])\n",
    "plt.show()"
   ]
  },
  {
   "cell_type": "markdown",
   "metadata": {},
   "source": [
    "Dieser Datensatz ist nicht besonders groß. Eine Textklassifizierung wäre hier nicht unbedingt nötig, da dies von Menschen schneller erledigt werden kann. Bei größeren Datensätzen ist eine menschliche Textklassifikation entweder sehr aufwändig oder nicht möglich."
   ]
  },
  {
   "cell_type": "markdown",
   "metadata": {},
   "source": [
    "## 2.3. Aufbau des Wikipedia-Korpus <a class=\"anchor\" id=\"2-3\"/>"
   ]
  },
  {
   "cell_type": "markdown",
   "metadata": {},
   "source": [
    "Im Gegensatz zu englischsprachigen Datensätzen sind deutschsprachige Datensätze nicht so weit verbreitet und sie sind nicht so präsent wie die englischsprachigen Datensätze. Das Unternehmen Lionbridge hat eine Liste von deutschen <a href=\"https://lionbridge.ai/datasets/20-best-german-language-datasets-for-machine-learning/\">Datensätzen</a> erstellt, womit zumindest ein Überblick über deutschsprachige Datensätze geliefert wird. Wir werden in diesem Tutorial ein von mir selbst erstelltes Korpus verwenden. Es ist eine verbesserte Version des Korpus, der im Zuge des \"Word Embeddings\"-Seminars an der Julius-Maximilians-Universität im Wintersemester 2018/19 entstanden ist. Dieses Korpus besteht aus Wikipediartikeln, deren Klassen Kategorien von Wikipedia sind. Das selbsterstelle Tool \"wikiparser.py\" befindet sich ebenfalls im Github-Projet <a href=\"https://github.com/realjanpaulus/german_text_classification_nlp\">german_text_classification_nlp</a>. Eine Erläuterung, wie dieses Korpus erstellt wurde und wie die Daten nachbearbeitet wurden, befindet sich im Zusatzkapitel \"Wie baue ich mein eigenes Wikipediakorpus?\". In diesem Kapitel soll zunächst nur ein Einblick in das Korpus gegeben werden."
   ]
  },
  {
   "cell_type": "code",
   "execution_count": 15,
   "metadata": {},
   "outputs": [
    {
     "data": {
      "text/html": [
       "<div>\n",
       "<style scoped>\n",
       "    .dataframe tbody tr th:only-of-type {\n",
       "        vertical-align: middle;\n",
       "    }\n",
       "\n",
       "    .dataframe tbody tr th {\n",
       "        vertical-align: top;\n",
       "    }\n",
       "\n",
       "    .dataframe thead th {\n",
       "        text-align: right;\n",
       "    }\n",
       "</style>\n",
       "<table border=\"1\" class=\"dataframe\">\n",
       "  <thead>\n",
       "    <tr style=\"text-align: right;\">\n",
       "      <th></th>\n",
       "      <th>id</th>\n",
       "      <th>category</th>\n",
       "      <th>length</th>\n",
       "      <th>text</th>\n",
       "    </tr>\n",
       "  </thead>\n",
       "  <tbody>\n",
       "    <tr>\n",
       "      <th>0</th>\n",
       "      <td>3470</td>\n",
       "      <td>Album nach Typ</td>\n",
       "      <td>1050</td>\n",
       "      <td>All the Best ! ( englisch Alles Gute ! ) ist d...</td>\n",
       "    </tr>\n",
       "    <tr>\n",
       "      <th>1</th>\n",
       "      <td>3611</td>\n",
       "      <td>Album nach Typ</td>\n",
       "      <td>525</td>\n",
       "      <td>Let It Roll : Songs by George Harrison ist das...</td>\n",
       "    </tr>\n",
       "    <tr>\n",
       "      <th>2</th>\n",
       "      <td>3612</td>\n",
       "      <td>Album nach Typ</td>\n",
       "      <td>251</td>\n",
       "      <td>Lieder wie Orkane ist das dritte offizielle Be...</td>\n",
       "    </tr>\n",
       "    <tr>\n",
       "      <th>3</th>\n",
       "      <td>3613</td>\n",
       "      <td>Album nach Typ</td>\n",
       "      <td>756</td>\n",
       "      <td>Long Stick Goes Boom : The Anthology ist eine ...</td>\n",
       "    </tr>\n",
       "    <tr>\n",
       "      <th>4</th>\n",
       "      <td>3614</td>\n",
       "      <td>Album nach Typ</td>\n",
       "      <td>260</td>\n",
       "      <td>Los Grandes Éxitos en Español ( spanisch für D...</td>\n",
       "    </tr>\n",
       "  </tbody>\n",
       "</table>\n",
       "</div>"
      ],
      "text/plain": [
       "     id        category  length  \\\n",
       "0  3470  Album nach Typ    1050   \n",
       "1  3611  Album nach Typ     525   \n",
       "2  3612  Album nach Typ     251   \n",
       "3  3613  Album nach Typ     756   \n",
       "4  3614  Album nach Typ     260   \n",
       "\n",
       "                                                text  \n",
       "0  All the Best ! ( englisch Alles Gute ! ) ist d...  \n",
       "1  Let It Roll : Songs by George Harrison ist das...  \n",
       "2  Lieder wie Orkane ist das dritte offizielle Be...  \n",
       "3  Long Stick Goes Boom : The Anthology ist eine ...  \n",
       "4  Los Grandes Éxitos en Español ( spanisch für D...  "
      ]
     },
     "execution_count": 15,
     "metadata": {},
     "output_type": "execute_result"
    }
   ],
   "source": [
    "corpus = pd.read_csv(\"wikicorpus_v2.csv\", index_col=0)\n",
    "corpus.head()"
   ]
  },
  {
   "cell_type": "markdown",
   "metadata": {},
   "source": [
    "Jede Zeile unseres Korpus repräsentiert einen Artikel von Wikipedia. Jeder Artikel hat 4 Eigenschaften, repräsentiert durch die Spalten: Eine ID (<b>\"id\"</b>), eine Kategorie (<b>\"category\"</b>), eine Länge (<b>\"length\"</b>) und der Artikel selber (<b>\"text\"</b>\").<br>\n",
    "Wie bereits beim Filmrezensionen-Datensatz schauen wir uns zuerst die <b>Verteilung der Klassen</b> an."
   ]
  },
  {
   "cell_type": "markdown",
   "metadata": {},
   "source": [
    "#### Verteilung der Klassen"
   ]
  },
  {
   "cell_type": "code",
   "execution_count": 16,
   "metadata": {},
   "outputs": [
    {
     "data": {
      "image/png": "[encoded data removed]",
      "text/plain": [
       "<Figure size 1296x432 with 1 Axes>"
      ]
     },
     "metadata": {
      "needs_background": "light"
     },
     "output_type": "display_data"
    }
   ],
   "source": [
    "plt.figure(figsize=(18,6))\n",
    "ax = corpus.groupby('category').text.count().plot.bar(rot=0)\n",
    "ax.set_ylabel(\"Anzahl der Artikel\")\n",
    "ax.set_ylabel(\"Kategorien\")\n",
    "ax.set_xticklabels([])\n",
    "plt.show()"
   ]
  },
  {
   "cell_type": "markdown",
   "metadata": {},
   "source": [
    "Die zweite Version des Korpus, die wir hier sehen, wurde so bearbeitet, dass sie für jede Kategorie die gleiche Anzahl an Artikeln (genau 200) enthält. Die erste Version des Korpus sieht da noch anders aus:"
   ]
  },
  {
   "cell_type": "code",
   "execution_count": 17,
   "metadata": {},
   "outputs": [
    {
     "data": {
      "image/png": "[encoded data removed]",
      "text/plain": [
       "<Figure size 1296x432 with 1 Axes>"
      ]
     },
     "metadata": {
      "needs_background": "light"
     },
     "output_type": "display_data"
    }
   ],
   "source": [
    "old_corpus = pd.read_csv(\"wikicorpus.csv\", index_col=0)\n",
    "plt.figure(figsize=(18,6))\n",
    "ax2 = old_corpus.groupby('category').text.count().plot.bar(rot=0)\n",
    "ax2.set_ylabel(\"Anzahl der Artikel\")\n",
    "ax2.set_ylabel(\"Kategorien\")\n",
    "ax2.set_xticklabels([])\n",
    "plt.show()"
   ]
  },
  {
   "cell_type": "markdown",
   "metadata": {},
   "source": [
    "Durch die Anpassung des ursprünglichen Korpus ist die Anzahl der Artikel insgesamt verringert worden."
   ]
  },
  {
   "cell_type": "code",
   "execution_count": 18,
   "metadata": {},
   "outputs": [
    {
     "name": "stdout",
     "output_type": "stream",
     "text": [
      "(6000, 4)\n",
      "(6942, 3)\n"
     ]
    }
   ],
   "source": [
    "print(corpus.shape)\n",
    "print(old_corpus.shape)"
   ]
  },
  {
   "cell_type": "markdown",
   "metadata": {},
   "source": [
    "#### Anzahl der Kategorien"
   ]
  },
  {
   "cell_type": "markdown",
   "metadata": {},
   "source": [
    "Für Textklassifizierungsverfahren sind die Anzahl der <b>Klassen</b> (hier die Kategorien) sehr wichtig, um ein geeignetes Verfahren aussuchen zu können."
   ]
  },
  {
   "cell_type": "code",
   "execution_count": 19,
   "metadata": {},
   "outputs": [
    {
     "name": "stdout",
     "output_type": "stream",
     "text": [
      "['Album nach Typ' 'Alternative-Rock-Band' 'Burg in Deutschland'\n",
      " 'Chemikaliengruppe' 'Computerspiel nach Plattform'\n",
      " 'Deutsche Vereine nach Bundesland' 'Einzelsprache'\n",
      " 'Fernsehserie nach Staat' 'Film nach Staat' 'Frauenfußball'\n",
      " 'Gemälde nach Jahrhundert' 'Herrscher nach Titel' 'Internet'\n",
      " 'Kostümkunde' 'Krankheit' 'Kreditgeschäft' 'Krieg nach Typ'\n",
      " 'Kunst (Deutschland)' 'Literatur (Romantik)' 'Literaturwissenschaft'\n",
      " 'Logik' 'Millionenstadt' 'Oper' 'PKW-Modell' 'Planung und Organisation'\n",
      " 'See in Deutschland' 'Soziologie' 'Wald' 'Western' 'Wirtschaft']\n",
      "\n",
      " Das Korpus umfasst 30 verschiedene Kategorien.\n"
     ]
    }
   ],
   "source": [
    "print(corpus.category.unique())\n",
    "print(f\"\\n Das Korpus umfasst {len(corpus.category.unique())} verschiedene Kategorien.\")"
   ]
  },
  {
   "cell_type": "markdown",
   "metadata": {},
   "source": [
    "Das Korpus hat 30 verschiedene Kategorien, wir müssen also eine <b>Multiclass Klassifizierung</b> verwenden."
   ]
  },
  {
   "cell_type": "markdown",
   "metadata": {},
   "source": [
    "#### Größte und kleinste Artikel"
   ]
  },
  {
   "cell_type": "markdown",
   "metadata": {},
   "source": [
    "Weitere Dinge, die man beim Korpus betrachten kann, sind die Länge der einzelnen Texte. Dabei sortieren wir einmal nach den längsten und nach den kürzesten Artikeln, um uns die minimale und maximale Länge der Artikel anzeigen zu lassen."
   ]
  },
  {
   "cell_type": "code",
   "execution_count": 20,
   "metadata": {},
   "outputs": [
    {
     "data": {
      "text/html": [
       "<div>\n",
       "<style scoped>\n",
       "    .dataframe tbody tr th:only-of-type {\n",
       "        vertical-align: middle;\n",
       "    }\n",
       "\n",
       "    .dataframe tbody tr th {\n",
       "        vertical-align: top;\n",
       "    }\n",
       "\n",
       "    .dataframe thead th {\n",
       "        text-align: right;\n",
       "    }\n",
       "</style>\n",
       "<table border=\"1\" class=\"dataframe\">\n",
       "  <thead>\n",
       "    <tr style=\"text-align: right;\">\n",
       "      <th></th>\n",
       "      <th>id</th>\n",
       "      <th>category</th>\n",
       "      <th>length</th>\n",
       "      <th>text</th>\n",
       "    </tr>\n",
       "  </thead>\n",
       "  <tbody>\n",
       "    <tr>\n",
       "      <th>3001</th>\n",
       "      <td>6716</td>\n",
       "      <td>Kreditgeschäft</td>\n",
       "      <td>3531</td>\n",
       "      <td>Ein Annuitätendarlehen ist ein Tilgungsdarlehe...</td>\n",
       "    </tr>\n",
       "    <tr>\n",
       "      <th>615</th>\n",
       "      <td>535</td>\n",
       "      <td>Chemikaliengruppe</td>\n",
       "      <td>3429</td>\n",
       "      <td>Als Sulfosalze bezeichnet man in der Chemie di...</td>\n",
       "    </tr>\n",
       "    <tr>\n",
       "      <th>4179</th>\n",
       "      <td>1131</td>\n",
       "      <td>Logik</td>\n",
       "      <td>3144</td>\n",
       "      <td>Sortenlogik entspringt der Intention , das ( m...</td>\n",
       "    </tr>\n",
       "    <tr>\n",
       "      <th>1668</th>\n",
       "      <td>2123</td>\n",
       "      <td>Film nach Staat</td>\n",
       "      <td>2953</td>\n",
       "      <td>Diese Liste beinhaltet bekannte Darsteller des...</td>\n",
       "    </tr>\n",
       "    <tr>\n",
       "      <th>5885</th>\n",
       "      <td>4834</td>\n",
       "      <td>Wirtschaft</td>\n",
       "      <td>2944</td>\n",
       "      <td>Der Gini-Koeffizient oder auch Gini-Index ist ...</td>\n",
       "    </tr>\n",
       "  </tbody>\n",
       "</table>\n",
       "</div>"
      ],
      "text/plain": [
       "        id           category  length  \\\n",
       "3001  6716     Kreditgeschäft    3531   \n",
       "615    535  Chemikaliengruppe    3429   \n",
       "4179  1131              Logik    3144   \n",
       "1668  2123    Film nach Staat    2953   \n",
       "5885  4834         Wirtschaft    2944   \n",
       "\n",
       "                                                   text  \n",
       "3001  Ein Annuitätendarlehen ist ein Tilgungsdarlehe...  \n",
       "615   Als Sulfosalze bezeichnet man in der Chemie di...  \n",
       "4179  Sortenlogik entspringt der Intention , das ( m...  \n",
       "1668  Diese Liste beinhaltet bekannte Darsteller des...  \n",
       "5885  Der Gini-Koeffizient oder auch Gini-Index ist ...  "
      ]
     },
     "execution_count": 20,
     "metadata": {},
     "output_type": "execute_result"
    }
   ],
   "source": [
    "corpus.sort_values(by=[\"length\"], ascending=False).head()"
   ]
  },
  {
   "cell_type": "code",
   "execution_count": 21,
   "metadata": {},
   "outputs": [
    {
     "data": {
      "text/html": [
       "<div>\n",
       "<style scoped>\n",
       "    .dataframe tbody tr th:only-of-type {\n",
       "        vertical-align: middle;\n",
       "    }\n",
       "\n",
       "    .dataframe tbody tr th {\n",
       "        vertical-align: top;\n",
       "    }\n",
       "\n",
       "    .dataframe thead th {\n",
       "        text-align: right;\n",
       "    }\n",
       "</style>\n",
       "<table border=\"1\" class=\"dataframe\">\n",
       "  <thead>\n",
       "    <tr style=\"text-align: right;\">\n",
       "      <th></th>\n",
       "      <th>id</th>\n",
       "      <th>category</th>\n",
       "      <th>length</th>\n",
       "      <th>text</th>\n",
       "    </tr>\n",
       "  </thead>\n",
       "  <tbody>\n",
       "    <tr>\n",
       "      <th>5187</th>\n",
       "      <td>1525</td>\n",
       "      <td>See in Deutschland</td>\n",
       "      <td>101</td>\n",
       "      <td>Der Stotzweiher ist ein See in Mannheim . Er i...</td>\n",
       "    </tr>\n",
       "    <tr>\n",
       "      <th>5854</th>\n",
       "      <td>4761</td>\n",
       "      <td>Wirtschaft</td>\n",
       "      <td>101</td>\n",
       "      <td>Der Ecklohn ( auch : Eckentgelt ) dient bei Ta...</td>\n",
       "    </tr>\n",
       "    <tr>\n",
       "      <th>3349</th>\n",
       "      <td>3238</td>\n",
       "      <td>Krieg nach Typ</td>\n",
       "      <td>101</td>\n",
       "      <td>Der Bailinga-Aufstand in den 1860er Jahren war...</td>\n",
       "    </tr>\n",
       "    <tr>\n",
       "      <th>3169</th>\n",
       "      <td>6751</td>\n",
       "      <td>Kreditgeschäft</td>\n",
       "      <td>101</td>\n",
       "      <td>Ein Credit Default Swap Index oder kurz auch C...</td>\n",
       "    </tr>\n",
       "    <tr>\n",
       "      <th>2315</th>\n",
       "      <td>1903</td>\n",
       "      <td>Herrscher nach Titel</td>\n",
       "      <td>101</td>\n",
       "      <td>Tokugawa Yoshimune ( jap .   ; * 27 . November...</td>\n",
       "    </tr>\n",
       "  </tbody>\n",
       "</table>\n",
       "</div>"
      ],
      "text/plain": [
       "        id              category  length  \\\n",
       "5187  1525    See in Deutschland     101   \n",
       "5854  4761            Wirtschaft     101   \n",
       "3349  3238        Krieg nach Typ     101   \n",
       "3169  6751        Kreditgeschäft     101   \n",
       "2315  1903  Herrscher nach Titel     101   \n",
       "\n",
       "                                                   text  \n",
       "5187  Der Stotzweiher ist ein See in Mannheim . Er i...  \n",
       "5854  Der Ecklohn ( auch : Eckentgelt ) dient bei Ta...  \n",
       "3349  Der Bailinga-Aufstand in den 1860er Jahren war...  \n",
       "3169  Ein Credit Default Swap Index oder kurz auch C...  \n",
       "2315  Tokugawa Yoshimune ( jap .   ; * 27 . November...  "
      ]
     },
     "execution_count": 21,
     "metadata": {},
     "output_type": "execute_result"
    }
   ],
   "source": [
    "corpus.sort_values(by=[\"length\"], ascending=True).head()"
   ]
  },
  {
   "cell_type": "markdown",
   "metadata": {},
   "source": [
    "Der Datensatz sagt uns jedoch nicht, wie `length` berechnet wird. Es könnte entweder die Anzahl der Tokens oder die Anzahl der Wörter sein. Dies finden wir nun heraus, indem wir den Text der ID 1525 untersuchen."
   ]
  },
  {
   "cell_type": "code",
   "execution_count": 22,
   "metadata": {},
   "outputs": [],
   "source": [
    "stotzweiher_row = corpus.loc[corpus['id'] == 1525]\n",
    "stotzweiher = list(stotzweiher_row[\"text\"])[0]"
   ]
  },
  {
   "cell_type": "code",
   "execution_count": 23,
   "metadata": {},
   "outputs": [
    {
     "name": "stdout",
     "output_type": "stream",
     "text": [
      "Länge des Textes mit Zeichen: 101.\n",
      "Länge des Textes ohne Zeichen: 92.\n"
     ]
    }
   ],
   "source": [
    "from nltk import word_tokenize\n",
    "from nltk.tokenize import RegexpTokenizer\n",
    "\n",
    "tokenizer = RegexpTokenizer(r'\\w+')\n",
    "\n",
    "print(f\"Länge des Textes mit Zeichen: {len(word_tokenize(stotzweiher))}.\")\n",
    "print(f\"Länge des Textes ohne Zeichen: {len(tokenizer.tokenize(stotzweiher))}.\")"
   ]
  },
  {
   "cell_type": "markdown",
   "metadata": {},
   "source": [
    "#### Limitationen des Korpus"
   ]
  },
  {
   "cell_type": "markdown",
   "metadata": {},
   "source": [
    "Eine weiter Möglichkeit, sich mit einem Korpus vertraut zu machen, ist herauszufinden, was das Korpus <u>nicht</u> bereitstellt. In unserem Fall können wir z.B. keinen Wikipediartikel anhand seines Artikelnamens finden, da wir keine Spalte mit Artikelnamen haben. Für die spätere Textklassifikation ist dies irrelevant, da uns die ID ausreicht, für andere Anwendungszenarien könnte es jedoch ein wichtiges Kriterium sein."
   ]
  },
  {
   "cell_type": "markdown",
   "metadata": {},
   "source": [
    "## 2.4. Mögliche Fehler <a class=\"anchor\" id=\"2-4\"/>"
   ]
  },
  {
   "cell_type": "markdown",
   "metadata": {},
   "source": [
    "- falsches Wikipedia-Korpus importiert → es gibt zwei Wikipedia-Korpora, `wikicorpus.csv` und `wikicorpus_v2.csv`. Die zweite Version hat ein ausgewogene Verteilung der Klassen und einige Vorverarbeitungsschritte wurden schon erledigt. Für diese Tutorialreihe gilt, dass wenn nichts anderes angegeben ist, `wikicorpus_v2.csv` genutzt werden sollte.\n",
    "- Kategorie \"Unnamed: 0\" oder \"Unnamed: 1\" → Beim Importieren des Korpus sollte immer der Parameter `index_col = 0` ausgewählt werden, damit pandas die Indexspalte nicht importiert."
   ]
  },
  {
   "cell_type": "code",
   "execution_count": null,
   "metadata": {},
   "outputs": [],
   "source": []
  }
 ],
 "metadata": {
  "kernelspec": {
   "display_name": "Python 3",
   "language": "python",
   "name": "python3"
  },
  "language_info": {
   "codemirror_mode": {
    "name": "ipython",
    "version": 3
   },
   "file_extension": ".py",
   "mimetype": "text/x-python",
   "name": "python",
   "nbconvert_exporter": "python",
   "pygments_lexer": "ipython3",
   "version": "3.7.3"
  }
 },
 "nbformat": 4,
 "nbformat_minor": 2
}
