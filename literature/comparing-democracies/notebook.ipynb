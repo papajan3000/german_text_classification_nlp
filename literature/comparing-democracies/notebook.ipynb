{
 "cells": [
  {
   "cell_type": "markdown",
   "metadata": {},
   "source": [
    "# Comparing Democracies using Python\n",
    "\n",
    "Julius-Maximilians-Universität Würzburg<br>\n",
    "Fakultät für Humanwissenschaften<br>\n",
    "Institut für Politikwissenschaft und Soziologie<br>\n",
    "Lehrstuhl für Vergleichende Politikwissenschaft und Systemlehre\n",
    "\n",
    "Prüfungsleistung von\n",
    "\n",
    "> Severin Simmler<br>\n",
    "> Matrikel Nr.: 2028090<br>\n",
    "> `severin.simmler(at)stud-mail.uni-wuerzburg.de`\n",
    "\n",
    "\n",
    "für das Seminar **Comparing Democracies using R and Python** im Sommersemester 2018 bei Oliver Schlenkrich."
   ]
  },
  {
   "cell_type": "markdown",
   "metadata": {},
   "source": [
    "## Inhalt\n",
    "\n",
    "1. [Einführung](#einfuehrung)<br>\n",
    "2. [Python als Sprache](#python-als-sprache)<br>\n",
    "2.1. [Ökosystem](#oekosystem)<br>\n",
    "2.2. [Architektur eines Python Paktes](#architektur-eines-python-pakets)<br>\n",
    "2.3. [Paketverwaltung](#paketverwaltung)<br>\n",
    "2.4. [Virtual Environments](#virtual-environments)<br>\n",
    "3. [Vorhaben](#vorhaben)<br>\n",
    "4. [Explorativer Blick auf die Daten](#explorativer-blick-auf-die-daten)<br>\n",
    "4.1. [Datensatz einlesen](#datensatz-einlesen)<br>\n",
    "4.2. [Normalisierung](#normalisierung)<br>\n",
    "4.3. [Dimensionsreduzierung](#dimensionsreduzierung)<br>\n",
    "4.3.1. [T-Distributed Stochastic Neighbor Embedding](#t-distributed-stochastic-neighbor-embedding)<br>\n",
    "5. [Klassifikation](#klassifikation)<br>\n",
    "5.1. [Eine theoretische Annäherung an LSTM Netzwerke](#eine-theoretische-annaeherung-an-lstm-netzwerke)<br>\n",
    "5.2. [Trainings- und Testdaten](#trainings-und-testdaten)<br>\n",
    "5.3 [Klassifikator 1: Logistische Regression](#klassifikator-1-logistische-regression)<br>\n",
    "5.4. [Arbeiten mit unsymmetrischen Datensätzen](#arbeiten-mit-unsymmetrischen-datensaetzen)<br>\n",
    "5.4.1. [Undersampling mit k-Means](#undersampling-mit-k-means)<br>\n",
    "5.5. [Klassifikator 2: Künstliches neuronales Netz](#klassifikator-2-künstliches-neuronales-netz)<br>\n",
    "6. [Performance im Vergleich](#performance-im-vergleich)<br>\n",
    "6.1.1. [LSTM und logistische Regression](#lstm-und-logistische-regression)<br>\n",
    "6.1.2. [Beck _et al._ und die hier vorgestellten Klassifikatoren](#beck-et-al-und-die-hier-vorgestellten-klassifikatoren)<br>\n",
    "7. [Fazit](#fazit)<br>\n",
    "8. [Anhang](#anhang)<br>\n",
    "8.1. [Selbstständigkeitserklärung](#selbststaendigkeitserklaerung)"
   ]
  },
  {
   "cell_type": "markdown",
   "metadata": {},
   "source": [
    "## 1. Einführung <a name=\"einfuehrung\"></a>\n",
    "\n",
    "Die vorliegende Arbeit stellt einen Versuch dar, internationalen Konflikt quantitativ zu modellieren. Dabei werden sowohl die Datengrundlage, als auch die Vorgehensweise von [Beck _et al._ (2000)](https://dash.harvard.edu/bitstream/handle/1/3992145/King_ImprovingQuantitative.pdf) adaptiert – und _hinterfragt_. Ein optimiertes Forschungsdesign, und die Anwendung jüngster Ansätze aus dem Bereich Deep Learning führen nachweisbar (siehe [6.](#performance-im-vergleich)) zu einem verbesserten, robusteren Modell internationalen Konflikts.\n",
    "\n",
    "Die Veröffentlichung des Papers von Beck _et al._ (2000) fällt in eine Zeitperiode, die seit den 1980er Jahren andauerte, und als ‚Winter der künstlichen Intelligenz‘ bezeichnet wird (vgl. [Hendler 2008](https://web.archive.org/web/20120212012656/http://csdl2.computer.org/comp/mags/ex/2008/02/mex2008020002.pdf)). Im Besonderen ist es ungewöhnlich, dass in einer _politikwissenschaftlichen_ Arbeit aus dieser Zeit (und ganz allgemein) künstliche neuronale Netze als Methode vorgeschlagen werden – zwar mit für den speziellen Anwendungsfall verhältnismäßig guten, aber allgemein eher dürftigen Ergebnissen. Nicht zuletzt sind zahlreiche Durchbrüche in den letzten Jahren im Bereich _Deep Learning_ ([Minar _et al._ 2018](https://arxiv.org/pdf/1807.08169.pdf) gibt einen aktuellen Überblick) Anlass, die Forschungsfrage von Beck _et al._ erneut aufzugreifen.\n",
    "\n",
    "In diesem [Jupyter Notebook](http://jupyter.org/) werden sämtliche Schritte, vom Einlesen der Daten, bis zur Evaluation des Modells, ausführlich erläutert. Es folgen insgesamt fünf inhaltliche Blöcke. Im ersten Teil wird in aller Kürze die zum Einsatz kommende Programmiersprache Python und einige _best practices_ vorgestellt ([2.](#python-als-sprache)), anschließend auf das geplante Vorhaben näher eingegangen ([3.](#vorhaben)). Der dritte Block bietet einen _explorativen_ Blick auf den von Beck _et al._ (2000) zur Verfügung gestellten Datensatz ([4.](#explorativer-blick-auf-die-daten)). Im nachfolgenden Teil stehen die zwei, im Rahmen dieser Arbeit entstandenen Modelle im Mittelpunkt, mit besonderem Augenmerk auf dem künstlichen neuronalen Netz ([5.](#klassifikation)). Im letzten inhaltlichen Block ([6.](#performance-im-vergleich)) wird schließlich die Performanz der Modelle mit den Ergebnissen von Beck _et al._ (2000) gegenüber gestellt. In einem zusammenfassenden Fazit wird die Arbeit geschlossen ([7.](#fazit))."
   ]
  },
  {
   "cell_type": "markdown",
   "metadata": {},
   "source": [
    "## 2. Python als Sprache <a name=\"python-als-sprache\"></a>\n",
    "\n",
    "Python ist eine universelle, interpretierte, gut lesbare und einfach zu lernende Programmiersprache.\n",
    "\n",
    "- **Universell** heißt, dass sie in unterschiedlichen Bereichen – von Web, über Datenanalyse, bis GUI Entwicklung – Anwendung findet.\n",
    "- **Interpretiert** heißt, dass sie, im Gegensatz zu kompilierten Sprachen, in Echtzeit eingelesen, ‚interpretiert‘, und ausgeführt wird.\n",
    "- **Gut lesbar** heißt, dass die Sprache bewusst darauf ausgelegt ist, Programmcode einfach und schnell verstehen zu können.\n",
    "- **Einfach zu lernen** heißt, dass Python hervorragend geeignet ist, um mit dem Programmieren zu beginnen.\n",
    "\n",
    "Die Philosophie von Python ist _buchstäblich_ in der Standardbibliothek verankert, und kann durch den Import des Moduls `this` angezeigt werden:"
   ]
  },
  {
   "cell_type": "code",
   "execution_count": 1,
   "metadata": {},
   "outputs": [
    {
     "name": "stdout",
     "output_type": "stream",
     "text": [
      "The Zen of Python, by Tim Peters\n",
      "\n",
      "Beautiful is better than ugly.\n",
      "Explicit is better than implicit.\n",
      "Simple is better than complex.\n",
      "Complex is better than complicated.\n",
      "Flat is better than nested.\n",
      "Sparse is better than dense.\n",
      "Readability counts.\n",
      "Special cases aren't special enough to break the rules.\n",
      "Although practicality beats purity.\n",
      "Errors should never pass silently.\n",
      "Unless explicitly silenced.\n",
      "In the face of ambiguity, refuse the temptation to guess.\n",
      "There should be one-- and preferably only one --obvious way to do it.\n",
      "Although that way may not be obvious at first unless you're Dutch.\n",
      "Now is better than never.\n",
      "Although never is often better than *right* now.\n",
      "If the implementation is hard to explain, it's a bad idea.\n",
      "If the implementation is easy to explain, it may be a good idea.\n",
      "Namespaces are one honking great idea -- let's do more of those!\n"
     ]
    }
   ],
   "source": [
    "import this"
   ]
  },
  {
   "cell_type": "markdown",
   "metadata": {},
   "source": [
    "### 2.1. Ökosystem <a name=\"oekosystem\"></a>\n",
    "\n",
    "Das Ökosystem und die aktive Community (vor allem auf [Stack Overflow](https://stackoverflow.com/)) ist sicherlich ein maßgeblicher Faktor des Erfolgs und der Attraktivität von Python. Die Sprache ist besonders im Bereich Machine Learning beliebt, und verfügt über ein entsprechendes Angebot an Programmbibliotheken. In dieser Arbeit kommen einige der größten und meistgenutzten Pakete zum Einsatz:\n",
    "\n",
    "- [**`numpy`**](http://www.numpy.org/): Paket für wissenschaftliches Rechnen.\n",
    "- [**`pandas`**](https://pandas.pydata.org/): Bietet Hilfsmittel für Datenverwaltung und deskriptive Analyse. Baut auf `numpy` auf.\n",
    "- [**`matplotlib`**](https://matplotlib.org/): Der Quasistandard für Visualisierungen mit Python. Auch in `pandas` enthalten.\n",
    "- [**`scikit-learn`**](http://scikit-learn.org/): Ein mittlerweile sehr umfangreiches Paket für Machine Learning, das, neben den Algorithmen selbst, auch Module für Preprocessing und Evaluation bietet. Erwartet in der Regel eine Datenstruktur von `numpy` oder `pandas` als Eingabeparameter.\n",
    "- [**`keras`**](https://keras.io/): Eine _high-level_ Bibliothek, die im Rahmen dieser Arbeit als Schnittstelle zu [TensorFlow](https://www.tensorflow.org/) verwendet wird. TensorFlow wurde erst 2015 veröffentlicht, hat sich aber mehr oder weniger, neben wenigen anderen Bibliotheken, zum _state of the art_ im Bereich Deep Learning und künstliche neuronale Netze etabliert. Nimmt ebenfalls Datenstrukturen von `numpy` oder `pandas` als Eingabe, und wird oft in Kombination mit `scikit-learn` verwendet."
   ]
  },
  {
   "cell_type": "markdown",
   "metadata": {},
   "source": [
    "### 2.2. Architektur eines Python Pakets <a name=\"architektur-eines-python-pakets\"></a>\n",
    "\n",
    "Ein Python Paket (der Begriff „Bibliothek“ wird synonym benutzt) besteht aus einem oder _mehreren_ Modulen. In einem Modul sind ähnliche Funktionen oder Klassen zusammengefasst. Das Paket `beispiel` besteht aus insgesamt zwei Modulen, `core` und `helpers`:\n",
    "\n",
    "```\n",
    "beispiel/__init__.py\n",
    "beispiel/core.py\n",
    "beispiel/helpers.py\n",
    "```\n",
    "\n",
    "Die Datei `__init__.py` macht dieses Verzeichnis überhaupt erst zu einem Paket – ohne diese Datei können Module und Funktionen nicht importiert werden, da sie nicht als solche erkannt werden. Die `__init__.py` Datei sollte entweder leer sein, Dokumentation enthalten, bestimmte Konfigurationen des Pakets definieren, und/oder selbst die Module importieren:\n",
    "\n",
    "```python\n",
    "\"\"\"\n",
    "Das ist ein Beispielpaket und verfügt über zwei Module.\n",
    "\"\"\"\n",
    "\n",
    "from . import core\n",
    "from . import helpers\n",
    "```\n",
    "\n",
    "Der Text zwischen den Anführungszeichen wird nicht als Programmcode interpretiert und dient der Dokumentation. Die zwei unteren Zeilen importieren die beiden Module _absolut_. Ein relativer Import (ohne '`from .`') würde in einem `ModuleNotFound` Fehler resultieren.\n",
    "\n",
    "Der Import in der `__init__.py` Datei ermöglicht einen Import, ohne den direkten Pfad anzugeben:\n",
    "\n",
    "```python\n",
    ">>> from beispiel import funktion\n",
    "```\n",
    "\n",
    "Andernfalls müsste `funktion` explizit aus dem entsprechenden Modul importiert werden:\n",
    "\n",
    "```python\n",
    ">>> from beispiel.core import funktion\n",
    "```\n",
    "\n",
    "Beim Importieren von Paketen und Modulen ist Folgendes zu beachten (vgl. [Reitz, Schlusser 2016](https://docs.python-guide.org/writing/structure/#modules)):\n",
    "\n",
    "**Sehr schlecht:**\n",
    "```python\n",
    ">>> from beispiel import *\n",
    ">>> x = funktion(1)  # Ist `funktion` Teil von `beispiel`? Ein builtin? Oben definiert?\n",
    "```\n",
    "\n",
    "**Gut:**\n",
    "```python\n",
    ">>> from beispiel import funktion\n",
    ">>> x = funktion(1)  # `funktion` könnte Teil von `beispiel` sein, wenn nicht zwischenzeitlich überschrieben\n",
    "```\n",
    "\n",
    "**Sehr gut:**\n",
    "```python\n",
    ">>> import beispiel\n",
    ">>> x = beispiel.funktion(1)  # `funktion` ist sichtbar Teil von `beispiel`\n",
    "```"
   ]
  },
  {
   "cell_type": "markdown",
   "metadata": {},
   "source": [
    "### 2.3. Paketverwaltung <a name=\"paketverwaltung\"></a>\n",
    "\n",
    "Für die Verwaltung von Python Paketen empfiehlt sich das Tool [`pip`](http://pip.pypa.io/), das über die Kommandozeile bedient wird, und _third-party libraries_ installiert, die im [Python Package Index](https://pypi.org/) (PyPI) zentral gespeichert sind. Die auf PyPI gehostete Software ist Open Source und für jeden kostenlos zugänglich. Jeder, der über einen ebenfalls kostenfreien Account verfügt, kann eigene Pakete auf PyPI veröffentlichen.\n",
    "\n",
    "Die Installation des Pakets `numpy` wird beispielsweise folgendermaßen ausgeführt:\n",
    "\n",
    "```\n",
    "$ pip install numpy\n",
    "```\n",
    "\n",
    "Danach kann `numpy`, wie bereits beschrieben, in Python importiert werden."
   ]
  },
  {
   "cell_type": "markdown",
   "metadata": {},
   "source": [
    "### 2.4. Virtual Environments <a name=\"virtual-environments\"></a>\n",
    "\n",
    "In Python kommen meist Pakete zum Einsatz, die nicht Teil der Standardbibliothek sind, von Dritten entwickelt werden, und manuell nachinstalliert werden müssen. Es kommt durchaus vor, dass sich bestimmte Funktionalitäten oder Ausdrücke von _third-party libraries_ in einer neuen Version ändern. Deswegen benötigen einige Anwendungen bestimmte Versionen von externen Programmbibliotheken. So wird es problematisch mit einer einzigen, systemweiten Python Installation mehrere Anwendungen gleichzeitig lauffähig zu halten. Hier kommen sogenannte _virtual environments_ zum Einsatz; das heißt, für eine spezifische Anwendung wird eine separate, saubere Python Umgebung angelegt, die neben dem systemweiten Python existiert, und in die ausschließlich für die Anwendung erforderliche Pakete in einer speziellen Version installiert werden. Andere _environments_ werden davon nicht beeinflusst.\n",
    "\n",
    "[`Pipenv`](https://pipenv.readthedocs.io/en/latest/) ist ein benutzerfreundliches Tool, mit dem _virtual environments_ erstellt und verwaltet werden können. Dieses kann mit `pip` folgendermaßen über die Kommandozeile installiert werden:\n",
    "\n",
    "```\n",
    "$ pip install pipenv\n",
    "```\n",
    "\n",
    "und nach der erfolgreichen Installation ebenfalls über die Kommandozeile gestartet:\n",
    "\n",
    "```\n",
    "$ pipenv --help\n",
    "Usage: pipenv [OPTIONS] COMMAND [ARGS]...\n",
    "\n",
    "Commands:\n",
    "  check      Checks for security vulnerabilities and against PEP 508 markers\n",
    "             provided in Pipfile.\n",
    "  clean      Uninstalls all packages not specified in Pipfile.lock.\n",
    "  graph      Displays currently–installed dependency graph information.\n",
    "  install    Installs provided packages and adds them to Pipfile, or (if none\n",
    "             is given), installs all packages.\n",
    "  lock       Generates Pipfile.lock.\n",
    "  open       View a given module in your editor.\n",
    "  run        Spawns a command installed into the virtualenv.\n",
    "  shell      Spawns a shell within the virtualenv.\n",
    "  sync       Installs all packages specified in Pipfile.lock.\n",
    "  uninstall  Un-installs a provided package and removes it from Pipfile.\n",
    "  update     Runs lock, then sync.\n",
    "```\n",
    "\n",
    "Erscheint eine Fehlermeldung, dass `pipenv` nicht gefunden wird, kann es alternativ gestartet werden:\n",
    "\n",
    "```\n",
    "$ python -m pipenv --help\n",
    "```\n",
    "\n",
    "Ein sogenanntes `Pipfile` ist folgendermaßen aufgebaut:\n",
    "\n",
    "```\n",
    "[[source]]\n",
    "url = \"https://pypi.org/simple\"\n",
    "verify_ssl = true\n",
    "name = \"pypi\"\n",
    "\n",
    "[packages]\n",
    "pandas = \"==0.23.4\"\n",
    "\n",
    "[requires]\n",
    "python_version = \"3.6\"\n",
    "```\n",
    "\n",
    "Hier werden die Abhängigkeiten für das _virtual environment_ definiert, zum Beispiel die spezielle Version 0.23.4 für `pandas`. Befindet man sich mit der Kommandozeile im Verzeichnis des `Pipfiles` und führt das Kommando `pipenv install` aus, wird das _virtual environment_ angelegt, und die im `Pipfile` festgeschriebenen Pakete installiert. Das _environment_ selbst wird mit dem Befehl `pipenv shell` aktiviert. Mit `exit` kann die Sitzung wieder beendet werden."
   ]
  },
  {
   "cell_type": "markdown",
   "metadata": {},
   "source": [
    "## 3. Vorhaben <a name=\"vorhaben\"></a>\n",
    "\n",
    "Beck _et al._ (2000) beschäftigen sich in ihrer Arbeit _Improving Quantitative Studies of International Conflict: A Conjecture_ mit dem bekannten, aber selten diskutierten Problem der quantitativen Untersuchung internationaler Konflikte, und weisen auf unzufriedenstellende Ergebnisse in der politikwissenschaftlichn Forschung hin. Die Ursachen von Konflikt, so die Autoren, seien „theorized to be important but often found to be small or ephemeral, [...] indeed tiny for the vast majority of dyads, but [...] large, stable, and replicable wherever the _ex ante_ probability of conflict is large“ (21).\n",
    "\n",
    "Im weiteren Verlauf wird ein aus mehreren Quellen zusammengetragener Datensatz vorgestellt (in [4.1.](#datensatz-einlesen) _en détail_ betrachtet), der insgesamt 23.529 Dyaden durch neun Variablen beschreibt. Dieser wird von Beck _et al._ verwendet, um ein klassisches logistisches Modell, und ein künstliches neuronales Netz zur binären Klassifikation (‚Konflikt‘ oder ‚kein Konflikt‘) von Dyaden zu erstellen. Bei letzterem Modell handelt es sich um „a type of discrete choice model that differs from the logit only in the shape of the curve“ (25).\n",
    "\n",
    "Anhand derselben Daten wird im Rahmen dieser Arbeit zunächst eine logistische Regressionsanalyse, einem ‚Klassiker‘ sowohl in den Sozialwissenschaten, als auch im Machine Learning, durchgeführt, und anschließend ein sogenanntes _Long Short-Term Memory artificial neural network_ ([Hochreiter _et al._ 1997](https://www.researchgate.net/publication/13853244_Long_Short-term_Memory))\n",
    "trainiert, das in den letzten Jahren zunehmend popularisiert wurde und zahlreiche bahnbrechende Erfolge feierte (einen guten Überblick gibt [Lipton _et al._ 2015](https://arxiv.org/pdf/1506.00019.pdf)).\n",
    "\n",
    "> Ziel dieser Arbeit ist es, _Struktur_ in den Daten internationaler Konflikte nachzuweisen – und das idealerweise **noch** deutlicher als bereits Beck _et al._."
   ]
  },
  {
   "cell_type": "markdown",
   "metadata": {},
   "source": [
    "## 4. Explorativer Blick auf die Daten <a name=\"explorativer-blick-auf-die-daten\"></a>\n",
    "\n",
    "Im folgenden Abschnitt wird der von Beck _et al._ (2000) zur Verfügung gestellte Datensatz zunächst _explorativ_ analysiert. Das schließt Vorverarbeitungsschritte, die für die anschließende Analyse ebenfalls relevant sind, wie das Einlesen und die Normalisierung des Datensatzes mit ein."
   ]
  },
  {
   "cell_type": "markdown",
   "metadata": {},
   "source": [
    "### 4.1. Datensatz einlesen <a name=\"datensatz-einlesen\"></a>\n",
    "\n",
    "Der Datensatz liegt in einer tab-separierten Datei vor, und ist im Verzeichnis `data` relativ zu diesem Jupyter Notebook gespeichert. Um diese Datei in die Python Umgebung einzulesen, muss zunächst der Pfad definiert werden:"
   ]
  },
  {
   "cell_type": "code",
   "execution_count": 2,
   "metadata": {},
   "outputs": [],
   "source": [
    "import pathlib\n",
    "\n",
    "path = pathlib.Path(\"data\", \"BeckKingZeng.tab\")"
   ]
  },
  {
   "cell_type": "markdown",
   "metadata": {},
   "source": [
    "Das Modul [`pathlib`](https://docs.python.org/3/library/pathlib.html) ist seit Python 3.4 in der Standardbibliothek enthalten und bietet Klassen an, die Dateisystempfade mit einer für verschiedene Betriebssysteme geeigneten Semantik darstellen. Oft führen Windows-spezifische Pfadangaben (mit Backslash, `C:\\Users\\severin\\data`) als reiner String auf UNIX-basierten Betriebssystemen zu Komplikationen (und natürlich auch umgekehrt). Deswegen ist es prinzipiell empfehlenswert auf ein Modul wie `pathlib` zurückzugreifen, um die Reproduzierbarkeit des Codes auf verschiedenen Plattformen möglichst unkompliziert zu halten.\n",
    "\n",
    "Die Klasse `Path` nimmt einzelne Komponenten des Pfades als Eingabe (aber auch einen einzigen String wie zum Beispiel `\"C:\\Users\\severin\\data\"`, dessen Einzelteile automatisch erkannt werden), und gibt ein `PosixPath` Objekt (oder bei Windows entsprechend `WindowsPath`) zurück:\n",
    "\n",
    "```python\n",
    ">>> pathlib.Path(\"data\", \"BeckKingZeng.tab\")\n",
    "PosixPath('data/BeckKingZeng.tab')\n",
    "```\n",
    "\n",
    "Attribute des Objekts zerlegen den Pfad in einzelne Teile:\n",
    "```python\n",
    ">>> path.stem\n",
    "'BeckKingZeng'\n",
    ">>> path.suffix\n",
    "'.tab'\n",
    "```\n",
    "\n",
    "Jedes `Path` Objekt hat u. a. beispielsweise auch eine `open()` Methode, mit dem die Datei geöffnet und gelesen werden kann:\n",
    "```python\n",
    ">>> with path.open(\"r\", encoding=\"utf-8\") as file:\n",
    "...    data = file.read()\n",
    "```\n",
    "\n",
    "Der in der Variable `path` gespeicherte `PosixPath` wird jetzt der Funktion `read_table()` aus dem Paket `pandas` (das in der Regel als `pd` importiert wird) übergeben. Diese öffnet die Datei und gibt die Daten in einem `DataFrame` zurück. Mit der Methode `head(n)` werden die ersten `n` Zeilen zurückgegeben.\n",
    "\n",
    "> **Hinweis**: Die Funktionen einer _Klasse_ (objektorientiertes Programmierparadigma) werden per Konvention als ‚Methoden‘ bezeichnet. Sowohl `pathlib.Path.open()`, als auch `pd.DataFrame.head()` ist eine _Methode_, wohingegen z. B. `pd.read_table()` eine _Funktion_ ist."
   ]
  },
  {
   "cell_type": "code",
   "execution_count": 3,
   "metadata": {},
   "outputs": [
    {
     "data": {
      "text/html": [
       "<div>\n",
       "<style scoped>\n",
       "    .dataframe tbody tr th:only-of-type {\n",
       "        vertical-align: middle;\n",
       "    }\n",
       "\n",
       "    .dataframe tbody tr th {\n",
       "        vertical-align: top;\n",
       "    }\n",
       "\n",
       "    .dataframe thead th {\n",
       "        text-align: right;\n",
       "    }\n",
       "</style>\n",
       "<table border=\"1\" class=\"dataframe\">\n",
       "  <thead>\n",
       "    <tr style=\"text-align: right;\">\n",
       "      <th></th>\n",
       "      <th>year</th>\n",
       "      <th>aysm</th>\n",
       "      <th>contig</th>\n",
       "      <th>ally</th>\n",
       "      <th>sq</th>\n",
       "      <th>dema</th>\n",
       "      <th>demb</th>\n",
       "      <th>disp</th>\n",
       "      <th>py</th>\n",
       "    </tr>\n",
       "  </thead>\n",
       "  <tbody>\n",
       "    <tr>\n",
       "      <th>0</th>\n",
       "      <td>1947</td>\n",
       "      <td>0.962477</td>\n",
       "      <td>0</td>\n",
       "      <td>0</td>\n",
       "      <td>-0.087511</td>\n",
       "      <td>10</td>\n",
       "      <td>4</td>\n",
       "      <td>0</td>\n",
       "      <td>1</td>\n",
       "    </tr>\n",
       "    <tr>\n",
       "      <th>1</th>\n",
       "      <td>1947</td>\n",
       "      <td>0.432808</td>\n",
       "      <td>1</td>\n",
       "      <td>0</td>\n",
       "      <td>0.591468</td>\n",
       "      <td>4</td>\n",
       "      <td>-9</td>\n",
       "      <td>0</td>\n",
       "      <td>1</td>\n",
       "    </tr>\n",
       "    <tr>\n",
       "      <th>2</th>\n",
       "      <td>1947</td>\n",
       "      <td>0.984976</td>\n",
       "      <td>0</td>\n",
       "      <td>0</td>\n",
       "      <td>-0.003054</td>\n",
       "      <td>-9</td>\n",
       "      <td>10</td>\n",
       "      <td>0</td>\n",
       "      <td>1</td>\n",
       "    </tr>\n",
       "    <tr>\n",
       "      <th>3</th>\n",
       "      <td>1947</td>\n",
       "      <td>0.896463</td>\n",
       "      <td>0</td>\n",
       "      <td>0</td>\n",
       "      <td>0.583652</td>\n",
       "      <td>10</td>\n",
       "      <td>10</td>\n",
       "      <td>0</td>\n",
       "      <td>1</td>\n",
       "    </tr>\n",
       "    <tr>\n",
       "      <th>4</th>\n",
       "      <td>1947</td>\n",
       "      <td>0.902849</td>\n",
       "      <td>1</td>\n",
       "      <td>1</td>\n",
       "      <td>0.246667</td>\n",
       "      <td>10</td>\n",
       "      <td>10</td>\n",
       "      <td>0</td>\n",
       "      <td>1</td>\n",
       "    </tr>\n",
       "  </tbody>\n",
       "</table>\n",
       "</div>"
      ],
      "text/plain": [
       "   year      aysm  contig  ally        sq  dema  demb  disp  py\n",
       "0  1947  0.962477       0     0 -0.087511    10     4     0   1\n",
       "1  1947  0.432808       1     0  0.591468     4    -9     0   1\n",
       "2  1947  0.984976       0     0 -0.003054    -9    10     0   1\n",
       "3  1947  0.896463       0     0  0.583652    10    10     0   1\n",
       "4  1947  0.902849       1     1  0.246667    10    10     0   1"
      ]
     },
     "execution_count": 3,
     "metadata": {},
     "output_type": "execute_result"
    }
   ],
   "source": [
    "import pandas as pd\n",
    "\n",
    "data = pd.read_table(path)\n",
    "data.head(5)"
   ]
  },
  {
   "cell_type": "markdown",
   "metadata": {},
   "source": [
    "Beck _et al._ (2000) verwenden in ihrer Arbeit das sogenannte _dyad-year design_, und berücksichtigen dabei „pairs of essentially contiguous states or with at least one major power“ (28). Der Datensatz umfasst insgesamt 23.529 _dyad-years_ von 1947 bis 1989, die, neben der Jahrangabe, durch folgende acht Variablen beschrieben werden (ebd.):\n",
    "\n",
    "- **ally**: Is allied in defense pacts, neutrality pacts, or ententes.\n",
    "- **asym**: Imbalance of power within the dyad (vgl. [Ray _et al._ 1973](http://journals.sagepub.com/doi/10.1177/004912417300100401)).\n",
    "- **contig**: Whether the dyad contains geographically contiguous countries.\n",
    "- **dema** und **demb**: Degree of democratization of the dyad.\n",
    "- **disp**: Militarized interstate dispute, or not.\n",
    "- **py**: Number of years since the last conflict.\n",
    "- **sq**: Similarity of state preferences between two partners."
   ]
  },
  {
   "cell_type": "markdown",
   "metadata": {},
   "source": [
    "„We divided the data into an in-sample training set, 1947-85, which we use to fit the model, and a test/validation set, 1986-89, which was used only once to evaluate the forecasts“ (Beck _et al._ 2000, 28). Aus diesem Grund werden die Daten ab 1986 zunächst verworfen. Wie genau die Modelle evaluiert werden, wird im späteren Verlauf geklärt."
   ]
  },
  {
   "cell_type": "code",
   "execution_count": 4,
   "metadata": {},
   "outputs": [],
   "source": [
    "data = data[data[\"year\"] < 1986]"
   ]
  },
  {
   "cell_type": "markdown",
   "metadata": {},
   "source": [
    "Für die geplante Analyse wird auch die Spalte `year` verworfen (irrelevant, da der Klassifikator unabhängig von einer Jahreszahl Vorhersagen machen soll), und jene Werte, die einen _militarized interstate dispute_ (MID) angeben oder nicht, separat behandelt. Die verbleibenden sieben Features werden als `X` gespeichert:"
   ]
  },
  {
   "cell_type": "code",
   "execution_count": 5,
   "metadata": {},
   "outputs": [
    {
     "data": {
      "text/html": [
       "<div>\n",
       "<style scoped>\n",
       "    .dataframe tbody tr th:only-of-type {\n",
       "        vertical-align: middle;\n",
       "    }\n",
       "\n",
       "    .dataframe tbody tr th {\n",
       "        vertical-align: top;\n",
       "    }\n",
       "\n",
       "    .dataframe thead th {\n",
       "        text-align: right;\n",
       "    }\n",
       "</style>\n",
       "<table border=\"1\" class=\"dataframe\">\n",
       "  <thead>\n",
       "    <tr style=\"text-align: right;\">\n",
       "      <th></th>\n",
       "      <th>aysm</th>\n",
       "      <th>contig</th>\n",
       "      <th>ally</th>\n",
       "      <th>sq</th>\n",
       "      <th>dema</th>\n",
       "      <th>demb</th>\n",
       "      <th>py</th>\n",
       "    </tr>\n",
       "  </thead>\n",
       "  <tbody>\n",
       "    <tr>\n",
       "      <th>0</th>\n",
       "      <td>0.962477</td>\n",
       "      <td>0</td>\n",
       "      <td>0</td>\n",
       "      <td>-0.087511</td>\n",
       "      <td>10</td>\n",
       "      <td>4</td>\n",
       "      <td>1</td>\n",
       "    </tr>\n",
       "    <tr>\n",
       "      <th>1</th>\n",
       "      <td>0.432808</td>\n",
       "      <td>1</td>\n",
       "      <td>0</td>\n",
       "      <td>0.591468</td>\n",
       "      <td>4</td>\n",
       "      <td>-9</td>\n",
       "      <td>1</td>\n",
       "    </tr>\n",
       "    <tr>\n",
       "      <th>2</th>\n",
       "      <td>0.984976</td>\n",
       "      <td>0</td>\n",
       "      <td>0</td>\n",
       "      <td>-0.003054</td>\n",
       "      <td>-9</td>\n",
       "      <td>10</td>\n",
       "      <td>1</td>\n",
       "    </tr>\n",
       "    <tr>\n",
       "      <th>3</th>\n",
       "      <td>0.896463</td>\n",
       "      <td>0</td>\n",
       "      <td>0</td>\n",
       "      <td>0.583652</td>\n",
       "      <td>10</td>\n",
       "      <td>10</td>\n",
       "      <td>1</td>\n",
       "    </tr>\n",
       "    <tr>\n",
       "      <th>4</th>\n",
       "      <td>0.902849</td>\n",
       "      <td>1</td>\n",
       "      <td>1</td>\n",
       "      <td>0.246667</td>\n",
       "      <td>10</td>\n",
       "      <td>10</td>\n",
       "      <td>1</td>\n",
       "    </tr>\n",
       "  </tbody>\n",
       "</table>\n",
       "</div>"
      ],
      "text/plain": [
       "       aysm  contig  ally        sq  dema  demb  py\n",
       "0  0.962477       0     0 -0.087511    10     4   1\n",
       "1  0.432808       1     0  0.591468     4    -9   1\n",
       "2  0.984976       0     0 -0.003054    -9    10   1\n",
       "3  0.896463       0     0  0.583652    10    10   1\n",
       "4  0.902849       1     1  0.246667    10    10   1"
      ]
     },
     "execution_count": 5,
     "metadata": {},
     "output_type": "execute_result"
    }
   ],
   "source": [
    "X = data.loc[:, [\"aysm\", \"contig\", \"ally\", \"sq\", \"dema\", \"demb\", \"py\"]]\n",
    "X.head(5)"
   ]
  },
  {
   "cell_type": "markdown",
   "metadata": {},
   "source": [
    "Was macht `.loc` mit dem `DataFrame`? In Python kann mit der builtin Funktion `help()` auf die Dokumentation eines Pakets, Moduls, Funktion bzw. Methode, oder Klasse zugegriffen werden:\n",
    "\n",
    "```python\n",
    ">>> help(data.loc)\n",
    "```\n",
    "```\n",
    "Help on _LocIndexer in module pandas.core.indexing object:\n",
    "\n",
    "class _LocIndexer(_LocationIndexer)\n",
    " |  Access a group of rows and columns by label(s) or a boolean array.\n",
    " |  \n",
    " |  ``.loc[]`` is primarily label based, but may also be used with a\n",
    " |  boolean array.\n",
    "```\n",
    "\n",
    "Mit `.loc` kann also, basierend auf Labels (Spalten- oder Indexnamen), indiziert werden. Dafür wird in einer eckigen Klammer zuerst auf den Zeilenindex, und nach dem Komma auf den Spaltenindex zugegriffen. Der Doppelpunkt bedeutet, dass _alles_ indiziert wird, mit der Liste wird eine Auswahl getroffen."
   ]
  },
  {
   "cell_type": "markdown",
   "metadata": {},
   "source": [
    "Auf einzelne Spalten kann direkt mit dem entsprechenden Label in einer eckigen Klammer zugegriffen werden:"
   ]
  },
  {
   "cell_type": "code",
   "execution_count": 6,
   "metadata": {},
   "outputs": [
    {
     "data": {
      "text/plain": [
       "0    0\n",
       "1    0\n",
       "2    0\n",
       "3    0\n",
       "4    0\n",
       "Name: disp, dtype: int64"
      ]
     },
     "execution_count": 6,
     "metadata": {},
     "output_type": "execute_result"
    }
   ],
   "source": [
    "Y = data[\"disp\"]\n",
    "Y.head()"
   ]
  },
  {
   "cell_type": "markdown",
   "metadata": {},
   "source": [
    "> **Exkurs: Zwei grundlegende Datenstrukturen von `pandas`**\n",
    ">\n",
    "> Bei `pandas` gibt es `DataFrames` und `Series`, wobei Ersteres 2-dimensional, Letzteres 1-dimensional ist. Die Datenstruktur einer Spalte eines `DataFrames` ist eine `Series`. Wird also wie oben eine einzelne Spalte ausgewählt, erhält man eine `Series`:\n",
    "```python\n",
    ">>> type(X)\n",
    "pandas.core.frame.DataFrame\n",
    ">>> type(Y)\n",
    "pandas.core.series.Series\n",
    "```\n",
    "\n",
    "\n",
    "Die Bibliothek `pandas` baut auf NumPy auf, einem Python Paket für wissenschaftliches Rechnen, das sehr effizient und in großen Teilen in der Programmiersprache C implementiert ist. NumPy verfügt selbst über eine eigene Datenstruktur, sogenannte ‚ndarrays‘, auf die über das  Attribut `values` einer `Series` oder eines `DataFrames` zugegriffen werden kann:"
   ]
  },
  {
   "cell_type": "code",
   "execution_count": 7,
   "metadata": {},
   "outputs": [
    {
     "name": "stdout",
     "output_type": "stream",
     "text": [
      "'X' hat jetzt den Datentyp <class 'numpy.ndarray'>, genau wie 'Y': <class 'numpy.ndarray'>.\n"
     ]
    }
   ],
   "source": [
    "X = X.values\n",
    "Y = Y.values\n",
    "\n",
    "print(f\"'X' hat jetzt den Datentyp {type(X)}, genau wie 'Y': {type(Y)}.\")"
   ]
  },
  {
   "cell_type": "markdown",
   "metadata": {},
   "source": [
    "> **Exkurs: Strings formatieren**\n",
    ">\n",
    "> Ab Python 3.6 gibt es sogenannte ‚f-strings‘. Wird ein kleines `f` vor den Anführungszeichen geschrieben, wird der Inhalt in geschweiften Klammern als Programmcode interpretiert und ausgeführt. Alternativ kann die `format()` Methode eines Strings verwendet werden:\n",
    "```python\n",
    ">>> f\"1 + 1 = {1 + 1}\"\n",
    "'1 + 1 = 2'\n",
    ">>> \"1 + 1 = {ergebnis}\".format(ergebnis=1 + 1)\n",
    "'1 + 1 = 2'\n",
    "```"
   ]
  },
  {
   "cell_type": "markdown",
   "metadata": {},
   "source": [
    "Das Attribut `shape` enthält Informationen bezüglich Dimensionalität eines _ndarrays_ (das schließt auch `Series` und `DataFrames` mit ein):"
   ]
  },
  {
   "cell_type": "code",
   "execution_count": 8,
   "metadata": {},
   "outputs": [
    {
     "name": "stdout",
     "output_type": "stream",
     "text": [
      "'X': (21047, 7)\n",
      "'Y': (21047,)\n"
     ]
    }
   ],
   "source": [
    "print(\"'X':\", X.shape)\n",
    "print(\"'Y':\", Y.shape)"
   ]
  },
  {
   "cell_type": "markdown",
   "metadata": {},
   "source": [
    "### 4.2. Normalisierung <a name=\"normalisierung\"></a>\n",
    "\n",
    "Die Standardabweichung (siehe unten, berechnet mit der Methode `std()` des ndarrays) ist mit 7,9 sehr hoch und rührt daher, dass die einzelnen Features verschiedene Skalen verwenden und entsprechend variierende numerische Grenzen haben. Ohne Normalisierung würden Features mit mehr oder weniger zufällig hohen Zahlenwerten _ungewollt_ großen Einfluss auf die Vorhersage des Klassifikators nehmen. Mithilfe des `MinMaxScaler` aus dem Paket `scikit-learn` wird der Datensatz normalisiert. Der kleinste Wert im Datensatz wird als 0, der größte Wert als 1 kodiert. Alle Zahlen dazwischen nehmen einen entsprechenden Wert zwischen 0 und 1 an."
   ]
  },
  {
   "cell_type": "code",
   "execution_count": 9,
   "metadata": {},
   "outputs": [
    {
     "data": {
      "text/plain": [
       "7.435453244764369"
      ]
     },
     "execution_count": 9,
     "metadata": {},
     "output_type": "execute_result"
    }
   ],
   "source": [
    "X.std()"
   ]
  },
  {
   "cell_type": "code",
   "execution_count": 10,
   "metadata": {},
   "outputs": [],
   "source": [
    "from sklearn import preprocessing\n",
    "\n",
    "scaler = preprocessing.MinMaxScaler()\n",
    "X = scaler.fit_transform(X)"
   ]
  },
  {
   "cell_type": "markdown",
   "metadata": {},
   "source": [
    "Die Standardabweichung des normalisierten Datensatzes beträgt jetzt nur noch etwa 0,4:"
   ]
  },
  {
   "cell_type": "code",
   "execution_count": 11,
   "metadata": {},
   "outputs": [
    {
     "data": {
      "text/plain": [
       "0.4089751710925768"
      ]
     },
     "execution_count": 11,
     "metadata": {},
     "output_type": "execute_result"
    }
   ],
   "source": [
    "X.std()"
   ]
  },
  {
   "cell_type": "markdown",
   "metadata": {},
   "source": [
    "### 4.3. Dimensionsreduzierung <a name=\"dimensionsreduzierung\"></a>\n",
    "\n",
    "Der Datensatz `X` ist 7-dimensional (weil eine Instanz durch 7 Variablen bzw. Features dargstellt wird), und kann in dieser From nicht (oder schwierig) visualisiert werden. Nachfolgend kommt ein Verfahren zum Einsatz, das die Datenpunkte in einem 2-dimensionalen Raum einbettet, der schließlich in einem 2-dimensionalen Scatterplot dargestellt werden kann.\n",
    "\n",
    "> Dieser Schritt hat mit dem anschließenden Machine Learning _per se_ nichts zu tun, sondern ist lediglich für die Visualisierung des Datensatzes erforderlich."
   ]
  },
  {
   "cell_type": "markdown",
   "metadata": {},
   "source": [
    "### 4.3.1. T-Distributed Stochastic Neighbor Embedding <a name=\"t-distributed-stochastic-neighbor-embedding\"></a>\n",
    "\n",
    "Der von [Maaten _et al._ (2008)](http://jmlr.org/papers/volume9/vandermaaten08a/vandermaaten08a.pdf) vorgeschlagene Algorithmus _T-distributed Stochastic Neighbor Embedding_ (t-SNE) eignet sich für die Einbettung und Visualisierung hochdimensionaler Objekte in einem zwei- oder dreidimensionalen Raum.\n",
    "\n",
    "Der Algorithmus besteht aus zwei grundlegenden Schritten (ebd., 2587):\n",
    "1. Es wird eine Wahrscheinlichkeitsverteilung über Paare der hochdimensionalen Datenpunkte berechnet, dass _ähnliche_ Datenpunkte eher zusammen ausgewählt werden, als _unähnliche_.\n",
    "2. Eine zweite Wahrscheinlichkeitsverteilung wird über die Datenpunkte im tiefdimensionalen Raum berechnet, welche die Kullback-Leibler-Divergenz ([Kullback, Leibler 1951](https://projecteuclid.org/euclid.aoms/1177729694)) zwischen den zwei Verteilungen minimiert.\n",
    "\n",
    "Der Algorithmus ist im Modul `manifold` von `scikit-learn` implementiert:"
   ]
  },
  {
   "cell_type": "code",
   "execution_count": 12,
   "metadata": {},
   "outputs": [],
   "source": [
    "from sklearn import manifold\n",
    "\n",
    "tsne = manifold.TSNE(random_state=42)\n",
    "embedding = tsne.fit_transform(X)"
   ]
  },
  {
   "cell_type": "markdown",
   "metadata": {},
   "source": [
    "Nachfolgend wird eine Funktion (mit dem Schlüsselwort `def`)  definiert, die das Ergebnis der Dimensionsreduzierung (`embedding`), sowie das Array mit den Klassenlabels als Argument nimmt. Da der Befehl `%matplotlib inline` in der folgenden Zelle ausgeführt wird, wird die Grafik automatisch im Jupyter Notebook angezeigt."
   ]
  },
  {
   "cell_type": "code",
   "execution_count": 13,
   "metadata": {},
   "outputs": [],
   "source": [
    "import numpy as np\n",
    "import matplotlib.pyplot as plt\n",
    "%matplotlib inline\n",
    "\n",
    "def plot_tsne(embedding, Y):\n",
    "    fig, ax = plt.subplots()\n",
    "    ax.scatter(embedding[np.where(Y == 0), 0],\n",
    "               embedding[np.where(Y == 0), 1],\n",
    "               marker=\"x\",\n",
    "               color=\"#729FCF\",\n",
    "               linewidth=\"1\",\n",
    "               alpha=0.8,\n",
    "               label=\"No MID\")\n",
    "    ax.scatter(embedding[np.where(Y == 1), 0],\n",
    "               embedding[np.where(Y == 1), 1],\n",
    "               marker=\"v\",\n",
    "               color=\"#EF2929\",\n",
    "               linewidth=\"1\",\n",
    "               alpha=0.8,\n",
    "               label=\"MID\")\n",
    "    ax.set_xlabel(\"Component 1\")\n",
    "    ax.set_ylabel(\"Component 2\")\n",
    "    ax.legend(loc=\"best\")\n",
    "    return ax"
   ]
  },
  {
   "cell_type": "markdown",
   "metadata": {},
   "source": [
    "In der Grafik werden zwar Gruppen gebildet, homogene Cluster aus den zwei Klassen sind aber nicht zu erkennen:"
   ]
  },
  {
   "cell_type": "code",
   "execution_count": 14,
   "metadata": {},
   "outputs": [
    {
     "data": {
      "image/png": "[encoded data removed]",
      "text/plain": [
       "<Figure size 432x288 with 1 Axes>"
      ]
     },
     "metadata": {
      "needs_background": "light"
     },
     "output_type": "display_data"
    }
   ],
   "source": [
    "ax = plot_tsne(embedding, Y)"
   ]
  },
  {
   "cell_type": "markdown",
   "metadata": {},
   "source": [
    "## 5. Klassifikation <a name=\"klassifikation\"></a>\n",
    "\n",
    "In diesem Teil der Arbeit wird dokumentiert, wie zwei Klassifikatoren mit den Daten von Beck _et al._ (2000) trainiert werden, um _dyad-years_ als MID oder nicht-MID zu klassifizieren. Hier soll in erster Linie aufgezeigt werden, welche Verbesserungen den jüngsten Entwicklungen im Bereich Deep Learning, im Vergleich zu klassischen maschinellen Lernalgorithmen, zu verdanken sind. Dafür wird bewusst auf eine _k-fold cross validation_ bei der Evaluation verzichtet, und zwei Modelle, ein neuronales Netz und eine logistische Regression, mit identischen Trainings- und Testdaten erstellt bzw. evaluiert, um aufzuzeigen, inwiefern die Qualität der Vorhersage durch Deep Learning gesteigert werden kann."
   ]
  },
  {
   "cell_type": "markdown",
   "metadata": {},
   "source": [
    "### 5.1. Eine theoretische Annäherung an LSTM Netzwerke <a name=\"eine-theoretische-annaeherung-an-lstm-netzwerke\"></a>\n",
    "\n",
    "Ein künstliches neuronales Netz setzt sich aus einem _input layer_, einem oder mehreren _hidden layer_, und einem _output layer_ zusammen. Ein _layer_ besteht aus Neuronen, das heißt aus separaten Einheiten, die speziell gewichtet sind. Diese Gewichte werden während des Trainings ermittelt und entscheiden schließlich über die Vorhersage des Modells. Die Neuronen eines _layers_ sind mit allen Neuronen des bzw. den nächsten _layer_ verbunden; so fließt Information, das heißt die Eingabedaten, durch das künstliche neuronale Netz. \n",
    "\n",
    "Der _input layer_ verfügt über eine festgelegte Zahl an Neuronen, nämlich so viele, wie die Trainingsdaten Dimensionen haben. Ebenso der _output layer_, der, im Fall einer Klassifikation, so viele Neuronen hat, wie es Klassen gibt. Die Zahl der Neuronen der _hidden layer_ ist variabel und sollte im Rahmen der Hyperparameteroptimierung ermitelt werden; je mehr, desto mächtiger wird das Modell, aber desto rechen- und zeitinesiver wird der Trainingsvorgang (das hier vorgestellte LSTM benötigt, auf insgesamt vier CPUs, etwa 20 Minuten).\n",
    "\n",
    "In der nachfolgenden Abbildung wird die Architektur des hier vorgestellten Netzwerks dargestellt:\n",
    "\n",
    "<center>\n",
    "    <img src=\"data/img/lstm.png\" width=\"600px\">\n",
    "</center>\n",
    "\n",
    "Der _input layer_ besteht aus insgesamt sieben (entsprechend den Trainingsdaten), der _output layer_ aus zwei (binäre Klassifikation) Neuronen. Sowohl der LSTM (erster _hidden layer_), als auch der zweite und letzte _hidden layer_ bestehen aus 512 Neuronen, die, wie bereits beschrieben, schichtweise miteinander verbunden sind.\n",
    "\n",
    "Ein entscheidender Vorteil an einem LSTM, bzw. _recurrent neural networks_ generell, ist die Beständigkeit von Information durch mehrere Schichten; traditionelle künstliche neuronale Netze ‚vergessen‘ ursprüngliche Eingaben über mehrere Zeitschritte hinweg. Das heißt, ein LSTM verarbeitet die Eingabe über _mehrere Zeitschritte_, springt zurück an den Anfang, und korrigiert die Fehler, die sich in einem späteren Zeitschritt herausgestellt haben (vgl. grüner und roter Pfeil in der Grafik)."
   ]
  },
  {
   "cell_type": "markdown",
   "metadata": {},
   "source": [
    "### 5.2. Trainings- und Testdaten <a name=\"trainings-und-testdaten\"></a>\n",
    "\n",
    "Um die Performanz des Modells zu evaluieren, wird der Datensatz in Trainings- und Testdaten, hier im Verhältnis 80:20, aufgeteilt. Das Modell wird zunächst mit den Trainingsdaten trainiert, und anschließend mit den (unbekannten) Testdaten evaluiert. Um den Datensatz aufzuteilen, wird eine Funktion aus dem `model_selection` Modul von `scikit-learn` verwendet:"
   ]
  },
  {
   "cell_type": "code",
   "execution_count": 15,
   "metadata": {},
   "outputs": [],
   "source": [
    "from sklearn import model_selection\n",
    "\n",
    "x_train, x_test, y_train, y_test = model_selection.train_test_split(X,\n",
    "                                                                    Y,\n",
    "                                                                    test_size=0.2,\n",
    "                                                                    random_state=42)"
   ]
  },
  {
   "cell_type": "code",
   "execution_count": 16,
   "metadata": {},
   "outputs": [
    {
     "name": "stdout",
     "output_type": "stream",
     "text": [
      "Traingsdaten: 16837, mit 7 Features.\n",
      "Testdaten: 4210, ebenfalls mit 7 Features.\n"
     ]
    }
   ],
   "source": [
    "print(f\"Traingsdaten: {x_train.shape[0]}, mit {x_train.shape[1]} Features.\")\n",
    "print(f\"Testdaten: {x_test.shape[0]}, ebenfalls mit {x_test.shape[1]} Features.\")"
   ]
  },
  {
   "cell_type": "markdown",
   "metadata": {},
   "source": [
    "### 5.3. Klassifikator 1: Logistische Regression <a name=\"klassifikator-1-logistische-regression\"></a>\n",
    "\n",
    "Eine logistische Regressionsanalyse dient dazu, ein Modell für die Wahrscheinlichkeit des Eintretens eines bestimmten Ereignisses zu erstellen, das heißt in diesem Fall ein _dyade-year_ wird als MIT oder nicht-MIT klassifiziert. Einfluss auf die Klassifikation haben die sieben, zuvor beschriebenen unabhängigen Variablen.\n",
    "\n",
    "Dieses Verfahren ist eines der statistischen Standardanalysemodelle in den Sozialwissenschaften, und im Paket `scikit-learn` implementiert:"
   ]
  },
  {
   "cell_type": "code",
   "execution_count": 17,
   "metadata": {},
   "outputs": [
    {
     "data": {
      "text/plain": [
       "LogisticRegression(C=1.0, class_weight=None, dual=False, fit_intercept=True,\n",
       "          intercept_scaling=1, max_iter=100, multi_class='ovr', n_jobs=1,\n",
       "          penalty='l2', random_state=None, solver='liblinear', tol=0.0001,\n",
       "          verbose=0, warm_start=False)"
      ]
     },
     "execution_count": 17,
     "metadata": {},
     "output_type": "execute_result"
    }
   ],
   "source": [
    "from sklearn import linear_model\n",
    "\n",
    "regression = linear_model.LogisticRegression()\n",
    "regression.fit(x_train, y_train)"
   ]
  },
  {
   "cell_type": "markdown",
   "metadata": {},
   "source": [
    "Die Qualität des Klassifikators ist _prima facie_ sehr hoch, da fast 96% der Testdaten korrekt klassifiziert werden. Dazu wird die Funktion `accuracy_score` verwendet, die den Goldstandard (`y_test`) und die Vorhesage des Modells (`y_pred`) als Eingabe nimmt:"
   ]
  },
  {
   "cell_type": "code",
   "execution_count": 18,
   "metadata": {},
   "outputs": [
    {
     "data": {
      "text/plain": [
       "0.9584323040380047"
      ]
     },
     "execution_count": 18,
     "metadata": {},
     "output_type": "execute_result"
    }
   ],
   "source": [
    "from sklearn import metrics\n",
    "\n",
    "y_pred = regression.predict(x_test)\n",
    "metrics.accuracy_score(y_test, y_pred)"
   ]
  },
  {
   "cell_type": "markdown",
   "metadata": {},
   "source": [
    "Bei näherer Betrachtung der Vorhersage fällt aber auf, dass ausschließlich Klasse 0 (also kein Konflikt) prognostiziert wird:"
   ]
  },
  {
   "cell_type": "code",
   "execution_count": 19,
   "metadata": {},
   "outputs": [
    {
     "name": "stdout",
     "output_type": "stream",
     "text": [
      "Vorhergesagte Klassen: [0]\n"
     ]
    }
   ],
   "source": [
    "print(\"Vorhergesagte Klassen:\", np.unique(y_pred))"
   ]
  },
  {
   "cell_type": "markdown",
   "metadata": {},
   "source": [
    "Zum selben Ergebnis sind auch Beck _et al._ (2000, 29) mit ihrem logistischen Modell gekommen. In diesem Fall ist die Accuracy des Modells sehr kritisch zu behandeln. Um eine Instanz stets derselben Klasse zuzuordnen, muss kein maschineller Lernalgorithmus trainiert werden. Der sehr hohe Accuracy Wert ist in diesem Fall irreführend und _falsch_."
   ]
  },
  {
   "cell_type": "markdown",
   "metadata": {},
   "source": [
    "Werden die Labels der Testdaten gezählt wird klar, dass Klasse 1 stark unterrepräsentiert ist:"
   ]
  },
  {
   "cell_type": "code",
   "execution_count": 20,
   "metadata": {},
   "outputs": [
    {
     "data": {
      "text/plain": [
       "Counter({0: 4035, 1: 175})"
      ]
     },
     "execution_count": 20,
     "metadata": {},
     "output_type": "execute_result"
    }
   ],
   "source": [
    "import collections\n",
    "\n",
    "collections.Counter(y_test)"
   ]
  },
  {
   "cell_type": "markdown",
   "metadata": {},
   "source": [
    "Auch im gesamten Datensatz sind Objekte der Klasse 1 unterrepräsentiert:"
   ]
  },
  {
   "cell_type": "code",
   "execution_count": 21,
   "metadata": {},
   "outputs": [],
   "source": [
    "def plot_pandas(data, kind, xlabel, ylabel):\n",
    "    ax = data.plot(kind=kind, color=\"grey\")\n",
    "    ax.set_xlabel(xlabel)\n",
    "    ax.set_ylabel(ylabel)\n",
    "    return ax"
   ]
  },
  {
   "cell_type": "code",
   "execution_count": 22,
   "metadata": {},
   "outputs": [
    {
     "data": {
      "text/plain": [
       "0    20155\n",
       "1      892\n",
       "Name: disp, dtype: int64"
      ]
     },
     "execution_count": 22,
     "metadata": {},
     "output_type": "execute_result"
    }
   ],
   "source": [
    "classes = data[\"disp\"].value_counts()\n",
    "classes"
   ]
  },
  {
   "cell_type": "code",
   "execution_count": 23,
   "metadata": {},
   "outputs": [
    {
     "data": {
      "image/png": "[encoded data removed]",
      "text/plain": [
       "<Figure size 432x288 with 1 Axes>"
      ]
     },
     "metadata": {
      "needs_background": "light"
     },
     "output_type": "display_data"
    }
   ],
   "source": [
    "ax = plot_pandas(data=classes,\n",
    "                 kind=\"barh\",\n",
    "                 xlabel=\"Frequency\",\n",
    "                 ylabel=\"Class\")"
   ]
  },
  {
   "cell_type": "markdown",
   "metadata": {},
   "source": [
    "### 5.4. Arbeiten mit unsymmetrischen Datensätzen <a name=\"arbeiten-mit-unsymmetrischen-datensaetzen\"></a>\n",
    "\n",
    "Unsymmetrische Trainings- und Testdaten sind nur je nach Anwendung problematisch. Angenommen die Realität _und_ die Daten implizieren, dass in 99,9% aller Fälle `A` eintritt, und `B` nur in 0,01%, wird der Klassifikator vermutlich _immer_ `A` vorhersagen – was korrekt und erstrebenswert ist. In einem Anwendungsfall wie diesem interessieren wir uns aber in erster Linie nicht für eine korrekte Prognose, sondern _warum_ ein Fall eintritt. Die Verzerrung durch die unsymmetrische Verteilung wird also problematisch.\n",
    "\n",
    "Es gibt zwei gängige Methoden, um den Datensatz zu _entzerren_:\n",
    "\n",
    "1. **Oversampling**: Objekte aus der _unterrepräsentierten_ Klasse werden dupliziert oder synthetisch generiert (Duplikate werden zum Beispiel minimal geändert).\n",
    "2. **Undersampling**: Ojekte aus der _überrepräsentierten_ Klasse werden verworfen, dass beide Klassen (ungefähr) symmetrisch verteilt sind.\n",
    "\n",
    "Da in der unterrepräsentierten Klasse insgesamt 892 Objekte sind, was für das Erstellen eines Klassifikators theoretisch ausreichend ist, und synthetische Objekte prinzipiell problematisch sind (entsprechen nicht zwangsläufig der Realität), wird die überrepräsentierte Klasse _undersampled_."
   ]
  },
  {
   "cell_type": "markdown",
   "metadata": {},
   "source": [
    "Dafür werden aus den ürsprünglichen Daten Objekte beider Klassen in separaten Variablen gespeichert:"
   ]
  },
  {
   "cell_type": "code",
   "execution_count": 24,
   "metadata": {},
   "outputs": [],
   "source": [
    "def get_classes(data):\n",
    "    data = data.iloc[:, 1:]  # skip first column\n",
    "    class_0 = data[data[\"disp\"] == 0].drop(\"disp\", axis=1)\n",
    "    class_1 = data[data[\"disp\"] == 1].drop(\"disp\", axis=1)\n",
    "    return class_0.values, class_1.values"
   ]
  },
  {
   "cell_type": "code",
   "execution_count": 25,
   "metadata": {},
   "outputs": [
    {
     "name": "stdout",
     "output_type": "stream",
     "text": [
      "Shape für Klasse 0: (20155, 7)\n",
      "Shape für Klasse 1: (892, 7)\n"
     ]
    }
   ],
   "source": [
    "class_0, class_1 = get_classes(data)\n",
    "\n",
    "print(\"Shape für Klasse 0:\", class_0.shape)\n",
    "print(\"Shape für Klasse 1:\", class_1.shape)"
   ]
  },
  {
   "cell_type": "markdown",
   "metadata": {},
   "source": [
    "### 5.4.1. Undersampling mit k-Means <a name=\"undersampling-mit-kmeans\"></a>\n",
    "\n",
    "Um möglichst heterogene Datenpunkte aus der überrepräsentierten Klasse zu behalten, wird diese mit dem sogenannten _k-Means Algorithmus_ in insgesamt 2000 Gruppen (also immer noch mehr als das Doppelte der unterrepräsentierten Klasse) geclustert. Das heißt, ähnliche Objekte befinden sich im selben Cluster. Übernommen werden jetzt ausschließlich die Clusterzentren.\n",
    "\n",
    "Erneut wird die Implementierung von `scikit-learn` verwendet:"
   ]
  },
  {
   "cell_type": "code",
   "execution_count": 26,
   "metadata": {},
   "outputs": [
    {
     "name": "stdout",
     "output_type": "stream",
     "text": [
      "Insgesamt 2000 Cluster.\n"
     ]
    },
    {
     "data": {
      "text/plain": [
       "KMeans(algorithm='auto', copy_x=True, init='k-means++', max_iter=300,\n",
       "    n_clusters=2000, n_init=10, n_jobs=1, precompute_distances='auto',\n",
       "    random_state=42, tol=0.0001, verbose=0)"
      ]
     },
     "execution_count": 26,
     "metadata": {},
     "output_type": "execute_result"
    }
   ],
   "source": [
    "from sklearn.cluster import KMeans\n",
    "\n",
    "n_clusters = 2000\n",
    "\n",
    "print(f\"Insgesamt {n_clusters} Cluster.\")\n",
    "\n",
    "kmeans = KMeans(n_clusters=n_clusters, random_state=42)\n",
    "kmeans.fit(class_0)"
   ]
  },
  {
   "cell_type": "markdown",
   "metadata": {},
   "source": [
    "In der Variable für Klasse 0 werden nun nur die Clusterzentren gespeichert:"
   ]
  },
  {
   "cell_type": "code",
   "execution_count": 27,
   "metadata": {},
   "outputs": [],
   "source": [
    "class_0 = kmeans.cluster_centers_"
   ]
  },
  {
   "cell_type": "markdown",
   "metadata": {},
   "source": [
    "Und der neue Datensatz mit entsprechenden Labels wird erstellt:"
   ]
  },
  {
   "cell_type": "code",
   "execution_count": 28,
   "metadata": {},
   "outputs": [],
   "source": [
    "X = np.append(class_0, class_1, axis=0)\n",
    "Y = np.array([0 for i in range(n_clusters)] + [1 for i in range(class_1.shape[0])])"
   ]
  },
  {
   "cell_type": "markdown",
   "metadata": {},
   "source": [
    "Die Daten müssen auch jetzt wieder normalisiert werden:"
   ]
  },
  {
   "cell_type": "code",
   "execution_count": 29,
   "metadata": {},
   "outputs": [],
   "source": [
    "scaler = preprocessing.MinMaxScaler()\n",
    "X = scaler.fit_transform(X)"
   ]
  },
  {
   "cell_type": "markdown",
   "metadata": {},
   "source": [
    "Der weitaus kleinere Datensatz kann nun erneut in einen 2-dimensionalen Raum eingebettet werden:"
   ]
  },
  {
   "cell_type": "code",
   "execution_count": 30,
   "metadata": {},
   "outputs": [],
   "source": [
    "tsne = manifold.TSNE(random_state=42)\n",
    "embedding = tsne.fit_transform(X)"
   ]
  },
  {
   "cell_type": "markdown",
   "metadata": {},
   "source": [
    "Wieder haben sich Cluster gebildet, die zwar diesmal deutlich homogener sind, aber auch jetzt kein klassenspezifisches Muster erkennen lassen:"
   ]
  },
  {
   "cell_type": "code",
   "execution_count": 31,
   "metadata": {},
   "outputs": [
    {
     "data": {
      "image/png": "[encoded data removed]",
      "text/plain": [
       "<Figure size 432x288 with 1 Axes>"
      ]
     },
     "metadata": {
      "needs_background": "light"
     },
     "output_type": "display_data"
    }
   ],
   "source": [
    "ax = plot_tsne(embedding, Y)"
   ]
  },
  {
   "cell_type": "markdown",
   "metadata": {},
   "source": [
    "Der Datensatz wird auch in Trainings- und Testdaten im Verhältnis 80:20 aufgeteilt. Es ist durchaus gefährlich, wie bei Beck _et al._ (2000) geschehen, einen Klassifikator mit stark unsymmetrischen Daten zu testen (alle Instanzen ab 1986 – inwiefern unsymmetrisch, ist der Tabelle in [6.1.2.](#beck-et-al-und-die-hier-vorgestellten-klassifikatoren) zu entnehmen), da so unter Umständen Schwächen des Modells, eine oder mehrere Klassen korrekt vorherzusagen, unbemerkt bleiben."
   ]
  },
  {
   "cell_type": "code",
   "execution_count": 32,
   "metadata": {},
   "outputs": [],
   "source": [
    "x_train, x_test, y_train, y_test = model_selection.train_test_split(X,\n",
    "                                                                    Y,\n",
    "                                                                    test_size=0.2,\n",
    "                                                                    random_state=42)"
   ]
  },
  {
   "cell_type": "code",
   "execution_count": 33,
   "metadata": {},
   "outputs": [
    {
     "name": "stdout",
     "output_type": "stream",
     "text": [
      "Traingsdaten: 2313, mit 7 Features.\n",
      "Testdaten: 579, ebenfalls mit 7 Features.\n"
     ]
    }
   ],
   "source": [
    "print(f\"Traingsdaten: {x_train.shape[0]}, mit {x_train.shape[1]} Features.\")\n",
    "print(f\"Testdaten: {x_test.shape[0]}, ebenfalls mit {x_test.shape[1]} Features.\")"
   ]
  },
  {
   "cell_type": "markdown",
   "metadata": {},
   "source": [
    "Und wieder wird eine logistische Regressionsanalyse durchgeführt. Diesmal mehrmals mit variierenden Parameter für `C`.\n",
    "\n",
    "> Je größer `C`, desto komplexer das Modell, desto größer die Gefahr des _overfitting_ (bzw. _underfitting_ bei kleinen Werten)."
   ]
  },
  {
   "cell_type": "code",
   "execution_count": 34,
   "metadata": {},
   "outputs": [],
   "source": [
    "parameters = [0.001, 0.01, 0.1, 1, 10, 100, 1000]\n",
    "accuracies = dict()\n",
    "\n",
    "for C in parameters:\n",
    "    # Construct and train model object:\n",
    "    regression = linear_model.LogisticRegression(C=C)\n",
    "    regression.fit(x_train, y_train)\n",
    "    # Classify train and test data:\n",
    "    y_score_train = regression.predict(x_train)\n",
    "    y_score_test = regression.predict(x_test)\n",
    "    # Calculate accuracy:\n",
    "    accuracy_train = metrics.accuracy_score(y_train, y_score_train)\n",
    "    accuracy_test = metrics.accuracy_score(y_test, y_score_test)\n",
    "    # Save accuracies in a dictionary:\n",
    "    accuracies[str(C)] = {\"train\": accuracy_train, \"test\": accuracy_test}"
   ]
  },
  {
   "cell_type": "markdown",
   "metadata": {},
   "source": [
    "Offenbar liefert der Wert 1 für `C` die besten Ergebnisse:"
   ]
  },
  {
   "cell_type": "code",
   "execution_count": 35,
   "metadata": {},
   "outputs": [
    {
     "data": {
      "text/html": [
       "<div>\n",
       "<style scoped>\n",
       "    .dataframe tbody tr th:only-of-type {\n",
       "        vertical-align: middle;\n",
       "    }\n",
       "\n",
       "    .dataframe tbody tr th {\n",
       "        vertical-align: top;\n",
       "    }\n",
       "\n",
       "    .dataframe thead th {\n",
       "        text-align: right;\n",
       "    }\n",
       "</style>\n",
       "<table border=\"1\" class=\"dataframe\">\n",
       "  <thead>\n",
       "    <tr style=\"text-align: right;\">\n",
       "      <th></th>\n",
       "      <th>0.001</th>\n",
       "      <th>0.01</th>\n",
       "      <th>0.1</th>\n",
       "      <th>1</th>\n",
       "      <th>10</th>\n",
       "      <th>100</th>\n",
       "      <th>1000</th>\n",
       "    </tr>\n",
       "  </thead>\n",
       "  <tbody>\n",
       "    <tr>\n",
       "      <th>test</th>\n",
       "      <td>0.701209</td>\n",
       "      <td>0.718480</td>\n",
       "      <td>0.775475</td>\n",
       "      <td>0.785838</td>\n",
       "      <td>0.782383</td>\n",
       "      <td>0.782383</td>\n",
       "      <td>0.780656</td>\n",
       "    </tr>\n",
       "    <tr>\n",
       "      <th>train</th>\n",
       "      <td>0.689148</td>\n",
       "      <td>0.727626</td>\n",
       "      <td>0.782534</td>\n",
       "      <td>0.795936</td>\n",
       "      <td>0.794639</td>\n",
       "      <td>0.795504</td>\n",
       "      <td>0.795504</td>\n",
       "    </tr>\n",
       "  </tbody>\n",
       "</table>\n",
       "</div>"
      ],
      "text/plain": [
       "          0.001      0.01       0.1         1        10       100      1000\n",
       "test   0.701209  0.718480  0.775475  0.785838  0.782383  0.782383  0.780656\n",
       "train  0.689148  0.727626  0.782534  0.795936  0.794639  0.795504  0.795504"
      ]
     },
     "execution_count": 35,
     "metadata": {},
     "output_type": "execute_result"
    }
   ],
   "source": [
    "pd.DataFrame(accuracies)"
   ]
  },
  {
   "cell_type": "code",
   "execution_count": 36,
   "metadata": {},
   "outputs": [
    {
     "data": {
      "text/plain": [
       "LogisticRegression(C=1, class_weight=None, dual=False, fit_intercept=True,\n",
       "          intercept_scaling=1, max_iter=100, multi_class='ovr', n_jobs=1,\n",
       "          penalty='l2', random_state=None, solver='liblinear', tol=0.0001,\n",
       "          verbose=0, warm_start=False)"
      ]
     },
     "execution_count": 36,
     "metadata": {},
     "output_type": "execute_result"
    }
   ],
   "source": [
    "regression = linear_model.LogisticRegression(C=1)\n",
    "regression.fit(x_train, y_train)"
   ]
  },
  {
   "cell_type": "code",
   "execution_count": 37,
   "metadata": {},
   "outputs": [],
   "source": [
    "y_pred = regression.predict(x_test)"
   ]
  },
  {
   "cell_type": "markdown",
   "metadata": {},
   "source": [
    "Jetzt ist die Accuracy zwar gesunken:"
   ]
  },
  {
   "cell_type": "code",
   "execution_count": 38,
   "metadata": {},
   "outputs": [
    {
     "data": {
      "text/plain": [
       "0.7858376511226253"
      ]
     },
     "execution_count": 38,
     "metadata": {},
     "output_type": "execute_result"
    }
   ],
   "source": [
    "metrics.accuracy_score(y_test, y_pred) "
   ]
  },
  {
   "cell_type": "markdown",
   "metadata": {},
   "source": [
    "Diesmal werden aber beide Klassen vorhergesagt:"
   ]
  },
  {
   "cell_type": "code",
   "execution_count": 39,
   "metadata": {},
   "outputs": [
    {
     "name": "stdout",
     "output_type": "stream",
     "text": [
      "Vorhergesagte Klassen: [0 1]\n"
     ]
    }
   ],
   "source": [
    "print(\"Vorhergesagte Klassen:\", np.unique(y_pred))"
   ]
  },
  {
   "cell_type": "markdown",
   "metadata": {},
   "source": [
    "In einem realistischen Verhältnis:"
   ]
  },
  {
   "cell_type": "code",
   "execution_count": 40,
   "metadata": {},
   "outputs": [
    {
     "data": {
      "text/plain": [
       "Counter({0: 444, 1: 135})"
      ]
     },
     "execution_count": 40,
     "metadata": {},
     "output_type": "execute_result"
    }
   ],
   "source": [
    "collections.Counter(y_pred)"
   ]
  },
  {
   "cell_type": "markdown",
   "metadata": {},
   "source": [
    "### 5.5. Klassifikator 2: Künstliches neuronales Netz <a name=\"klassifikator-2-künstliches-neuronales-netz\"></a>\n",
    "\n",
    "Der zweite Klassifikator, ein künstliches neuronales Netz, wird mithilfe von [`keras`](https://keras.io/), einer *high-level neural networks* API, mit den identischen Daten trainiert und evaluiert. Im Backend wird die von Google entwickelte Bibliothek [TensorFlow](https://www.tensorflow.org/) verwendet.\n",
    "\n",
    "Der Datensatz muss erneut vorbereitet werden, da ein LSTM die Eingabe, anders als eine klassische logistische Regression, in einem 3-dimensionalen, und die Labels in einem 2-dimensionalen Format erwartet.\n",
    "\n",
    "Zunächst werden folgende Grundbegriffe eingeführt und erläutert:\n",
    "\n",
    "- **Activation**: Eine sogenannte Aktivierungsfunktion, von der abhängt, welche Ausgabe ein _hidden node_ produziert.\n",
    "- **Dropout**: Eine Regularisierungstechnik, die darauf abzielt, die Komplexität des Modells zu reduzieren, um Overfitting vorzubeugen. \n",
    "- **Dense**: Ein _layer_, bei der jedes Neuron mit jedem Neuron im nächsten _layer_ verbunden ist.\n",
    "- **Optimizer**: Optimierungsalgorithmen helfen, die Verlustfunktion, die von den internen lernfähigen Parametern abhängt, zu minimieren.\n",
    "- **Timesteps**: Die Zahl der Schritte, die das LSTM zurückgehen soll, um Fehler zu korrigieren.\n",
    "- **Hidden nodes** oder **units**: Die Zahl der Neuronen eines _layers_. Je größer diese Zahl, desto _mächtiger_ wird das neuronale Netz, desto mehr Parameter werden gelernt, desto rechen- und zeitintensiver wird das Training.\n",
    "- **Layer**: Ein künstliches neuronales Netz besteht aus _Schichten_. Wenn es mehr als zwei Schichten gibt, spricht man von einem _deep neural network_.\n",
    "- **Input dimension**: Die Dimensionen der Eingabedaten – in diesem Fall 7, weil eine Instanz duch 7 Features dargestellt wird.\n",
    "- **Batch size**: Definiert die Anzahl der Samples, die auf einmal durch das Netzwerk getrieben werden.\n",
    "- **Epoch**: _Alle_ Trainingsdaten werden einmal vorwärts, und einmal rückwärts durch das Netzwerk getrieben, normalerweise nicht komplett auf einmal, sondern in _batches_.\n",
    "- **Learning rate**: Gibt an, wie sehr die Gewichte pro _batch_ aktualisiert werden, und wird im _optimizer_ definiert."
   ]
  },
  {
   "cell_type": "code",
   "execution_count": 41,
   "metadata": {},
   "outputs": [
    {
     "name": "stderr",
     "output_type": "stream",
     "text": [
      "Using TensorFlow backend.\n"
     ]
    }
   ],
   "source": [
    "from keras.utils import np_utils\n",
    "\n",
    "def preprocess_data(x_train, x_test, y_train, y_test, timestep=1):\n",
    "    x_train = x_train.reshape(x_train.shape[0], timestep, x_train.shape[1])\n",
    "    x_test = x_test.reshape(x_test.shape[0], timestep, x_test.shape[1])\n",
    "    y_train = np_utils.to_categorical(y_train, 2)\n",
    "    y_test = np_utils.to_categorical(y_test, 2)\n",
    "    return x_train, x_test, y_train, y_test"
   ]
  },
  {
   "cell_type": "markdown",
   "metadata": {},
   "source": [
    "In der Funktion `preprocess_data()` werden die Daten in die passende Form gebracht:"
   ]
  },
  {
   "cell_type": "code",
   "execution_count": 42,
   "metadata": {},
   "outputs": [
    {
     "name": "stdout",
     "output_type": "stream",
     "text": [
      "Shape Trainingsdaten: (2313, 1, 7)\n",
      "Shape Labels: (2313, 2)\n"
     ]
    }
   ],
   "source": [
    "x_train_lstm, x_test_lstm, y_train_lstm, y_test_lstm = preprocess_data(x_train, x_test, y_train, y_test)\n",
    "\n",
    "print(\"Shape Trainingsdaten:\", x_train_lstm.shape)\n",
    "print(\"Shape Labels:\", y_train_lstm.shape)"
   ]
  },
  {
   "cell_type": "markdown",
   "metadata": {},
   "source": [
    "In der Funktion `construct_model()` wird die Architektur des künstlichen neuronalen Netzes festgelegt (vgl. Abbildung in [5.1.](#eine-theoretische-annaeherung-an-lstm-netzwerke)). Das Modell wird kompiliert zurückgegeben und verwendet als Verlustfunktion die mittlere quadratische Abweichung (MSE) und als Evaluationsmaß die Accuracy."
   ]
  },
  {
   "cell_type": "code",
   "execution_count": 43,
   "metadata": {},
   "outputs": [],
   "source": [
    "from keras.models import Sequential\n",
    "from keras.layers import LSTM, Dense, Dropout, Activation\n",
    "from keras.optimizers import Adam\n",
    "\n",
    "def construct_model(input_shape, output_units):\n",
    "    model = Sequential()\n",
    "    model.add(LSTM(units=512, input_shape=input_shape, name=\"Input\"))\n",
    "    model.add(Activation(\"relu\", name=\"ActivateInput\"))\n",
    "    model.add(Dropout(rate=0.026079803111884514, name=\"DropoutInput\"))\n",
    "    model.add(Dense(units=512, name=\"HiddenLayer\"))\n",
    "    model.add(Activation(\"linear\", name=\"ActivateHiddenLayer\"))\n",
    "    model.add(Dropout(rate=0.4371162594318422, name=\"DropoutHiddenLayer\"))\n",
    "    model.add(Dense(units=output_units, name=\"Output\"))\n",
    "    model.add(Activation(\"softmax\", name=\"ActivateOutput\"))\n",
    "\n",
    "    optimizer = Adam(lr=0.005)\n",
    "\n",
    "    model.compile(loss=\"mse\", optimizer=optimizer, metrics=[\"accuracy\"])\n",
    "    return model"
   ]
  },
  {
   "cell_type": "markdown",
   "metadata": {},
   "source": [
    "Alle Komponenten haben bereits bestimmte Parameter eingestellt. Diese sogenannten Hyperparameter wurden Schritt für Schritt mithilfe des Pakets [`hyperas`](https://github.com/maxpumperla/hyperas) optimiert.\n",
    "\n",
    "Für jeden zu optimierenden Hyperparameter wird eine Reihe von möglichen Werten eingesetzt, `hyperas` trainiert mehrere Modelle, vergleicht das Ergebnis des MSE und der Accuracy, und gibt den Parameter zurück, der zu den besten Ergebnisse geführt hat. Die Syntax für die Optimierung der Aktivierungsfunktion ist beispielsweise folgende:\n",
    "\n",
    "```python\n",
    "    model.add(Activation({{choice([\"softmax\", \"linear\", \"relu\", \"sigmoid\"])}}))\n",
    "```\n",
    "\n",
    "`hyperas` interpretiert die Werte in den geschweiften Klammern als Parameterwerte und erstellt entsprechend vier Modelle."
   ]
  },
  {
   "cell_type": "markdown",
   "metadata": {},
   "source": [
    "Hier wird nun das Modell definiert mit einem Timestep von 1, einer Eingabedimension von 7, und einer Ausgabedimension von 2:"
   ]
  },
  {
   "cell_type": "code",
   "execution_count": 44,
   "metadata": {},
   "outputs": [],
   "source": [
    "lstm = construct_model(input_shape=(1, 7),\n",
    "                       output_units=2)"
   ]
  },
  {
   "cell_type": "markdown",
   "metadata": {},
   "source": [
    "Mit der Methode `summary()` kann eine Zusammenfassung der Netzarchitektur ausgegeben werden. In dem Modell werden insgesamt 1.328.642 Parameter gelernt:"
   ]
  },
  {
   "cell_type": "code",
   "execution_count": 45,
   "metadata": {},
   "outputs": [
    {
     "name": "stdout",
     "output_type": "stream",
     "text": [
      "_________________________________________________________________\n",
      "Layer (type)                 Output Shape              Param #   \n",
      "=================================================================\n",
      "Input (LSTM)                 (None, 512)               1064960   \n",
      "_________________________________________________________________\n",
      "ActivateInput (Activation)   (None, 512)               0         \n",
      "_________________________________________________________________\n",
      "DropoutInput (Dropout)       (None, 512)               0         \n",
      "_________________________________________________________________\n",
      "HiddenLayer (Dense)          (None, 512)               262656    \n",
      "_________________________________________________________________\n",
      "ActivateHiddenLayer (Activat (None, 512)               0         \n",
      "_________________________________________________________________\n",
      "DropoutHiddenLayer (Dropout) (None, 512)               0         \n",
      "_________________________________________________________________\n",
      "Output (Dense)               (None, 2)                 1026      \n",
      "_________________________________________________________________\n",
      "ActivateOutput (Activation)  (None, 2)                 0         \n",
      "=================================================================\n",
      "Total params: 1,328,642\n",
      "Trainable params: 1,328,642\n",
      "Non-trainable params: 0\n",
      "_________________________________________________________________\n"
     ]
    }
   ],
   "source": [
    "lstm.summary()"
   ]
  },
  {
   "cell_type": "markdown",
   "metadata": {},
   "source": [
    "Jetzt wird das künstliche neuronale Netz trainiert. Wenn das Argument `verbose` auf 1 gesetzt ist, wird der Zustand der aktuellen Epoch ausgegeben. Die _batch size_ wurde auf 16 festgelegt (dieser Wert wurde im Rahmen der Hyperparameteroptimierung ermittelt). Als Validierungsdaten wird das Testdatenset, wie bei der logistischen Regression, übergeben:"
   ]
  },
  {
   "cell_type": "code",
   "execution_count": 46,
   "metadata": {},
   "outputs": [],
   "source": [
    "history = lstm.fit(x=x_train_lstm,\n",
    "                   y=y_train_lstm,\n",
    "                   epochs=100,\n",
    "                   batch_size=16,\n",
    "                   verbose=0,\n",
    "                   validation_data=(x_test_lstm, y_test_lstm))"
   ]
  },
  {
   "cell_type": "markdown",
   "metadata": {},
   "source": [
    "Das fertige Modell kann mit der entsprechenden Methode gespeichert:\n",
    "\n",
    "```python\n",
    ">>> lstm.save(\"model.h5\")\n",
    "```\n",
    "\n",
    "oder wieder geladen werden:\n",
    "\n",
    "```python\n",
    ">>> from keras.models import load_model\n",
    ">>> lstm = load_model(\"model.h5\")\n",
    "```\n",
    "\n",
    "Das fertige Modell kann über [diesen Link](https://drive.google.com/file/d/1LlcYt7Pdg-wzmERaHVRJlZqD5zWKxKO0/view?usp=sharing) heruntergeladen werden (~16MB)."
   ]
  },
  {
   "cell_type": "markdown",
   "metadata": {},
   "source": [
    "Der MSE und die Accuracy für Trainings- und Testdaten wurde nach jeder Epoch gespeichert und können über das Attribut `history` eingesehen werden:"
   ]
  },
  {
   "cell_type": "code",
   "execution_count": 47,
   "metadata": {},
   "outputs": [
    {
     "data": {
      "text/html": [
       "<div>\n",
       "<style scoped>\n",
       "    .dataframe tbody tr th:only-of-type {\n",
       "        vertical-align: middle;\n",
       "    }\n",
       "\n",
       "    .dataframe tbody tr th {\n",
       "        vertical-align: top;\n",
       "    }\n",
       "\n",
       "    .dataframe thead th {\n",
       "        text-align: right;\n",
       "    }\n",
       "</style>\n",
       "<table border=\"1\" class=\"dataframe\">\n",
       "  <thead>\n",
       "    <tr style=\"text-align: right;\">\n",
       "      <th></th>\n",
       "      <th>val_loss</th>\n",
       "      <th>val_acc</th>\n",
       "      <th>loss</th>\n",
       "      <th>acc</th>\n",
       "    </tr>\n",
       "  </thead>\n",
       "  <tbody>\n",
       "    <tr>\n",
       "      <th>count</th>\n",
       "      <td>100.000000</td>\n",
       "      <td>100.000000</td>\n",
       "      <td>100.000000</td>\n",
       "      <td>100.000000</td>\n",
       "    </tr>\n",
       "    <tr>\n",
       "      <th>mean</th>\n",
       "      <td>0.110439</td>\n",
       "      <td>0.843022</td>\n",
       "      <td>0.102828</td>\n",
       "      <td>0.858240</td>\n",
       "    </tr>\n",
       "    <tr>\n",
       "      <th>std</th>\n",
       "      <td>0.011639</td>\n",
       "      <td>0.017224</td>\n",
       "      <td>0.012527</td>\n",
       "      <td>0.018136</td>\n",
       "    </tr>\n",
       "    <tr>\n",
       "      <th>min</th>\n",
       "      <td>0.092449</td>\n",
       "      <td>0.796200</td>\n",
       "      <td>0.088126</td>\n",
       "      <td>0.774319</td>\n",
       "    </tr>\n",
       "    <tr>\n",
       "      <th>25%</th>\n",
       "      <td>0.101386</td>\n",
       "      <td>0.832470</td>\n",
       "      <td>0.094712</td>\n",
       "      <td>0.853329</td>\n",
       "    </tr>\n",
       "    <tr>\n",
       "      <th>50%</th>\n",
       "      <td>0.108221</td>\n",
       "      <td>0.844560</td>\n",
       "      <td>0.098826</td>\n",
       "      <td>0.862732</td>\n",
       "    </tr>\n",
       "    <tr>\n",
       "      <th>75%</th>\n",
       "      <td>0.116251</td>\n",
       "      <td>0.854922</td>\n",
       "      <td>0.107123</td>\n",
       "      <td>0.870082</td>\n",
       "    </tr>\n",
       "    <tr>\n",
       "      <th>max</th>\n",
       "      <td>0.147540</td>\n",
       "      <td>0.877375</td>\n",
       "      <td>0.158943</td>\n",
       "      <td>0.880674</td>\n",
       "    </tr>\n",
       "  </tbody>\n",
       "</table>\n",
       "</div>"
      ],
      "text/plain": [
       "         val_loss     val_acc        loss         acc\n",
       "count  100.000000  100.000000  100.000000  100.000000\n",
       "mean     0.110439    0.843022    0.102828    0.858240\n",
       "std      0.011639    0.017224    0.012527    0.018136\n",
       "min      0.092449    0.796200    0.088126    0.774319\n",
       "25%      0.101386    0.832470    0.094712    0.853329\n",
       "50%      0.108221    0.844560    0.098826    0.862732\n",
       "75%      0.116251    0.854922    0.107123    0.870082\n",
       "max      0.147540    0.877375    0.158943    0.880674"
      ]
     },
     "execution_count": 47,
     "metadata": {},
     "output_type": "execute_result"
    }
   ],
   "source": [
    "history = pd.DataFrame(history.history)\n",
    "history.describe()"
   ]
  },
  {
   "cell_type": "markdown",
   "metadata": {},
   "source": [
    "Damit kann gezeigt werden, wie das künstliche neuronale Netz nach jeder Epoch besser wird:"
   ]
  },
  {
   "cell_type": "code",
   "execution_count": 48,
   "metadata": {},
   "outputs": [],
   "source": [
    "def plot_history(data, measure):\n",
    "    if measure == \"accuracy\":\n",
    "        cols = [\"acc\", \"val_acc\"]\n",
    "        ylabel = \"Accuracy\"\n",
    "    elif measure == \"loss\":\n",
    "        cols = [\"loss\", \"val_loss\"]\n",
    "        ylabel = \"Mean Squared Error\"\n",
    "    data = data.loc[:, cols]\n",
    "    data.columns = [\"Train\", \"Test\"]\n",
    "    ax = data.plot(style=[\":\", \"-\"], color=\"black\")\n",
    "    ax.set_xlabel(\"Epoch\")\n",
    "    ax.set_ylabel(ylabel)\n",
    "    if measure == \"accuracy\":\n",
    "        ax.set_yticklabels([\"{:,.0%}\".format(tick) for tick in ax.get_yticks()])\n",
    "    return ax"
   ]
  },
  {
   "cell_type": "markdown",
   "metadata": {},
   "source": [
    "#### Accuracy"
   ]
  },
  {
   "cell_type": "code",
   "execution_count": 49,
   "metadata": {},
   "outputs": [
    {
     "data": {
      "image/png": "[encoded data removed]",
      "text/plain": [
       "<Figure size 432x288 with 1 Axes>"
      ]
     },
     "metadata": {
      "needs_background": "light"
     },
     "output_type": "display_data"
    }
   ],
   "source": [
    "ax = plot_history(history, measure=\"accuracy\")"
   ]
  },
  {
   "cell_type": "markdown",
   "metadata": {},
   "source": [
    "#### MSE"
   ]
  },
  {
   "cell_type": "code",
   "execution_count": 50,
   "metadata": {},
   "outputs": [
    {
     "data": {
      "image/png": "[encoded data removed]",
      "text/plain": [
       "<Figure size 432x288 with 1 Axes>"
      ]
     },
     "metadata": {
      "needs_background": "light"
     },
     "output_type": "display_data"
    }
   ],
   "source": [
    "ax = plot_history(history, measure=\"loss\")"
   ]
  },
  {
   "cell_type": "markdown",
   "metadata": {},
   "source": [
    "### 6. Performance im Vergleich <a name=\"performance\"></a>\n",
    "\n",
    "In dem letzten inhaltlichen Teil der Arbeit wird zunächst die Performance der zwei trainierten Klassifikatoren gegenüber gestellt, und anschließend mit den Ergebnissen von Beck _et al._ (2000) verglichen."
   ]
  },
  {
   "cell_type": "markdown",
   "metadata": {},
   "source": [
    "### 6.1.1. LSTM und logistische Regression <a name=\"lstm-und-logistische-regression\"></a>\n",
    "\n",
    "Dafür werden zunächst _Wahrscheinlichkeiten_ für die Testdaten vorhergesagt:"
   ]
  },
  {
   "cell_type": "code",
   "execution_count": 51,
   "metadata": {},
   "outputs": [],
   "source": [
    "y_score_regression = regression.predict_proba(x_test)\n",
    "y_score_lstm = lstm.predict_proba(x_test_lstm)"
   ]
  },
  {
   "cell_type": "markdown",
   "metadata": {},
   "source": [
    "Und anschließend eine Funktion definiert, die eine sogenannte ROC Kurve visualisiert und den AUC Wert berechnet.\n",
    "\n",
    "> **Exkurs: ROC und AUC**\n",
    ">\n",
    "> Die Receiver-Operating-Characteristic-Kurve (oder: ROC-Kurve) setzt die True-Positive mit der False-Positive Rate eines Klassifikators in Relation, und beschreibt somit die Performanz bzw. die Qualität der Prognosen. Die Fläche unterhalb der Kurve, die _area under curve_ (AUC), beschreibt die Qualität der Vorhersagen in einer einzigen Zahl, die zwischen 0 und 1 liegt."
   ]
  },
  {
   "cell_type": "code",
   "execution_count": 52,
   "metadata": {},
   "outputs": [],
   "source": [
    "def plot_roc_auc(y_scores):\n",
    "    fig, ax = plt.subplots()\n",
    "    ax.plot([0, 1], [0, 1], \"--\", color=\"black\")\n",
    "    for marker, model in zip([\"-\", \":\"], y_scores):\n",
    "        y_score, y_test = y_scores[model]\n",
    "        fpr, tpr, _ = metrics.roc_curve(y_test, y_score)\n",
    "        auc = metrics.auc(fpr, tpr)\n",
    "        ax.plot(fpr, tpr, color=\"black\", linestyle=marker, label=f\"{model} (AUC = {round(auc, 2)})\")\n",
    "    ax.legend(loc=\"best\")\n",
    "    ax.set_xlabel(\"False Positive Rate\")\n",
    "    ax.set_ylabel(\"True Positive Rate\")\n",
    "    ax.set_xlim([0.0, 1.0])\n",
    "    ax.set_ylim([0.0, 1.03])\n",
    "    return ax"
   ]
  },
  {
   "cell_type": "markdown",
   "metadata": {},
   "source": [
    "Wie zu erkennen ist, macht das LSTM mit einem AUC Wert von 0,93 bessere Prognosen als die logistische Regression."
   ]
  },
  {
   "cell_type": "code",
   "execution_count": 53,
   "metadata": {},
   "outputs": [
    {
     "data": {
      "image/png": "[encoded data removed]",
      "text/plain": [
       "<Figure size 432x288 with 1 Axes>"
      ]
     },
     "metadata": {
      "needs_background": "light"
     },
     "output_type": "display_data"
    }
   ],
   "source": [
    "y_scores = {\"LSTM\": (y_score_lstm[:, 1], y_test),\n",
    "            \"Logistic Regression\": (y_score_regression[:, 1], y_test)}\n",
    "ax = plot_roc_auc(y_scores)"
   ]
  },
  {
   "cell_type": "markdown",
   "metadata": {},
   "source": [
    "### 6.1.2. Beck _et al._ und die hier vorgestellten Klassifikatoren <a name=\"beck-et-al-und-die-hier-vorgestellten-klassifikatoren\"></a>"
   ]
  },
  {
   "cell_type": "markdown",
   "metadata": {},
   "source": [
    "Beck _et al._ (2000) bewerten ihre Modelle anhand der Genauigkeit der Prognosen. Dafür teilen sie den gesamten Datensatz nach Klassen auf, und machen für verschiedene Zeitperioden Vorhersagen, die evaluiert werden. Das schließt sowohl deren Trainingsdaten (1947-1985), als auch Testdaten (1986-1989) ein. Das _logit model_ hat eine durchschnittliche Genauigkeit von 50%, das neuronale Netz 62%.\n",
    "\n",
    "Der untenstehenden Tabelle sind die Werte der hier vorgestellten, neuen Modelle zu entnehmen.\n",
    "\n",
    "<table>\n",
    "  <tr>\n",
    "    <td></td>\n",
    "    <td><b>Conflict: % Correct</b></td>\n",
    "    <td></td>\n",
    "    <td></td>\n",
    "    <td></td>\n",
    "    <td></td>\n",
    "    <td><b>Peace: % Correct</b></td>\n",
    "    <td></td>\n",
    "    <td></td>\n",
    "    <td></td>\n",
    "    <td></td>\n",
    "  </tr>\n",
    "  <tr>\n",
    "    <td><b>Year</b></td>\n",
    "    <td><b>Logit (Beck _et al._)</b></td>\n",
    "    <td><b>NN (Beck _et al._)</b></td>\n",
    "    <td><b>Logit (Simmler)</b></td>\n",
    "    <td><b>LSTM (Simmler)</b></td>\n",
    "    <td><b>Number of 1s</b></td>\n",
    "    <td><b>Logit (Beck _et al._)</b></td>\n",
    "    <td><b>NN (Beck _et al._)</b></td>\n",
    "    <td><b>Logit (Simmler)</b></td>\n",
    "    <td><b>LSTM (Simmler)</b></td>\n",
    "    <td><b>Number of 0s</b></td>\n",
    "  </tr>\n",
    "  <tr>\n",
    "    <td><b>1947-85</b></td>\n",
    "    <td>0</td>\n",
    "    <td>25,3</td>\n",
    "    <td>57,85</td>\n",
    "    <td>70,85</td>\n",
    "    <td>892</td>\n",
    "    <td>100</td>\n",
    "    <td>99,58</td>\n",
    "    <td>89,61</td>\n",
    "    <td>80,6</td>\n",
    "    <td>20.155</td>\n",
    "  </tr>\n",
    "  <tr>\n",
    "    <td><b>1986</b></td>\n",
    "    <td>0</td>\n",
    "    <td>18,5</td>\n",
    "    <td>55,56</td>\n",
    "    <td>77,78</td>\n",
    "    <td>27</td>\n",
    "    <td>100</td>\n",
    "    <td>99,83</td>\n",
    "    <td>93,66</td>\n",
    "    <td>84,08</td>\n",
    "    <td>584</td>\n",
    "  </tr>\n",
    "  <tr>\n",
    "    <td><b>1987</b></td>\n",
    "    <td>0</td>\n",
    "    <td>14,3</td>\n",
    "    <td>53,57</td>\n",
    "    <td>71,43</td>\n",
    "    <td>28</td>\n",
    "    <td>100</td>\n",
    "    <td>98,98</td>\n",
    "    <td>93,19</td>\n",
    "    <td>85,52</td>\n",
    "    <td>587</td>\n",
    "  </tr>\n",
    "  <tr>\n",
    "    <td><b>1988</b></td>\n",
    "    <td>0</td>\n",
    "    <td>23,1</td>\n",
    "    <td>84,62</td>\n",
    "    <td>92,3</td>\n",
    "    <td>13</td>\n",
    "    <td>100</td>\n",
    "    <td>99,34</td>\n",
    "    <td>91,46</td>\n",
    "    <td>82,76</td>\n",
    "    <td>609</td>\n",
    "  </tr>\n",
    "  <tr>\n",
    "    <td><b>1989</b></td>\n",
    "    <td>0</td>\n",
    "    <td>12,5</td>\n",
    "    <td>62,5</td>\n",
    "    <td>87,5</td>\n",
    "    <td>16</td>\n",
    "    <td>100</td>\n",
    "    <td>99,51</td>\n",
    "    <td>92,07</td>\n",
    "    <td>82,85</td>\n",
    "    <td>618</td>\n",
    "  </tr>\n",
    "  <tr>\n",
    "    <td><b>1986-89</b></td>\n",
    "    <td>0</td>\n",
    "    <td>16,7</td>\n",
    "    <td>57,14</td>\n",
    "    <td>78,57</td>\n",
    "    <td>84</td>\n",
    "    <td>100</td>\n",
    "    <td>99,42</td>\n",
    "    <td>92,49</td>\n",
    "    <td>83,53</td>\n",
    "    <td>2.398</td>\n",
    "  </tr>\n",
    "  <tr>\n",
    "    <td><b>Total</b></td>\n",
    "    <td>0</td>\n",
    "    <td>24,6</td>\n",
    "    <td>59,02</td>\n",
    "    <td>72,74</td>\n",
    "    <td>976</td>\n",
    "    <td>100</td>\n",
    "    <td>99,57</td>\n",
    "    <td>89,19</td>\n",
    "      <td>80,02</td>\n",
    "    <td>22.553</td>\n",
    "  </tr>\n",
    "</table>\n",
    "\n",
    "Hier hat die logistische Regression eine durchschnittliche Accuracy von 74%, das LSTM hingegen _nur_ 76%. Beide Modelle sind durch den Ausgleich der unsymmetrischen Trainingsdaten überraschend gut, in jedem Fall deutlich besser als die Ergebnisse von Beck _et al._. Besonders interessant ist, dass die logistische Regression bessere Vorhersagen für Frieden, und das LSTM bessere Vorhersagen für Konflikt macht.\n",
    "\n",
    "> Ein binärer Klassifikator ist wertvoller, wenn er, wie das LSTM und im Grunde auch die hier vorgestellte logistische Regression, für _beide_ Klassen ungefähr gleichwertige Ergebnisse liefert, statt für eine Klasse (nahe) 100% Accuracy, und für die andere deutlich unter 50%."
   ]
  },
  {
   "cell_type": "markdown",
   "metadata": {},
   "source": [
    "### 7. Fazit <a name=\"fazit\"></a>"
   ]
  },
  {
   "cell_type": "markdown",
   "metadata": {},
   "source": [
    "Ziel dieser Arbeit war es, Struktur in den Daten internationaler Konflikte nachzuweisen. Dafür wurden Daten und Ansatz von Nathaniel Becks, Gary Kings und Langche Zengs Aufsatz _Improving Quantitative Studies of International Conflict: A Conjecture_ aus dem Jahr 2000 adaptiert – und verbessert. Durch den Ausgleich der stark unsymmetrische Datengrundlage mithilfe eines Clustering Algorithmus, konnten sowohl mit einer logistischen Regression, als auch mit einem künstlichen neuronalen Netz, einem LSTM, ein _deutlich_ zuverlässigeres Modell erstellt werden.\n",
    "\n",
    "Es gibt nun eine ganze Reihe von Möglichkeiten die Experimente fortzusetzen, beispielsweise könnte untersucht werden, ob das LSTM mit mehr Schichten und/oder einer erneuten Hyperparameteroptimierung an Accuracy gewinnt, oder ob ein ganz simples neuronales Netz mit nur einem _hidden layer_ gleiche oder bessere Ergebnisse liefert. Eine weiterer Ansatz wäre, die Daten anders auszuwählen (zufällig statt den Zentren der Cluster), oder doch den gesamten Datensatz zu verwenden, die Instanzen aber beim Training entsprechend zu gewichten."
   ]
  },
  {
   "cell_type": "markdown",
   "metadata": {},
   "source": [
    "### 8. Anhang <a name=\"anhang\"></a>\n",
    "### 8.1. Selbstständigkeitserklärung <a name=\"selbststaendigkeitserklaerung\"></a>\n",
    "\n",
    "Hiermit versichere ich, Severin Simmler, 2028090, dass ich die vorliegende Arbeit selbstständig verfasst, keine anderen als die angegebenen Quellen und Hilfsmittel benutzt und die Prüfungsleistung bisher oder gleichzeitig keiner anderen Prüfungsbehörde vorgelegt\n",
    "habe. Alle Stellen, die anderen Werken dem Wortlaut oder dem Sinn nach entnommen sind, habe ich einzeln durch Angaben der Quelle, auch der benutzten Sekundärliteratur, als Entlehnung kenntlich gemacht."
   ]
  }
 ],
 "metadata": {
  "kernelspec": {
   "display_name": "Python 3",
   "language": "python",
   "name": "python3"
  },
  "language_info": {
   "codemirror_mode": {
    "name": "ipython",
    "version": 3
   },
   "file_extension": ".py",
   "mimetype": "text/x-python",
   "name": "python",
   "nbconvert_exporter": "python",
   "pygments_lexer": "ipython3",
   "version": "3.6.6"
  }
 },
 "nbformat": 4,
 "nbformat_minor": 2
}
